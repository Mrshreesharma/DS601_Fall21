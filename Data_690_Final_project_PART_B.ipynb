{
  "nbformat": 4,
  "nbformat_minor": 0,
  "metadata": {
    "colab": {
      "name": "Data 690 Final project PART B.ipynb",
      "provenance": [],
      "collapsed_sections": [],
      "include_colab_link": true
    },
    "kernelspec": {
      "display_name": "Python 3",
      "name": "python3"
    },
    "language_info": {
      "name": "python"
    }
  },
  "cells": [
    {
      "cell_type": "markdown",
      "metadata": {
        "id": "view-in-github",
        "colab_type": "text"
      },
      "source": [
        "<a href=\"https://colab.research.google.com/github/Mrshreesharma/DS601_Fall21/blob/main/Data_690_Final_project_PART_B.ipynb\" target=\"_parent\"><img src=\"https://colab.research.google.com/assets/colab-badge.svg\" alt=\"Open In Colab\"/></a>"
      ]
    },
    {
      "cell_type": "markdown",
      "metadata": {
        "id": "E-V3XB-IoSDl"
      },
      "source": [
        "#**Title: The Impact of Women Leadership on Economic Growth**\n",
        " Name: Shree Sharma\n",
        " \n",
        " DATA 690 Final Project PART 2\n",
        "\n",
        "  Women’s leadership and their participation in the workforce across the globe has been left without proper acknowledgement for quite some time now. Women’s economic empowerment comprises of many factors such as women’s ability to participate equally in existing markets, their meaningful participation in the economic decision-making at all the level, or leading international tech-giants around the world. In this report I’ll be discussing about the potential significance of the women leadership on economic growth on the global front by exploring the existing knowledge and research. In my opinion, this topic is still considered to be less explored and raises a big question on the male-dominant society regarding the availability of opportunities and choices."
      ]
    },
    {
      "cell_type": "code",
      "metadata": {
        "id": "dPR0a5Iov5_-"
      },
      "source": [
        "#Importing relevant libraries\n",
        "\n",
        "import pandas as pd\n",
        "import pandas as pd\n",
        "import plotly.express as px\n",
        "import plotly.io as pio"
      ],
      "execution_count": 1,
      "outputs": []
    },
    {
      "cell_type": "code",
      "metadata": {
        "colab": {
          "base_uri": "https://localhost:8080/"
        },
        "id": "KGQrg9s9x0XA",
        "outputId": "4fed319d-83bd-43b5-aa6d-4e4b58064457"
      },
      "source": [
        "import plotly\n",
        "\n",
        "print(plotly.__version__)"
      ],
      "execution_count": 2,
      "outputs": [
        {
          "output_type": "stream",
          "name": "stdout",
          "text": [
            "5.4.0\n"
          ]
        }
      ]
    },
    {
      "cell_type": "code",
      "metadata": {
        "colab": {
          "base_uri": "https://localhost:8080/"
        },
        "id": "PmxV16x-xMbO",
        "outputId": "d6898aa9-6b0e-414b-9893-c387ef038b82"
      },
      "source": [
        "!pip install plotly --upgrade"
      ],
      "execution_count": 3,
      "outputs": [
        {
          "output_type": "stream",
          "name": "stdout",
          "text": [
            "Requirement already satisfied: plotly in /usr/local/lib/python3.7/dist-packages (5.4.0)\n",
            "Requirement already satisfied: six in /usr/local/lib/python3.7/dist-packages (from plotly) (1.15.0)\n",
            "Requirement already satisfied: tenacity>=6.2.0 in /usr/local/lib/python3.7/dist-packages (from plotly) (8.0.1)\n"
          ]
        }
      ]
    },
    {
      "cell_type": "code",
      "metadata": {
        "colab": {
          "base_uri": "https://localhost:8080/"
        },
        "id": "DE3nl8lFxQql",
        "outputId": "d0ba5afe-f0d2-4db0-b30d-fc6aa3e199cf"
      },
      "source": [
        "#Having a look at all the templates on offer\n",
        "\n",
        "pio.templates"
      ],
      "execution_count": 4,
      "outputs": [
        {
          "output_type": "execute_result",
          "data": {
            "text/plain": [
              "Templates configuration\n",
              "-----------------------\n",
              "    Default template: 'plotly'\n",
              "    Available templates:\n",
              "        ['ggplot2', 'seaborn', 'simple_white', 'plotly',\n",
              "         'plotly_white', 'plotly_dark', 'presentation', 'xgridoff',\n",
              "         'ygridoff', 'gridon', 'none']"
            ]
          },
          "metadata": {},
          "execution_count": 4
        }
      ]
    },
    {
      "cell_type": "code",
      "metadata": {
        "id": "uLKe0N_1xUmP"
      },
      "source": [
        "#Selecting a template for visualizations\n",
        "\n",
        "pio.templates.default = \"plotly_dark\""
      ],
      "execution_count": 5,
      "outputs": []
    },
    {
      "cell_type": "markdown",
      "metadata": {
        "id": "u7YJzvqGV3Su"
      },
      "source": [
        "#### Note: These indicators will be used throughout the notebook, these are their meanings.\n",
        "\n",
        "- NY.GDP.PCAP.PP.CD -: This indicator allows us to access the data for GDP, per capita for all the countries.\n",
        "-IC.FRM.FEMM.ZS - Firms with female top managers (% of firms)\n",
        "- IC.FRM.FEMO.ZS - Firms with female participation in ownership (% of firms)."
      ]
    },
    {
      "cell_type": "markdown",
      "metadata": {
        "id": "zl58bMI3G33z"
      },
      "source": [
        "## **GDP(Gross Domestic Product)  per capita(current international $)**\n",
        "\n",
        "At its most basic interpretation, per capita GDP shows how much economic production value can be attributed to each individual citizen. Alternatively, this translates to a measure of national wealth since GDP market value per person also readily serves as a prosperity measure. To analyse the women’s role in the economic growth we must dive deep into the changes that took place in the global economy. Below is the choropleth representation that shows us the GDP per capita for the year 2015.\n",
        "\n"
      ]
    },
    {
      "cell_type": "code",
      "metadata": {
        "colab": {
          "base_uri": "https://localhost:8080/",
          "height": 143
        },
        "id": "gsH5p3D4wBLU",
        "outputId": "1621e3f6-7ea2-412c-b7ee-1dc88573e88f"
      },
      "source": [
        "#  GDP per capita(current international $)\n",
        "\n",
        "#This data is obtained from the world bank website\n",
        "#Reading the GDP per capita data into a dataframe\n",
        "\n",
        "df_1=pd.read_csv('https://raw.githubusercontent.com/Mrshreesharma/DS601_Fall21/main/Data690/first%20fig.csv')\n",
        "df_1.head(3)"
      ],
      "execution_count": 6,
      "outputs": [
        {
          "output_type": "execute_result",
          "data": {
            "text/html": [
              "<div>\n",
              "<style scoped>\n",
              "    .dataframe tbody tr th:only-of-type {\n",
              "        vertical-align: middle;\n",
              "    }\n",
              "\n",
              "    .dataframe tbody tr th {\n",
              "        vertical-align: top;\n",
              "    }\n",
              "\n",
              "    .dataframe thead th {\n",
              "        text-align: right;\n",
              "    }\n",
              "</style>\n",
              "<table border=\"1\" class=\"dataframe\">\n",
              "  <thead>\n",
              "    <tr style=\"text-align: right;\">\n",
              "      <th></th>\n",
              "      <th>Unnamed: 0</th>\n",
              "      <th>Year</th>\n",
              "      <th>value</th>\n",
              "      <th>indicator</th>\n",
              "      <th>Country Code</th>\n",
              "      <th>Country Name</th>\n",
              "      <th>Region</th>\n",
              "      <th>Income Group</th>\n",
              "      <th>Lending Type</th>\n",
              "    </tr>\n",
              "  </thead>\n",
              "  <tbody>\n",
              "    <tr>\n",
              "      <th>0</th>\n",
              "      <td>0</td>\n",
              "      <td>2015</td>\n",
              "      <td>2087.305323</td>\n",
              "      <td>NY.GDP.PCAP.PP.CD</td>\n",
              "      <td>AFG</td>\n",
              "      <td>Afghanistan</td>\n",
              "      <td>South Asia</td>\n",
              "      <td>Low income</td>\n",
              "      <td>IDA</td>\n",
              "    </tr>\n",
              "    <tr>\n",
              "      <th>1</th>\n",
              "      <td>1</td>\n",
              "      <td>2016</td>\n",
              "      <td>1981.118069</td>\n",
              "      <td>NY.GDP.PCAP.PP.CD</td>\n",
              "      <td>AFG</td>\n",
              "      <td>Afghanistan</td>\n",
              "      <td>South Asia</td>\n",
              "      <td>Low income</td>\n",
              "      <td>IDA</td>\n",
              "    </tr>\n",
              "    <tr>\n",
              "      <th>2</th>\n",
              "      <td>2</td>\n",
              "      <td>2017</td>\n",
              "      <td>2058.400221</td>\n",
              "      <td>NY.GDP.PCAP.PP.CD</td>\n",
              "      <td>AFG</td>\n",
              "      <td>Afghanistan</td>\n",
              "      <td>South Asia</td>\n",
              "      <td>Low income</td>\n",
              "      <td>IDA</td>\n",
              "    </tr>\n",
              "  </tbody>\n",
              "</table>\n",
              "</div>"
            ],
            "text/plain": [
              "   Unnamed: 0  Year        value  ...      Region Income Group Lending Type\n",
              "0           0  2015  2087.305323  ...  South Asia   Low income          IDA\n",
              "1           1  2016  1981.118069  ...  South Asia   Low income          IDA\n",
              "2           2  2017  2058.400221  ...  South Asia   Low income          IDA\n",
              "\n",
              "[3 rows x 9 columns]"
            ]
          },
          "metadata": {},
          "execution_count": 6
        }
      ]
    },
    {
      "cell_type": "code",
      "source": [
        "df_1.drop(columns=[\"Unnamed: 0\"], inplace=True)"
      ],
      "metadata": {
        "colab": {
          "base_uri": "https://localhost:8080/",
          "height": 112
        },
        "id": "9wFp7ULF4h3v",
        "outputId": "e4fc416c-49a5-43e8-ee99-d9b4212ab6bd"
      },
      "execution_count": 7,
      "outputs": [
        {
          "output_type": "execute_result",
          "data": {
            "text/html": [
              "<div>\n",
              "<style scoped>\n",
              "    .dataframe tbody tr th:only-of-type {\n",
              "        vertical-align: middle;\n",
              "    }\n",
              "\n",
              "    .dataframe tbody tr th {\n",
              "        vertical-align: top;\n",
              "    }\n",
              "\n",
              "    .dataframe thead th {\n",
              "        text-align: right;\n",
              "    }\n",
              "</style>\n",
              "<table border=\"1\" class=\"dataframe\">\n",
              "  <thead>\n",
              "    <tr style=\"text-align: right;\">\n",
              "      <th></th>\n",
              "      <th>Year</th>\n",
              "      <th>value</th>\n",
              "      <th>indicator</th>\n",
              "      <th>Country Code</th>\n",
              "      <th>Country Name</th>\n",
              "      <th>Region</th>\n",
              "      <th>Income Group</th>\n",
              "      <th>Lending Type</th>\n",
              "    </tr>\n",
              "  </thead>\n",
              "  <tbody>\n",
              "    <tr>\n",
              "      <th>0</th>\n",
              "      <td>2015</td>\n",
              "      <td>2087.305323</td>\n",
              "      <td>NY.GDP.PCAP.PP.CD</td>\n",
              "      <td>AFG</td>\n",
              "      <td>Afghanistan</td>\n",
              "      <td>South Asia</td>\n",
              "      <td>Low income</td>\n",
              "      <td>IDA</td>\n",
              "    </tr>\n",
              "    <tr>\n",
              "      <th>1</th>\n",
              "      <td>2016</td>\n",
              "      <td>1981.118069</td>\n",
              "      <td>NY.GDP.PCAP.PP.CD</td>\n",
              "      <td>AFG</td>\n",
              "      <td>Afghanistan</td>\n",
              "      <td>South Asia</td>\n",
              "      <td>Low income</td>\n",
              "      <td>IDA</td>\n",
              "    </tr>\n",
              "  </tbody>\n",
              "</table>\n",
              "</div>"
            ],
            "text/plain": [
              "   Year        value          indicator  ...      Region Income Group Lending Type\n",
              "0  2015  2087.305323  NY.GDP.PCAP.PP.CD  ...  South Asia   Low income          IDA\n",
              "1  2016  1981.118069  NY.GDP.PCAP.PP.CD  ...  South Asia   Low income          IDA\n",
              "\n",
              "[2 rows x 8 columns]"
            ]
          },
          "metadata": {},
          "execution_count": 7
        }
      ]
    },
    {
      "cell_type": "code",
      "metadata": {
        "colab": {
          "base_uri": "https://localhost:8080/"
        },
        "id": "zftmqbcouHvw",
        "outputId": "cd57c935-74b2-4682-9838-cec868a7f0a8"
      },
      "source": [
        "#Checking for null values\n",
        "\n",
        "df_1.isnull().sum()"
      ],
      "execution_count": 8,
      "outputs": [
        {
          "output_type": "execute_result",
          "data": {
            "text/plain": [
              "Year            0\n",
              "value           0\n",
              "indicator       0\n",
              "Country Code    0\n",
              "Country Name    0\n",
              "Region          0\n",
              "Income Group    0\n",
              "Lending Type    0\n",
              "dtype: int64"
            ]
          },
          "metadata": {},
          "execution_count": 8
        }
      ]
    },
    {
      "cell_type": "code",
      "metadata": {
        "colab": {
          "base_uri": "https://localhost:8080/",
          "height": 112
        },
        "id": "HOgASkofYIsm",
        "outputId": "fb8b346d-7c34-4e69-b086-c7d49adfb8b0"
      },
      "source": [
        "#Renaming the columns\n",
        "\n",
        "df_1_1= df_1.rename({'Country Name': 'Country_Name', 'Country Code': 'Country_Code'}, axis=1)\n",
        "df_1_1.head(2)"
      ],
      "execution_count": 47,
      "outputs": [
        {
          "output_type": "execute_result",
          "data": {
            "text/html": [
              "<div>\n",
              "<style scoped>\n",
              "    .dataframe tbody tr th:only-of-type {\n",
              "        vertical-align: middle;\n",
              "    }\n",
              "\n",
              "    .dataframe tbody tr th {\n",
              "        vertical-align: top;\n",
              "    }\n",
              "\n",
              "    .dataframe thead th {\n",
              "        text-align: right;\n",
              "    }\n",
              "</style>\n",
              "<table border=\"1\" class=\"dataframe\">\n",
              "  <thead>\n",
              "    <tr style=\"text-align: right;\">\n",
              "      <th></th>\n",
              "      <th>Year</th>\n",
              "      <th>value</th>\n",
              "      <th>indicator</th>\n",
              "      <th>Country_Code</th>\n",
              "      <th>Country_Name</th>\n",
              "      <th>Region</th>\n",
              "      <th>Income Group</th>\n",
              "      <th>Lending Type</th>\n",
              "    </tr>\n",
              "  </thead>\n",
              "  <tbody>\n",
              "    <tr>\n",
              "      <th>0</th>\n",
              "      <td>2015</td>\n",
              "      <td>2087.305323</td>\n",
              "      <td>NY.GDP.PCAP.PP.CD</td>\n",
              "      <td>AFG</td>\n",
              "      <td>Afghanistan</td>\n",
              "      <td>South Asia</td>\n",
              "      <td>Low income</td>\n",
              "      <td>IDA</td>\n",
              "    </tr>\n",
              "    <tr>\n",
              "      <th>1</th>\n",
              "      <td>2016</td>\n",
              "      <td>1981.118069</td>\n",
              "      <td>NY.GDP.PCAP.PP.CD</td>\n",
              "      <td>AFG</td>\n",
              "      <td>Afghanistan</td>\n",
              "      <td>South Asia</td>\n",
              "      <td>Low income</td>\n",
              "      <td>IDA</td>\n",
              "    </tr>\n",
              "  </tbody>\n",
              "</table>\n",
              "</div>"
            ],
            "text/plain": [
              "   Year        value          indicator  ...      Region Income Group Lending Type\n",
              "0  2015  2087.305323  NY.GDP.PCAP.PP.CD  ...  South Asia   Low income          IDA\n",
              "1  2016  1981.118069  NY.GDP.PCAP.PP.CD  ...  South Asia   Low income          IDA\n",
              "\n",
              "[2 rows x 8 columns]"
            ]
          },
          "metadata": {},
          "execution_count": 47
        }
      ]
    },
    {
      "cell_type": "code",
      "source": [
        "#selecting only the data for Year 2015.\n",
        "df_1_2 = df_1_1[df_1_1['Year']== 2015] \n",
        "df_1_2.head(2)"
      ],
      "metadata": {
        "colab": {
          "base_uri": "https://localhost:8080/",
          "height": 112
        },
        "id": "OSXG_Li75_WH",
        "outputId": "00e58183-4640-4b60-c100-d8652240a469"
      },
      "execution_count": 10,
      "outputs": [
        {
          "output_type": "execute_result",
          "data": {
            "text/html": [
              "<div>\n",
              "<style scoped>\n",
              "    .dataframe tbody tr th:only-of-type {\n",
              "        vertical-align: middle;\n",
              "    }\n",
              "\n",
              "    .dataframe tbody tr th {\n",
              "        vertical-align: top;\n",
              "    }\n",
              "\n",
              "    .dataframe thead th {\n",
              "        text-align: right;\n",
              "    }\n",
              "</style>\n",
              "<table border=\"1\" class=\"dataframe\">\n",
              "  <thead>\n",
              "    <tr style=\"text-align: right;\">\n",
              "      <th></th>\n",
              "      <th>Year</th>\n",
              "      <th>value</th>\n",
              "      <th>indicator</th>\n",
              "      <th>Country_Code</th>\n",
              "      <th>Country_Name</th>\n",
              "      <th>Region</th>\n",
              "      <th>Income Group</th>\n",
              "      <th>Lending Type</th>\n",
              "    </tr>\n",
              "  </thead>\n",
              "  <tbody>\n",
              "    <tr>\n",
              "      <th>0</th>\n",
              "      <td>2015</td>\n",
              "      <td>2087.305323</td>\n",
              "      <td>NY.GDP.PCAP.PP.CD</td>\n",
              "      <td>AFG</td>\n",
              "      <td>Afghanistan</td>\n",
              "      <td>South Asia</td>\n",
              "      <td>Low income</td>\n",
              "      <td>IDA</td>\n",
              "    </tr>\n",
              "    <tr>\n",
              "      <th>6</th>\n",
              "      <td>2015</td>\n",
              "      <td>11658.866060</td>\n",
              "      <td>NY.GDP.PCAP.PP.CD</td>\n",
              "      <td>ALB</td>\n",
              "      <td>Albania</td>\n",
              "      <td>Europe &amp; Central Asia</td>\n",
              "      <td>Upper middle income</td>\n",
              "      <td>IBRD</td>\n",
              "    </tr>\n",
              "  </tbody>\n",
              "</table>\n",
              "</div>"
            ],
            "text/plain": [
              "   Year         value  ...         Income Group Lending Type\n",
              "0  2015   2087.305323  ...           Low income          IDA\n",
              "6  2015  11658.866060  ...  Upper middle income         IBRD\n",
              "\n",
              "[2 rows x 8 columns]"
            ]
          },
          "metadata": {},
          "execution_count": 10
        }
      ]
    },
    {
      "cell_type": "code",
      "metadata": {
        "colab": {
          "base_uri": "https://localhost:8080/",
          "height": 667
        },
        "id": "Y7PCC9dhsw8g",
        "outputId": "825d1ead-b373-4fc4-ebef-26c1cfc727f8"
      },
      "source": [
        "#Plotting GDP per capita on a choropleth map\n",
        "\n",
        "figure=px.choropleth(df_1_2,\n",
        "                     locations='Country_Name',\n",
        "                     locationmode='country names',\n",
        "                     color='value',\n",
        "                     animation_frame='Year',\n",
        "                     animation_group='Country_Name',\n",
        "                     title='2015 GDP per capita, PPP (current international $) ',\n",
        "                     height=650,\n",
        "                     labels={'value':'GDP per capita, PPP (current international $)'}\n",
        "                     )\n",
        "figure.show()"
      ],
      "execution_count": 15,
      "outputs": [
        {
          "output_type": "display_data",
          "data": {
            "text/html": [
              "<html>\n",
              "<head><meta charset=\"utf-8\" /></head>\n",
              "<body>\n",
              "    <div>            <script src=\"https://cdnjs.cloudflare.com/ajax/libs/mathjax/2.7.5/MathJax.js?config=TeX-AMS-MML_SVG\"></script><script type=\"text/javascript\">if (window.MathJax) {MathJax.Hub.Config({SVG: {font: \"STIX-Web\"}});}</script>                <script type=\"text/javascript\">window.PlotlyConfig = {MathJaxConfig: 'local'};</script>\n",
              "        <script src=\"https://cdn.plot.ly/plotly-2.6.3.min.js\"></script>                <div id=\"00e25b3e-b34b-4a5e-b6c6-cd072d9d0ba1\" class=\"plotly-graph-div\" style=\"height:650px; width:100%;\"></div>            <script type=\"text/javascript\">                                    window.PLOTLYENV=window.PLOTLYENV || {};                                    if (document.getElementById(\"00e25b3e-b34b-4a5e-b6c6-cd072d9d0ba1\")) {                    Plotly.newPlot(                        \"00e25b3e-b34b-4a5e-b6c6-cd072d9d0ba1\",                        [{\"coloraxis\":\"coloraxis\",\"geo\":\"geo\",\"hovertemplate\":\"Year=2015<br>Country_Name=%{location}<br>GDP per capita, PPP (current international $)=%{z}<extra></extra>\",\"ids\":[\"Afghanistan\",\"Albania\",\"Algeria\",\"Angola\",\"Antigua and Barbuda\",\"Argentina\",\"Armenia\",\"Aruba\",\"Australia\",\"Austria\",\"Azerbaijan\",\"Bahamas, The\",\"Bahrain\",\"Bangladesh\",\"Barbados\",\"Belarus\",\"Belgium\",\"Belize\",\"Benin\",\"Bermuda\",\"Bhutan\",\"Bolivia\",\"Bosnia and Herzegovina\",\"Botswana\",\"Brazil\",\"Brunei Darussalam\",\"Bulgaria\",\"Burkina Faso\",\"Burundi\",\"Cabo Verde\",\"Cambodia\",\"Cameroon\",\"Canada\",\"Cayman Islands\",\"Central African Republic\",\"Chad\",\"Chile\",\"China\",\"Colombia\",\"Comoros\",\"Congo, Dem. Rep.\",\"Congo, Rep.\",\"Costa Rica\",\"Cote d'Ivoire\",\"Croatia\",\"Curacao\",\"Cyprus\",\"Czech Republic\",\"Denmark\",\"Djibouti\",\"Dominica\",\"Dominican Republic\",\"Ecuador\",\"Egypt, Arab Rep.\",\"El Salvador\",\"Equatorial Guinea\",\"Estonia\",\"Eswatini\",\"Ethiopia\",\"Fiji\",\"Finland\",\"France\",\"Gabon\",\"Gambia, The\",\"Georgia\",\"Germany\",\"Ghana\",\"Greece\",\"Grenada\",\"Guatemala\",\"Guinea\",\"Guinea-Bissau\",\"Guyana\",\"Haiti\",\"Honduras\",\"Hong Kong SAR, China\",\"Hungary\",\"Iceland\",\"India\",\"Indonesia\",\"Iran, Islamic Rep.\",\"Iraq\",\"Ireland\",\"Israel\",\"Italy\",\"Jamaica\",\"Japan\",\"Jordan\",\"Kazakhstan\",\"Kenya\",\"Kiribati\",\"Korea, Rep.\",\"Kosovo\",\"Kuwait\",\"Kyrgyz Republic\",\"Lao PDR\",\"Latvia\",\"Lebanon\",\"Lesotho\",\"Liberia\",\"Libya\",\"Lithuania\",\"Luxembourg\",\"Macao SAR, China\",\"Madagascar\",\"Malawi\",\"Malaysia\",\"Maldives\",\"Mali\",\"Malta\",\"Marshall Islands\",\"Mauritania\",\"Mauritius\",\"Mexico\",\"Micronesia, Fed. Sts.\",\"Moldova\",\"Mongolia\",\"Montenegro\",\"Morocco\",\"Mozambique\",\"Myanmar\",\"Namibia\",\"Nauru\",\"Nepal\",\"Netherlands\",\"New Zealand\",\"Nicaragua\",\"Niger\",\"Nigeria\",\"North Macedonia\",\"Norway\",\"Oman\",\"Pakistan\",\"Palau\",\"Panama\",\"Papua New Guinea\",\"Paraguay\",\"Peru\",\"Philippines\",\"Poland\",\"Portugal\",\"Puerto Rico\",\"Qatar\",\"Romania\",\"Russian Federation\",\"Rwanda\",\"Samoa\",\"San Marino\",\"Sao Tome and Principe\",\"Saudi Arabia\",\"Senegal\",\"Serbia\",\"Seychelles\",\"Sierra Leone\",\"Singapore\",\"Sint Maarten (Dutch part)\",\"Slovak Republic\",\"Slovenia\",\"Solomon Islands\",\"Somalia\",\"South Africa\",\"South Sudan\",\"Spain\",\"Sri Lanka\",\"St. Kitts and Nevis\",\"St. Lucia\",\"St. Vincent and the Grenadines\",\"Sudan\",\"Suriname\",\"Sweden\",\"Switzerland\",\"Tajikistan\",\"Tanzania\",\"Thailand\",\"Timor-Leste\",\"Togo\",\"Tonga\",\"Trinidad and Tobago\",\"Tunisia\",\"Turkey\",\"Turkmenistan\",\"Turks and Caicos Islands\",\"Tuvalu\",\"Uganda\",\"Ukraine\",\"United Arab Emirates\",\"United Kingdom\",\"United States\",\"Uruguay\",\"Uzbekistan\",\"Vanuatu\",\"Vietnam\",\"West Bank and Gaza\",\"Zambia\",\"Zimbabwe\"],\"locationmode\":\"country names\",\"locations\":[\"Afghanistan\",\"Albania\",\"Algeria\",\"Angola\",\"Antigua and Barbuda\",\"Argentina\",\"Armenia\",\"Aruba\",\"Australia\",\"Austria\",\"Azerbaijan\",\"Bahamas, The\",\"Bahrain\",\"Bangladesh\",\"Barbados\",\"Belarus\",\"Belgium\",\"Belize\",\"Benin\",\"Bermuda\",\"Bhutan\",\"Bolivia\",\"Bosnia and Herzegovina\",\"Botswana\",\"Brazil\",\"Brunei Darussalam\",\"Bulgaria\",\"Burkina Faso\",\"Burundi\",\"Cabo Verde\",\"Cambodia\",\"Cameroon\",\"Canada\",\"Cayman Islands\",\"Central African Republic\",\"Chad\",\"Chile\",\"China\",\"Colombia\",\"Comoros\",\"Congo, Dem. Rep.\",\"Congo, Rep.\",\"Costa Rica\",\"Cote d'Ivoire\",\"Croatia\",\"Curacao\",\"Cyprus\",\"Czech Republic\",\"Denmark\",\"Djibouti\",\"Dominica\",\"Dominican Republic\",\"Ecuador\",\"Egypt, Arab Rep.\",\"El Salvador\",\"Equatorial Guinea\",\"Estonia\",\"Eswatini\",\"Ethiopia\",\"Fiji\",\"Finland\",\"France\",\"Gabon\",\"Gambia, The\",\"Georgia\",\"Germany\",\"Ghana\",\"Greece\",\"Grenada\",\"Guatemala\",\"Guinea\",\"Guinea-Bissau\",\"Guyana\",\"Haiti\",\"Honduras\",\"Hong Kong SAR, China\",\"Hungary\",\"Iceland\",\"India\",\"Indonesia\",\"Iran, Islamic Rep.\",\"Iraq\",\"Ireland\",\"Israel\",\"Italy\",\"Jamaica\",\"Japan\",\"Jordan\",\"Kazakhstan\",\"Kenya\",\"Kiribati\",\"Korea, Rep.\",\"Kosovo\",\"Kuwait\",\"Kyrgyz Republic\",\"Lao PDR\",\"Latvia\",\"Lebanon\",\"Lesotho\",\"Liberia\",\"Libya\",\"Lithuania\",\"Luxembourg\",\"Macao SAR, China\",\"Madagascar\",\"Malawi\",\"Malaysia\",\"Maldives\",\"Mali\",\"Malta\",\"Marshall Islands\",\"Mauritania\",\"Mauritius\",\"Mexico\",\"Micronesia, Fed. Sts.\",\"Moldova\",\"Mongolia\",\"Montenegro\",\"Morocco\",\"Mozambique\",\"Myanmar\",\"Namibia\",\"Nauru\",\"Nepal\",\"Netherlands\",\"New Zealand\",\"Nicaragua\",\"Niger\",\"Nigeria\",\"North Macedonia\",\"Norway\",\"Oman\",\"Pakistan\",\"Palau\",\"Panama\",\"Papua New Guinea\",\"Paraguay\",\"Peru\",\"Philippines\",\"Poland\",\"Portugal\",\"Puerto Rico\",\"Qatar\",\"Romania\",\"Russian Federation\",\"Rwanda\",\"Samoa\",\"San Marino\",\"Sao Tome and Principe\",\"Saudi Arabia\",\"Senegal\",\"Serbia\",\"Seychelles\",\"Sierra Leone\",\"Singapore\",\"Sint Maarten (Dutch part)\",\"Slovak Republic\",\"Slovenia\",\"Solomon Islands\",\"Somalia\",\"South Africa\",\"South Sudan\",\"Spain\",\"Sri Lanka\",\"St. Kitts and Nevis\",\"St. Lucia\",\"St. Vincent and the Grenadines\",\"Sudan\",\"Suriname\",\"Sweden\",\"Switzerland\",\"Tajikistan\",\"Tanzania\",\"Thailand\",\"Timor-Leste\",\"Togo\",\"Tonga\",\"Trinidad and Tobago\",\"Tunisia\",\"Turkey\",\"Turkmenistan\",\"Turks and Caicos Islands\",\"Tuvalu\",\"Uganda\",\"Ukraine\",\"United Arab Emirates\",\"United Kingdom\",\"United States\",\"Uruguay\",\"Uzbekistan\",\"Vanuatu\",\"Vietnam\",\"West Bank and Gaza\",\"Zambia\",\"Zimbabwe\"],\"name\":\"\",\"z\":[2087.3053230667997,11658.8660596051,12015.6329073378,7337.5698220494,18911.306894438898,20105.198991816498,9969.6648539782,37311.7503195981,46288.334478641395,49865.903942418496,14938.4011276715,33424.244664074104,45575.7835718316,3555.505259706,15510.6612056616,18041.2425036167,46200.904454307005,7235.7101776583995,2886.8291371897,71873.2280578182,9500.6507156498,7133.8731450873,12010.712364898201,15547.1643247545,14744.113634469599,62540.6252209261,18343.1107773187,1713.5201359122,841.64602586,5994.4071029846,3388.7376383051,3260.5238494886,44670.080538583796,64233.533979905,787.0129064846001,1820.0599087617002,22698.5456555402,12978.7689105655,13265.7972569151,2709.5625399149,905.4505993532001,4639.744517647,17090.7965760726,4652.889619201,23005.101141941603,25090.2081248596,31815.1397351446,33899.2865661657,49045.3391904109,4574.449851657199,11141.201096328601,14740.8268674233,11060.2862685275,11512.4021442637,7597.689173516999,24042.3530728913,29175.925926789398,8811.740415157099,1657.3447042637,12412.3506858719,42497.7049785783,40849.997378050095,14699.5360478349,2066.8593586012,12089.1694050447,47609.7810045816,5005.0162850438,26721.1195242313,14151.9010690754,8194.4406812682,1819.3623427505,1597.2042542936,11198.3015858384,2903.3599032276,4823.3953955251,56408.936273748,26777.4703988142,49201.0640964553,5464.859178008,10247.2063381531,13588.4688130805,9763.9040903102,69028.7727189836,35475.177293256296,36899.3852092463,8792.056956946899,40898.80697396,9464.6822421637,23224.1178353573,3361.9771374971,2106.8653912525,37902.4004037578,9575.7548799998,47230.660132903206,4214.8295088619,6168.4813024018995,24961.3546830558,15067.767682219399,3077.3978342709997,1292.0968070241001,12220.0234015984,28834.427680113502,103722.990846127,116330.414350113,1546.837624366,1018.9351407652,24801.888432015097,16768.8259801786,2032.6558718801,37455.0705857175,3483.3315181909,4200.152563267,19229.835488721103,18301.5004690469,3349.5248055265,9254.8486051298,10767.1547444669,16332.7898998369,7024.963089026601,1291.2680336815,4416.5468996128,10633.2944166049,13163.7578750804,2996.2204618677,50288.59139493769,37479.6829800129,5293.8704622428995,1145.5116489769,5426.3327873229,13827.412002872099,60368.920871748494,31122.7386627809,4373.0144748821995,17812.8207405537,25319.257047842402,3966.7707103884004,11486.523190555701,11572.3207931902,7186.7692804636,26862.052515028998,29660.896067252597,34016.0223523129,92968.23209693789,21605.8366788676,24085.324184794703,1804.5499523422,5822.4715308362,55614.622171424504,3837.492528208,48611.1314748371,2971.3468169975,14928.408525228,24067.1946265363,1586.6897540867,86974.74762306269,38211.8331867085,29919.6596714916,31628.247175832003,2446.4991942978,822.327546051,12552.339673378401,1234.725575649,34903.1274779473,11557.4870517689,23921.5244346294,13551.3452289242,11643.2269226937,4379.624138376,17210.2703419313,49103.13343387059,66020.2043398841,3150.4271143731,2348.4434970771,15822.370993481101,2912.7361984353997,1397.3324017001999,5774.1699991827,27397.229201165,10208.7495065618,25753.3905100464,13690.6141143429,24098.8506584398,3613.7347663472997,2119.6043419768,10164.327334085201,64901.880051235195,42567.5917974837,56863.3714957652,20217.560436564097,6343.1497417051005,2832.1783368353003,6102.6368690478,5954.4007836321,3430.400287069,2679.5076148374],\"type\":\"choropleth\"}],                        {\"template\":{\"data\":{\"bar\":[{\"error_x\":{\"color\":\"#f2f5fa\"},\"error_y\":{\"color\":\"#f2f5fa\"},\"marker\":{\"line\":{\"color\":\"rgb(17,17,17)\",\"width\":0.5},\"pattern\":{\"fillmode\":\"overlay\",\"size\":10,\"solidity\":0.2}},\"type\":\"bar\"}],\"barpolar\":[{\"marker\":{\"line\":{\"color\":\"rgb(17,17,17)\",\"width\":0.5},\"pattern\":{\"fillmode\":\"overlay\",\"size\":10,\"solidity\":0.2}},\"type\":\"barpolar\"}],\"carpet\":[{\"aaxis\":{\"endlinecolor\":\"#A2B1C6\",\"gridcolor\":\"#506784\",\"linecolor\":\"#506784\",\"minorgridcolor\":\"#506784\",\"startlinecolor\":\"#A2B1C6\"},\"baxis\":{\"endlinecolor\":\"#A2B1C6\",\"gridcolor\":\"#506784\",\"linecolor\":\"#506784\",\"minorgridcolor\":\"#506784\",\"startlinecolor\":\"#A2B1C6\"},\"type\":\"carpet\"}],\"choropleth\":[{\"colorbar\":{\"outlinewidth\":0,\"ticks\":\"\"},\"type\":\"choropleth\"}],\"contour\":[{\"colorbar\":{\"outlinewidth\":0,\"ticks\":\"\"},\"colorscale\":[[0.0,\"#0d0887\"],[0.1111111111111111,\"#46039f\"],[0.2222222222222222,\"#7201a8\"],[0.3333333333333333,\"#9c179e\"],[0.4444444444444444,\"#bd3786\"],[0.5555555555555556,\"#d8576b\"],[0.6666666666666666,\"#ed7953\"],[0.7777777777777778,\"#fb9f3a\"],[0.8888888888888888,\"#fdca26\"],[1.0,\"#f0f921\"]],\"type\":\"contour\"}],\"contourcarpet\":[{\"colorbar\":{\"outlinewidth\":0,\"ticks\":\"\"},\"type\":\"contourcarpet\"}],\"heatmap\":[{\"colorbar\":{\"outlinewidth\":0,\"ticks\":\"\"},\"colorscale\":[[0.0,\"#0d0887\"],[0.1111111111111111,\"#46039f\"],[0.2222222222222222,\"#7201a8\"],[0.3333333333333333,\"#9c179e\"],[0.4444444444444444,\"#bd3786\"],[0.5555555555555556,\"#d8576b\"],[0.6666666666666666,\"#ed7953\"],[0.7777777777777778,\"#fb9f3a\"],[0.8888888888888888,\"#fdca26\"],[1.0,\"#f0f921\"]],\"type\":\"heatmap\"}],\"heatmapgl\":[{\"colorbar\":{\"outlinewidth\":0,\"ticks\":\"\"},\"colorscale\":[[0.0,\"#0d0887\"],[0.1111111111111111,\"#46039f\"],[0.2222222222222222,\"#7201a8\"],[0.3333333333333333,\"#9c179e\"],[0.4444444444444444,\"#bd3786\"],[0.5555555555555556,\"#d8576b\"],[0.6666666666666666,\"#ed7953\"],[0.7777777777777778,\"#fb9f3a\"],[0.8888888888888888,\"#fdca26\"],[1.0,\"#f0f921\"]],\"type\":\"heatmapgl\"}],\"histogram\":[{\"marker\":{\"pattern\":{\"fillmode\":\"overlay\",\"size\":10,\"solidity\":0.2}},\"type\":\"histogram\"}],\"histogram2d\":[{\"colorbar\":{\"outlinewidth\":0,\"ticks\":\"\"},\"colorscale\":[[0.0,\"#0d0887\"],[0.1111111111111111,\"#46039f\"],[0.2222222222222222,\"#7201a8\"],[0.3333333333333333,\"#9c179e\"],[0.4444444444444444,\"#bd3786\"],[0.5555555555555556,\"#d8576b\"],[0.6666666666666666,\"#ed7953\"],[0.7777777777777778,\"#fb9f3a\"],[0.8888888888888888,\"#fdca26\"],[1.0,\"#f0f921\"]],\"type\":\"histogram2d\"}],\"histogram2dcontour\":[{\"colorbar\":{\"outlinewidth\":0,\"ticks\":\"\"},\"colorscale\":[[0.0,\"#0d0887\"],[0.1111111111111111,\"#46039f\"],[0.2222222222222222,\"#7201a8\"],[0.3333333333333333,\"#9c179e\"],[0.4444444444444444,\"#bd3786\"],[0.5555555555555556,\"#d8576b\"],[0.6666666666666666,\"#ed7953\"],[0.7777777777777778,\"#fb9f3a\"],[0.8888888888888888,\"#fdca26\"],[1.0,\"#f0f921\"]],\"type\":\"histogram2dcontour\"}],\"mesh3d\":[{\"colorbar\":{\"outlinewidth\":0,\"ticks\":\"\"},\"type\":\"mesh3d\"}],\"parcoords\":[{\"line\":{\"colorbar\":{\"outlinewidth\":0,\"ticks\":\"\"}},\"type\":\"parcoords\"}],\"pie\":[{\"automargin\":true,\"type\":\"pie\"}],\"scatter\":[{\"marker\":{\"line\":{\"color\":\"#283442\"}},\"type\":\"scatter\"}],\"scatter3d\":[{\"line\":{\"colorbar\":{\"outlinewidth\":0,\"ticks\":\"\"}},\"marker\":{\"colorbar\":{\"outlinewidth\":0,\"ticks\":\"\"}},\"type\":\"scatter3d\"}],\"scattercarpet\":[{\"marker\":{\"colorbar\":{\"outlinewidth\":0,\"ticks\":\"\"}},\"type\":\"scattercarpet\"}],\"scattergeo\":[{\"marker\":{\"colorbar\":{\"outlinewidth\":0,\"ticks\":\"\"}},\"type\":\"scattergeo\"}],\"scattergl\":[{\"marker\":{\"line\":{\"color\":\"#283442\"}},\"type\":\"scattergl\"}],\"scattermapbox\":[{\"marker\":{\"colorbar\":{\"outlinewidth\":0,\"ticks\":\"\"}},\"type\":\"scattermapbox\"}],\"scatterpolar\":[{\"marker\":{\"colorbar\":{\"outlinewidth\":0,\"ticks\":\"\"}},\"type\":\"scatterpolar\"}],\"scatterpolargl\":[{\"marker\":{\"colorbar\":{\"outlinewidth\":0,\"ticks\":\"\"}},\"type\":\"scatterpolargl\"}],\"scatterternary\":[{\"marker\":{\"colorbar\":{\"outlinewidth\":0,\"ticks\":\"\"}},\"type\":\"scatterternary\"}],\"surface\":[{\"colorbar\":{\"outlinewidth\":0,\"ticks\":\"\"},\"colorscale\":[[0.0,\"#0d0887\"],[0.1111111111111111,\"#46039f\"],[0.2222222222222222,\"#7201a8\"],[0.3333333333333333,\"#9c179e\"],[0.4444444444444444,\"#bd3786\"],[0.5555555555555556,\"#d8576b\"],[0.6666666666666666,\"#ed7953\"],[0.7777777777777778,\"#fb9f3a\"],[0.8888888888888888,\"#fdca26\"],[1.0,\"#f0f921\"]],\"type\":\"surface\"}],\"table\":[{\"cells\":{\"fill\":{\"color\":\"#506784\"},\"line\":{\"color\":\"rgb(17,17,17)\"}},\"header\":{\"fill\":{\"color\":\"#2a3f5f\"},\"line\":{\"color\":\"rgb(17,17,17)\"}},\"type\":\"table\"}]},\"layout\":{\"annotationdefaults\":{\"arrowcolor\":\"#f2f5fa\",\"arrowhead\":0,\"arrowwidth\":1},\"autotypenumbers\":\"strict\",\"coloraxis\":{\"colorbar\":{\"outlinewidth\":0,\"ticks\":\"\"}},\"colorscale\":{\"diverging\":[[0,\"#8e0152\"],[0.1,\"#c51b7d\"],[0.2,\"#de77ae\"],[0.3,\"#f1b6da\"],[0.4,\"#fde0ef\"],[0.5,\"#f7f7f7\"],[0.6,\"#e6f5d0\"],[0.7,\"#b8e186\"],[0.8,\"#7fbc41\"],[0.9,\"#4d9221\"],[1,\"#276419\"]],\"sequential\":[[0.0,\"#0d0887\"],[0.1111111111111111,\"#46039f\"],[0.2222222222222222,\"#7201a8\"],[0.3333333333333333,\"#9c179e\"],[0.4444444444444444,\"#bd3786\"],[0.5555555555555556,\"#d8576b\"],[0.6666666666666666,\"#ed7953\"],[0.7777777777777778,\"#fb9f3a\"],[0.8888888888888888,\"#fdca26\"],[1.0,\"#f0f921\"]],\"sequentialminus\":[[0.0,\"#0d0887\"],[0.1111111111111111,\"#46039f\"],[0.2222222222222222,\"#7201a8\"],[0.3333333333333333,\"#9c179e\"],[0.4444444444444444,\"#bd3786\"],[0.5555555555555556,\"#d8576b\"],[0.6666666666666666,\"#ed7953\"],[0.7777777777777778,\"#fb9f3a\"],[0.8888888888888888,\"#fdca26\"],[1.0,\"#f0f921\"]]},\"colorway\":[\"#636efa\",\"#EF553B\",\"#00cc96\",\"#ab63fa\",\"#FFA15A\",\"#19d3f3\",\"#FF6692\",\"#B6E880\",\"#FF97FF\",\"#FECB52\"],\"font\":{\"color\":\"#f2f5fa\"},\"geo\":{\"bgcolor\":\"rgb(17,17,17)\",\"lakecolor\":\"rgb(17,17,17)\",\"landcolor\":\"rgb(17,17,17)\",\"showlakes\":true,\"showland\":true,\"subunitcolor\":\"#506784\"},\"hoverlabel\":{\"align\":\"left\"},\"hovermode\":\"closest\",\"mapbox\":{\"style\":\"dark\"},\"paper_bgcolor\":\"rgb(17,17,17)\",\"plot_bgcolor\":\"rgb(17,17,17)\",\"polar\":{\"angularaxis\":{\"gridcolor\":\"#506784\",\"linecolor\":\"#506784\",\"ticks\":\"\"},\"bgcolor\":\"rgb(17,17,17)\",\"radialaxis\":{\"gridcolor\":\"#506784\",\"linecolor\":\"#506784\",\"ticks\":\"\"}},\"scene\":{\"xaxis\":{\"backgroundcolor\":\"rgb(17,17,17)\",\"gridcolor\":\"#506784\",\"gridwidth\":2,\"linecolor\":\"#506784\",\"showbackground\":true,\"ticks\":\"\",\"zerolinecolor\":\"#C8D4E3\"},\"yaxis\":{\"backgroundcolor\":\"rgb(17,17,17)\",\"gridcolor\":\"#506784\",\"gridwidth\":2,\"linecolor\":\"#506784\",\"showbackground\":true,\"ticks\":\"\",\"zerolinecolor\":\"#C8D4E3\"},\"zaxis\":{\"backgroundcolor\":\"rgb(17,17,17)\",\"gridcolor\":\"#506784\",\"gridwidth\":2,\"linecolor\":\"#506784\",\"showbackground\":true,\"ticks\":\"\",\"zerolinecolor\":\"#C8D4E3\"}},\"shapedefaults\":{\"line\":{\"color\":\"#f2f5fa\"}},\"sliderdefaults\":{\"bgcolor\":\"#C8D4E3\",\"bordercolor\":\"rgb(17,17,17)\",\"borderwidth\":1,\"tickwidth\":0},\"ternary\":{\"aaxis\":{\"gridcolor\":\"#506784\",\"linecolor\":\"#506784\",\"ticks\":\"\"},\"baxis\":{\"gridcolor\":\"#506784\",\"linecolor\":\"#506784\",\"ticks\":\"\"},\"bgcolor\":\"rgb(17,17,17)\",\"caxis\":{\"gridcolor\":\"#506784\",\"linecolor\":\"#506784\",\"ticks\":\"\"}},\"title\":{\"x\":0.05},\"updatemenudefaults\":{\"bgcolor\":\"#506784\",\"borderwidth\":0},\"xaxis\":{\"automargin\":true,\"gridcolor\":\"#283442\",\"linecolor\":\"#506784\",\"ticks\":\"\",\"title\":{\"standoff\":15},\"zerolinecolor\":\"#283442\",\"zerolinewidth\":2},\"yaxis\":{\"automargin\":true,\"gridcolor\":\"#283442\",\"linecolor\":\"#506784\",\"ticks\":\"\",\"title\":{\"standoff\":15},\"zerolinecolor\":\"#283442\",\"zerolinewidth\":2}}},\"geo\":{\"domain\":{\"x\":[0.0,1.0],\"y\":[0.0,1.0]},\"center\":{}},\"coloraxis\":{\"colorbar\":{\"title\":{\"text\":\"GDP per capita, PPP (current international $)\"}},\"colorscale\":[[0.0,\"#0d0887\"],[0.1111111111111111,\"#46039f\"],[0.2222222222222222,\"#7201a8\"],[0.3333333333333333,\"#9c179e\"],[0.4444444444444444,\"#bd3786\"],[0.5555555555555556,\"#d8576b\"],[0.6666666666666666,\"#ed7953\"],[0.7777777777777778,\"#fb9f3a\"],[0.8888888888888888,\"#fdca26\"],[1.0,\"#f0f921\"]]},\"legend\":{\"tracegroupgap\":0},\"title\":{\"text\":\"2015 GDP per capita, PPP (current international $) \"},\"height\":650},                        {\"responsive\": true}                    ).then(function(){\n",
              "                            \n",
              "var gd = document.getElementById('00e25b3e-b34b-4a5e-b6c6-cd072d9d0ba1');\n",
              "var x = new MutationObserver(function (mutations, observer) {{\n",
              "        var display = window.getComputedStyle(gd).display;\n",
              "        if (!display || display === 'none') {{\n",
              "            console.log([gd, 'removed!']);\n",
              "            Plotly.purge(gd);\n",
              "            observer.disconnect();\n",
              "        }}\n",
              "}});\n",
              "\n",
              "// Listen for the removal of the full notebook cells\n",
              "var notebookContainer = gd.closest('#notebook-container');\n",
              "if (notebookContainer) {{\n",
              "    x.observe(notebookContainer, {childList: true});\n",
              "}}\n",
              "\n",
              "// Listen for the clearing of the current output cell\n",
              "var outputEl = gd.closest('.output');\n",
              "if (outputEl) {{\n",
              "    x.observe(outputEl, {childList: true});\n",
              "}}\n",
              "\n",
              "                        })                };                            </script>        </div>\n",
              "</body>\n",
              "</html>"
            ]
          },
          "metadata": {}
        }
      ]
    },
    {
      "cell_type": "markdown",
      "source": [
        "  Looking at the data provided by the World Development explorer we can say that the northern hemisphere has more financial stability than the southern hemisphere. For further analysis let’s look at the time series graph of past 10-years for top 20 countries."
      ],
      "metadata": {
        "id": "xIS29a_LnnFI"
      }
    },
    {
      "cell_type": "markdown",
      "metadata": {
        "id": "DUL7mSlEHaRA"
      },
      "source": [
        "## **Top 20 Countries GDP per Capita**\n",
        "\n",
        "Here I've plotted the GDP per capita data on a time series graph.\n"
      ]
    },
    {
      "cell_type": "code",
      "metadata": {
        "colab": {
          "base_uri": "https://localhost:8080/",
          "height": 112
        },
        "id": "2UL8tsBfKv0l",
        "outputId": "7e0dc1f9-7e81-4660-ed1f-a58a3dc47d82"
      },
      "source": [
        "#2nd Dataset: Top 20 Countries GDP per capita\n",
        "\n",
        "#This data is obtained through the world bank wesbite\n",
        "#Reading the data into a dataframe.\n",
        "\n",
        "df_2=pd.read_csv('https://raw.githubusercontent.com/Mrshreesharma/DS601_Fall21/main/Data690/fig2.csv')\n",
        "df_2.head(2)"
      ],
      "execution_count": 13,
      "outputs": [
        {
          "output_type": "execute_result",
          "data": {
            "text/html": [
              "<div>\n",
              "<style scoped>\n",
              "    .dataframe tbody tr th:only-of-type {\n",
              "        vertical-align: middle;\n",
              "    }\n",
              "\n",
              "    .dataframe tbody tr th {\n",
              "        vertical-align: top;\n",
              "    }\n",
              "\n",
              "    .dataframe thead th {\n",
              "        text-align: right;\n",
              "    }\n",
              "</style>\n",
              "<table border=\"1\" class=\"dataframe\">\n",
              "  <thead>\n",
              "    <tr style=\"text-align: right;\">\n",
              "      <th></th>\n",
              "      <th>Unnamed: 0</th>\n",
              "      <th>Year</th>\n",
              "      <th>value</th>\n",
              "      <th>indicator</th>\n",
              "      <th>Country Code</th>\n",
              "      <th>Country Name</th>\n",
              "      <th>Region</th>\n",
              "      <th>Income Group</th>\n",
              "      <th>Lending Type</th>\n",
              "    </tr>\n",
              "  </thead>\n",
              "  <tbody>\n",
              "    <tr>\n",
              "      <th>0</th>\n",
              "      <td>0</td>\n",
              "      <td>2010</td>\n",
              "      <td>42041.486681</td>\n",
              "      <td>NY.GDP.PCAP.PP.CD</td>\n",
              "      <td>AUT</td>\n",
              "      <td>Austria</td>\n",
              "      <td>Europe &amp; Central Asia</td>\n",
              "      <td>High income</td>\n",
              "      <td>Not classified</td>\n",
              "    </tr>\n",
              "    <tr>\n",
              "      <th>1</th>\n",
              "      <td>1</td>\n",
              "      <td>2011</td>\n",
              "      <td>44452.732746</td>\n",
              "      <td>NY.GDP.PCAP.PP.CD</td>\n",
              "      <td>AUT</td>\n",
              "      <td>Austria</td>\n",
              "      <td>Europe &amp; Central Asia</td>\n",
              "      <td>High income</td>\n",
              "      <td>Not classified</td>\n",
              "    </tr>\n",
              "  </tbody>\n",
              "</table>\n",
              "</div>"
            ],
            "text/plain": [
              "   Unnamed: 0  Year  ...  Income Group    Lending Type\n",
              "0           0  2010  ...   High income  Not classified\n",
              "1           1  2011  ...   High income  Not classified\n",
              "\n",
              "[2 rows x 9 columns]"
            ]
          },
          "metadata": {},
          "execution_count": 13
        }
      ]
    },
    {
      "cell_type": "code",
      "metadata": {
        "colab": {
          "base_uri": "https://localhost:8080/"
        },
        "id": "IoBahPThdHc3",
        "outputId": "23f493ae-c656-4407-b030-988512fa67a1"
      },
      "source": [
        "#verifying if there are null values. \n",
        "\n",
        "df_2.isnull().sum()"
      ],
      "execution_count": 21,
      "outputs": [
        {
          "output_type": "execute_result",
          "data": {
            "text/plain": [
              "Unnamed: 0      0\n",
              "Year            0\n",
              "value           0\n",
              "indicator       0\n",
              "Country Code    0\n",
              "Country Name    0\n",
              "Region          0\n",
              "Income Group    0\n",
              "Lending Type    0\n",
              "dtype: int64"
            ]
          },
          "metadata": {},
          "execution_count": 21
        }
      ]
    },
    {
      "cell_type": "code",
      "metadata": {
        "colab": {
          "base_uri": "https://localhost:8080/",
          "height": 542
        },
        "id": "JcYSeYYMaCE-",
        "outputId": "95e42e93-cf11-4b80-a9f1-314206cf570f"
      },
      "source": [
        "fig = px.line(\n",
        "    df_2, \n",
        "    x=\"Year\", \n",
        "    y=\"value\",\n",
        "    labels={\"value\":\" GDP per capita, PPP (current international $) \"},\n",
        "    title='TOP 20 Countries by GDP per capita, PPP (current international $) ',\n",
        "    hover_name='Country Name',\n",
        "    color='Country Name'\n",
        "    )\n",
        "fig.show()"
      ],
      "execution_count": 17,
      "outputs": [
        {
          "output_type": "display_data",
          "data": {
            "text/html": [
              "<html>\n",
              "<head><meta charset=\"utf-8\" /></head>\n",
              "<body>\n",
              "    <div>            <script src=\"https://cdnjs.cloudflare.com/ajax/libs/mathjax/2.7.5/MathJax.js?config=TeX-AMS-MML_SVG\"></script><script type=\"text/javascript\">if (window.MathJax) {MathJax.Hub.Config({SVG: {font: \"STIX-Web\"}});}</script>                <script type=\"text/javascript\">window.PlotlyConfig = {MathJaxConfig: 'local'};</script>\n",
              "        <script src=\"https://cdn.plot.ly/plotly-2.6.3.min.js\"></script>                <div id=\"cede0d67-1e3a-47e6-bf54-fdb8658e1059\" class=\"plotly-graph-div\" style=\"height:525px; width:100%;\"></div>            <script type=\"text/javascript\">                                    window.PLOTLYENV=window.PLOTLYENV || {};                                    if (document.getElementById(\"cede0d67-1e3a-47e6-bf54-fdb8658e1059\")) {                    Plotly.newPlot(                        \"cede0d67-1e3a-47e6-bf54-fdb8658e1059\",                        [{\"hovertemplate\":\"<b>%{hovertext}</b><br><br>Country Name=Austria<br>Year=%{x}<br> GDP per capita, PPP (current international $) =%{y}<extra></extra>\",\"hovertext\":[\"Austria\",\"Austria\",\"Austria\",\"Austria\",\"Austria\",\"Austria\",\"Austria\",\"Austria\",\"Austria\",\"Austria\",\"Austria\"],\"legendgroup\":\"Austria\",\"line\":{\"color\":\"#636efa\",\"dash\":\"solid\"},\"marker\":{\"symbol\":\"circle\"},\"mode\":\"lines\",\"name\":\"Austria\",\"orientation\":\"v\",\"showlegend\":true,\"x\":[2010,2011,2012,2013,2014,2015,2016,2017,2018,2019,2020],\"xaxis\":\"x\",\"y\":[42041.486681307004,44452.732745799905,46457.34577703111,47922.0491207455,48799.715467698494,49865.903942418496,52684.0171130768,54169.9639937065,57050.3513549091,58649.668314885195,55352.0340588691],\"yaxis\":\"y\",\"type\":\"scatter\"},{\"hovertemplate\":\"<b>%{hovertext}</b><br><br>Country Name=Bermuda<br>Year=%{x}<br> GDP per capita, PPP (current international $) =%{y}<extra></extra>\",\"hovertext\":[\"Bermuda\",\"Bermuda\",\"Bermuda\",\"Bermuda\",\"Bermuda\",\"Bermuda\",\"Bermuda\",\"Bermuda\",\"Bermuda\",\"Bermuda\"],\"legendgroup\":\"Bermuda\",\"line\":{\"color\":\"#EF553B\",\"dash\":\"solid\"},\"marker\":{\"symbol\":\"circle\"},\"mode\":\"lines\",\"name\":\"Bermuda\",\"orientation\":\"v\",\"showlegend\":true,\"x\":[2010,2011,2012,2013,2014,2015,2016,2017,2018,2019],\"xaxis\":\"x\",\"y\":[70620.08068367059,69998.8434204712,67453.8205236015,68993.2274876771,68775.4467426718,71873.2280578182,76362.0514142141,81834.9558735543,83377.0646748086,85263.7630031759],\"yaxis\":\"y\",\"type\":\"scatter\"},{\"hovertemplate\":\"<b>%{hovertext}</b><br><br>Country Name=Brunei Darussalam<br>Year=%{x}<br> GDP per capita, PPP (current international $) =%{y}<extra></extra>\",\"hovertext\":[\"Brunei Darussalam\",\"Brunei Darussalam\",\"Brunei Darussalam\",\"Brunei Darussalam\",\"Brunei Darussalam\",\"Brunei Darussalam\",\"Brunei Darussalam\",\"Brunei Darussalam\",\"Brunei Darussalam\",\"Brunei Darussalam\",\"Brunei Darussalam\"],\"legendgroup\":\"Brunei Darussalam\",\"line\":{\"color\":\"#00cc96\",\"dash\":\"solid\"},\"marker\":{\"symbol\":\"circle\"},\"mode\":\"lines\",\"name\":\"Brunei Darussalam\",\"orientation\":\"v\",\"showlegend\":true,\"x\":[2010,2011,2012,2013,2014,2015,2016,2017,2018,2019,2020],\"xaxis\":\"x\",\"y\":[80280.0244489225,83935.2257151622,88245.9583498698,83788.5108927602,81371.2308691448,62540.6252209261,56297.226711698895,60994.5315563275,61839.117565608096,64724.1323936862,65661.6945087301],\"yaxis\":\"y\",\"type\":\"scatter\"},{\"hovertemplate\":\"<b>%{hovertext}</b><br><br>Country Name=Cayman Islands<br>Year=%{x}<br> GDP per capita, PPP (current international $) =%{y}<extra></extra>\",\"hovertext\":[\"Cayman Islands\",\"Cayman Islands\",\"Cayman Islands\",\"Cayman Islands\",\"Cayman Islands\",\"Cayman Islands\",\"Cayman Islands\",\"Cayman Islands\",\"Cayman Islands\",\"Cayman Islands\"],\"legendgroup\":\"Cayman Islands\",\"line\":{\"color\":\"#ab63fa\",\"dash\":\"solid\"},\"marker\":{\"symbol\":\"circle\"},\"mode\":\"lines\",\"name\":\"Cayman Islands\",\"orientation\":\"v\",\"showlegend\":true,\"x\":[2010,2011,2012,2013,2014,2015,2016,2017,2018,2019],\"xaxis\":\"x\",\"y\":[63298.177646430595,64014.7419684634,62795.9026761888,62440.0072218164,63067.419922154295,64233.533979905,66639.55106041349,69753.0897229101,73507.5695160568,76747.6663062938],\"yaxis\":\"y\",\"type\":\"scatter\"},{\"hovertemplate\":\"<b>%{hovertext}</b><br><br>Country Name=Denmark<br>Year=%{x}<br> GDP per capita, PPP (current international $) =%{y}<extra></extra>\",\"hovertext\":[\"Denmark\",\"Denmark\",\"Denmark\",\"Denmark\",\"Denmark\",\"Denmark\",\"Denmark\",\"Denmark\",\"Denmark\",\"Denmark\",\"Denmark\"],\"legendgroup\":\"Denmark\",\"line\":{\"color\":\"#FFA15A\",\"dash\":\"solid\"},\"marker\":{\"symbol\":\"circle\"},\"mode\":\"lines\",\"name\":\"Denmark\",\"orientation\":\"v\",\"showlegend\":true,\"x\":[2010,2011,2012,2013,2014,2015,2016,2017,2018,2019,2020],\"xaxis\":\"x\",\"y\":[43035.8920627169,44403.3848413929,44803.968242121395,46726.8541437832,47901.4473627066,49045.3391904109,51976.005706095595,55356.680780178,57456.6118315406,59896.567498603494,60551.640172131396],\"yaxis\":\"y\",\"type\":\"scatter\"},{\"hovertemplate\":\"<b>%{hovertext}</b><br><br>Country Name=Hong Kong SAR, China<br>Year=%{x}<br> GDP per capita, PPP (current international $) =%{y}<extra></extra>\",\"hovertext\":[\"Hong Kong SAR, China\",\"Hong Kong SAR, China\",\"Hong Kong SAR, China\",\"Hong Kong SAR, China\",\"Hong Kong SAR, China\",\"Hong Kong SAR, China\",\"Hong Kong SAR, China\",\"Hong Kong SAR, China\",\"Hong Kong SAR, China\",\"Hong Kong SAR, China\",\"Hong Kong SAR, China\"],\"legendgroup\":\"Hong Kong SAR, China\",\"line\":{\"color\":\"#19d3f3\",\"dash\":\"solid\"},\"marker\":{\"symbol\":\"circle\"},\"mode\":\"lines\",\"name\":\"Hong Kong SAR, China\",\"orientation\":\"v\",\"showlegend\":true,\"x\":[2010,2011,2012,2013,2014,2015,2016,2017,2018,2019,2020],\"xaxis\":\"x\",\"y\":[49185.2278668442,52277.4664432843,52234.592317824405,53691.8374784984,54781.6471649487,56408.936273748,57221.413763758304,59849.2481763342,62529.0574941399,62106.1008812827,59237.6713435914],\"yaxis\":\"y\",\"type\":\"scatter\"},{\"hovertemplate\":\"<b>%{hovertext}</b><br><br>Country Name=Iceland<br>Year=%{x}<br> GDP per capita, PPP (current international $) =%{y}<extra></extra>\",\"hovertext\":[\"Iceland\",\"Iceland\",\"Iceland\",\"Iceland\",\"Iceland\",\"Iceland\",\"Iceland\",\"Iceland\",\"Iceland\",\"Iceland\",\"Iceland\"],\"legendgroup\":\"Iceland\",\"line\":{\"color\":\"#FF6692\",\"dash\":\"solid\"},\"marker\":{\"symbol\":\"circle\"},\"mode\":\"lines\",\"name\":\"Iceland\",\"orientation\":\"v\",\"showlegend\":true,\"x\":[2010,2011,2012,2013,2014,2015,2016,2017,2018,2019,2020],\"xaxis\":\"x\",\"y\":[39805.671156625,40936.867830513,42004.4476110597,44409.6689530904,45996.968747690094,49201.0640964553,53480.3971946764,55638.492059179596,58317.4393384787,60132.711925544405,55224.684802065305],\"yaxis\":\"y\",\"type\":\"scatter\"},{\"hovertemplate\":\"<b>%{hovertext}</b><br><br>Country Name=Ireland<br>Year=%{x}<br> GDP per capita, PPP (current international $) =%{y}<extra></extra>\",\"hovertext\":[\"Ireland\",\"Ireland\",\"Ireland\",\"Ireland\",\"Ireland\",\"Ireland\",\"Ireland\",\"Ireland\",\"Ireland\",\"Ireland\",\"Ireland\"],\"legendgroup\":\"Ireland\",\"line\":{\"color\":\"#B6E880\",\"dash\":\"solid\"},\"marker\":{\"symbol\":\"circle\"},\"mode\":\"lines\",\"name\":\"Ireland\",\"orientation\":\"v\",\"showlegend\":true,\"x\":[2010,2011,2012,2013,2014,2015,2016,2017,2018,2019,2020],\"xaxis\":\"x\",\"y\":[43236.1514623189,45080.1886960425,46361.463694173,47830.6308878373,51098.266682824506,69028.7727189836,71498.6010072841,77749.2019569363,84665.6062347313,89550.72665699609,95237.24129884051],\"yaxis\":\"y\",\"type\":\"scatter\"},{\"hovertemplate\":\"<b>%{hovertext}</b><br><br>Country Name=Luxembourg<br>Year=%{x}<br> GDP per capita, PPP (current international $) =%{y}<extra></extra>\",\"hovertext\":[\"Luxembourg\",\"Luxembourg\",\"Luxembourg\",\"Luxembourg\",\"Luxembourg\",\"Luxembourg\",\"Luxembourg\",\"Luxembourg\",\"Luxembourg\",\"Luxembourg\",\"Luxembourg\"],\"legendgroup\":\"Luxembourg\",\"line\":{\"color\":\"#FF97FF\",\"dash\":\"solid\"},\"marker\":{\"symbol\":\"circle\"},\"mode\":\"lines\",\"name\":\"Luxembourg\",\"orientation\":\"v\",\"showlegend\":true,\"x\":[2010,2011,2012,2013,2014,2015,2016,2017,2018,2019,2020],\"xaxis\":\"x\",\"y\":[85685.7849965872,92005.0168361444,91622.17741693881,95590.5386984251,101297.575745297,103722.990846127,110660.866873981,112308.17379315,116644.84805649199,120962.18777061801,118359.52616184301],\"yaxis\":\"y\",\"type\":\"scatter\"},{\"hovertemplate\":\"<b>%{hovertext}</b><br><br>Country Name=Macao SAR, China<br>Year=%{x}<br> GDP per capita, PPP (current international $) =%{y}<extra></extra>\",\"hovertext\":[\"Macao SAR, China\",\"Macao SAR, China\",\"Macao SAR, China\",\"Macao SAR, China\",\"Macao SAR, China\",\"Macao SAR, China\",\"Macao SAR, China\",\"Macao SAR, China\",\"Macao SAR, China\",\"Macao SAR, China\",\"Macao SAR, China\"],\"legendgroup\":\"Macao SAR, China\",\"line\":{\"color\":\"#FECB52\",\"dash\":\"solid\"},\"marker\":{\"symbol\":\"circle\"},\"mode\":\"lines\",\"name\":\"Macao SAR, China\",\"orientation\":\"v\",\"showlegend\":true,\"x\":[2010,2011,2012,2013,2014,2015,2016,2017,2018,2019,2020],\"xaxis\":\"x\",\"y\":[99581.2284376314,120804.824153496,134012.014837169,153563.910960352,152856.3410853,116330.414350113,114930.001072181,126183.676088526,135596.10531357,132539.15137602802,57807.16254499571],\"yaxis\":\"y\",\"type\":\"scatter\"},{\"hovertemplate\":\"<b>%{hovertext}</b><br><br>Country Name=Netherlands<br>Year=%{x}<br> GDP per capita, PPP (current international $) =%{y}<extra></extra>\",\"hovertext\":[\"Netherlands\",\"Netherlands\",\"Netherlands\",\"Netherlands\",\"Netherlands\",\"Netherlands\",\"Netherlands\",\"Netherlands\",\"Netherlands\",\"Netherlands\",\"Netherlands\"],\"legendgroup\":\"Netherlands\",\"line\":{\"color\":\"#636efa\",\"dash\":\"solid\"},\"marker\":{\"symbol\":\"circle\"},\"mode\":\"lines\",\"name\":\"Netherlands\",\"orientation\":\"v\",\"showlegend\":true,\"x\":[2010,2011,2012,2013,2014,2015,2016,2017,2018,2019,2020],\"xaxis\":\"x\",\"y\":[45078.3181447046,46599.02103045,47272.1030187972,49241.5178406305,49233.2153954401,50288.59139493769,52288.415084135304,55088.633800674404,57901.09701304769,59675.18033570651,59334.214839007],\"yaxis\":\"y\",\"type\":\"scatter\"},{\"hovertemplate\":\"<b>%{hovertext}</b><br><br>Country Name=Norway<br>Year=%{x}<br> GDP per capita, PPP (current international $) =%{y}<extra></extra>\",\"hovertext\":[\"Norway\",\"Norway\",\"Norway\",\"Norway\",\"Norway\",\"Norway\",\"Norway\",\"Norway\",\"Norway\",\"Norway\",\"Norway\"],\"legendgroup\":\"Norway\",\"line\":{\"color\":\"#EF553B\",\"dash\":\"solid\"},\"marker\":{\"symbol\":\"circle\"},\"mode\":\"lines\",\"name\":\"Norway\",\"orientation\":\"v\",\"showlegend\":true,\"x\":[2010,2011,2012,2013,2014,2015,2016,2017,2018,2019,2020],\"xaxis\":\"x\",\"y\":[57963.8759448629,62076.740657668604,65354.7792483883,66961.2530988205,65892.6892787813,60368.920871748494,58939.912613309294,64050.756165465595,69710.48450923701,68345.0694174133,63287.607008467196],\"yaxis\":\"y\",\"type\":\"scatter\"},{\"hovertemplate\":\"<b>%{hovertext}</b><br><br>Country Name=Qatar<br>Year=%{x}<br> GDP per capita, PPP (current international $) =%{y}<extra></extra>\",\"hovertext\":[\"Qatar\",\"Qatar\",\"Qatar\",\"Qatar\",\"Qatar\",\"Qatar\",\"Qatar\",\"Qatar\",\"Qatar\",\"Qatar\",\"Qatar\"],\"legendgroup\":\"Qatar\",\"line\":{\"color\":\"#00cc96\",\"dash\":\"solid\"},\"marker\":{\"symbol\":\"circle\"},\"mode\":\"lines\",\"name\":\"Qatar\",\"orientation\":\"v\",\"showlegend\":true,\"x\":[2010,2011,2012,2013,2014,2015,2016,2017,2018,2019,2020],\"xaxis\":\"x\",\"y\":[132047.986592971,139358.965282942,141634.70382419598,138229.768982426,129068.578893335,92968.23209693789,83102.3504913049,91738.7527899469,93154.2348833798,93851.7456826318,89948.61137341929],\"yaxis\":\"y\",\"type\":\"scatter\"},{\"hovertemplate\":\"<b>%{hovertext}</b><br><br>Country Name=San Marino<br>Year=%{x}<br> GDP per capita, PPP (current international $) =%{y}<extra></extra>\",\"hovertext\":[\"San Marino\",\"San Marino\",\"San Marino\",\"San Marino\",\"San Marino\",\"San Marino\",\"San Marino\",\"San Marino\",\"San Marino\",\"San Marino\"],\"legendgroup\":\"San Marino\",\"line\":{\"color\":\"#ab63fa\",\"dash\":\"solid\"},\"marker\":{\"symbol\":\"circle\"},\"mode\":\"lines\",\"name\":\"San Marino\",\"orientation\":\"v\",\"showlegend\":true,\"x\":[2010,2011,2012,2013,2014,2015,2016,2017,2018,2019],\"xaxis\":\"x\",\"y\":[62777.53265696309,57954.4296788917,54450.4840286607,53465.094018955,55432.0699369456,55614.622171424504,57455.563369947005,58867.0133632425,61006.8482048258,63420.327135217405],\"yaxis\":\"y\",\"type\":\"scatter\"},{\"hovertemplate\":\"<b>%{hovertext}</b><br><br>Country Name=Saudi Arabia<br>Year=%{x}<br> GDP per capita, PPP (current international $) =%{y}<extra></extra>\",\"hovertext\":[\"Saudi Arabia\",\"Saudi Arabia\",\"Saudi Arabia\",\"Saudi Arabia\",\"Saudi Arabia\",\"Saudi Arabia\",\"Saudi Arabia\",\"Saudi Arabia\",\"Saudi Arabia\",\"Saudi Arabia\",\"Saudi Arabia\"],\"legendgroup\":\"Saudi Arabia\",\"line\":{\"color\":\"#FFA15A\",\"dash\":\"solid\"},\"marker\":{\"symbol\":\"circle\"},\"mode\":\"lines\",\"name\":\"Saudi Arabia\",\"orientation\":\"v\",\"showlegend\":true,\"x\":[2010,2011,2012,2013,2014,2015,2016,2017,2018,2019,2020],\"xaxis\":\"x\",\"y\":[51529.827889223605,56133.14418764519,57364.9851130461,55908.2499274917,55726.102312369505,48611.1314748371,45484.438433892305,47306.222319502005,48735.4604982217,48948.1740036301,46762.469683034695],\"yaxis\":\"y\",\"type\":\"scatter\"},{\"hovertemplate\":\"<b>%{hovertext}</b><br><br>Country Name=Singapore<br>Year=%{x}<br> GDP per capita, PPP (current international $) =%{y}<extra></extra>\",\"hovertext\":[\"Singapore\",\"Singapore\",\"Singapore\",\"Singapore\",\"Singapore\",\"Singapore\",\"Singapore\",\"Singapore\",\"Singapore\",\"Singapore\",\"Singapore\"],\"legendgroup\":\"Singapore\",\"line\":{\"color\":\"#19d3f3\",\"dash\":\"solid\"},\"marker\":{\"symbol\":\"circle\"},\"mode\":\"lines\",\"name\":\"Singapore\",\"orientation\":\"v\",\"showlegend\":true,\"x\":[2010,2011,2012,2013,2014,2015,2016,2017,2018,2019,2020],\"xaxis\":\"x\",\"y\":[75294.35655382,80052.3914982651,82064.96119108361,83001.78780137071,84423.1913432675,86974.74762306269,89417.34902083241,95350.43567480211,100581.158024992,102573.40176825199,98525.95522194881],\"yaxis\":\"y\",\"type\":\"scatter\"},{\"hovertemplate\":\"<b>%{hovertext}</b><br><br>Country Name=Sweden<br>Year=%{x}<br> GDP per capita, PPP (current international $) =%{y}<extra></extra>\",\"hovertext\":[\"Sweden\",\"Sweden\",\"Sweden\",\"Sweden\",\"Sweden\",\"Sweden\",\"Sweden\",\"Sweden\",\"Sweden\",\"Sweden\",\"Sweden\"],\"legendgroup\":\"Sweden\",\"line\":{\"color\":\"#FF6692\",\"dash\":\"solid\"},\"marker\":{\"symbol\":\"circle\"},\"mode\":\"lines\",\"name\":\"Sweden\",\"orientation\":\"v\",\"showlegend\":true,\"x\":[2010,2011,2012,2013,2014,2015,2016,2017,2018,2019,2020],\"xaxis\":\"x\",\"y\":[42256.1621212554,44608.5802614915,45432.431969276106,46312.3923824667,47184.669133818206,49103.13343387059,50430.25281960519,51947.954247824404,53553.312449047,55337.8745630725,54913.64838669849],\"yaxis\":\"y\",\"type\":\"scatter\"},{\"hovertemplate\":\"<b>%{hovertext}</b><br><br>Country Name=Switzerland<br>Year=%{x}<br> GDP per capita, PPP (current international $) =%{y}<extra></extra>\",\"hovertext\":[\"Switzerland\",\"Switzerland\",\"Switzerland\",\"Switzerland\",\"Switzerland\",\"Switzerland\",\"Switzerland\",\"Switzerland\",\"Switzerland\",\"Switzerland\",\"Switzerland\"],\"legendgroup\":\"Switzerland\",\"line\":{\"color\":\"#B6E880\",\"dash\":\"solid\"},\"marker\":{\"symbol\":\"circle\"},\"mode\":\"lines\",\"name\":\"Switzerland\",\"orientation\":\"v\",\"showlegend\":true,\"x\":[2010,2011,2012,2013,2014,2015,2016,2017,2018,2019,2020],\"xaxis\":\"x\",\"y\":[54900.3143485052,57987.5020305492,59933.598682916796,62225.087267787996,64103.010447633606,66020.2043398841,68105.1549836834,69103.570264696,71671.5150817135,73143.7581644734,71760.5862131052],\"yaxis\":\"y\",\"type\":\"scatter\"},{\"hovertemplate\":\"<b>%{hovertext}</b><br><br>Country Name=United Arab Emirates<br>Year=%{x}<br> GDP per capita, PPP (current international $) =%{y}<extra></extra>\",\"hovertext\":[\"United Arab Emirates\",\"United Arab Emirates\",\"United Arab Emirates\",\"United Arab Emirates\",\"United Arab Emirates\",\"United Arab Emirates\",\"United Arab Emirates\",\"United Arab Emirates\",\"United Arab Emirates\",\"United Arab Emirates\"],\"legendgroup\":\"United Arab Emirates\",\"line\":{\"color\":\"#FF97FF\",\"dash\":\"solid\"},\"marker\":{\"symbol\":\"circle\"},\"mode\":\"lines\",\"name\":\"United Arab Emirates\",\"orientation\":\"v\",\"showlegend\":true,\"x\":[2010,2011,2012,2013,2014,2015,2016,2017,2018,2019],\"xaxis\":\"x\",\"y\":[64881.7805747146,67686.38537987981,69102.4761704654,70374.2353627555,73619.04465570679,64901.880051235195,63968.888039171106,67183.6053111678,68576.1155204355,69957.61807533981],\"yaxis\":\"y\",\"type\":\"scatter\"},{\"hovertemplate\":\"<b>%{hovertext}</b><br><br>Country Name=United States<br>Year=%{x}<br> GDP per capita, PPP (current international $) =%{y}<extra></extra>\",\"hovertext\":[\"United States\",\"United States\",\"United States\",\"United States\",\"United States\",\"United States\",\"United States\",\"United States\",\"United States\",\"United States\",\"United States\"],\"legendgroup\":\"United States\",\"line\":{\"color\":\"#FECB52\",\"dash\":\"solid\"},\"marker\":{\"symbol\":\"circle\"},\"mode\":\"lines\",\"name\":\"United States\",\"orientation\":\"v\",\"showlegend\":true,\"x\":[2010,2011,2012,2013,2014,2015,2016,2017,2018,2019,2020],\"xaxis\":\"x\",\"y\":[48466.6576026922,49882.558132149505,51602.931045790705,53106.5367672165,55049.9883272312,56863.3714957652,58021.4004997125,60109.6557260477,63064.418409672806,65279.529026095,63543.577788724004],\"yaxis\":\"y\",\"type\":\"scatter\"}],                        {\"template\":{\"data\":{\"bar\":[{\"error_x\":{\"color\":\"#f2f5fa\"},\"error_y\":{\"color\":\"#f2f5fa\"},\"marker\":{\"line\":{\"color\":\"rgb(17,17,17)\",\"width\":0.5},\"pattern\":{\"fillmode\":\"overlay\",\"size\":10,\"solidity\":0.2}},\"type\":\"bar\"}],\"barpolar\":[{\"marker\":{\"line\":{\"color\":\"rgb(17,17,17)\",\"width\":0.5},\"pattern\":{\"fillmode\":\"overlay\",\"size\":10,\"solidity\":0.2}},\"type\":\"barpolar\"}],\"carpet\":[{\"aaxis\":{\"endlinecolor\":\"#A2B1C6\",\"gridcolor\":\"#506784\",\"linecolor\":\"#506784\",\"minorgridcolor\":\"#506784\",\"startlinecolor\":\"#A2B1C6\"},\"baxis\":{\"endlinecolor\":\"#A2B1C6\",\"gridcolor\":\"#506784\",\"linecolor\":\"#506784\",\"minorgridcolor\":\"#506784\",\"startlinecolor\":\"#A2B1C6\"},\"type\":\"carpet\"}],\"choropleth\":[{\"colorbar\":{\"outlinewidth\":0,\"ticks\":\"\"},\"type\":\"choropleth\"}],\"contour\":[{\"colorbar\":{\"outlinewidth\":0,\"ticks\":\"\"},\"colorscale\":[[0.0,\"#0d0887\"],[0.1111111111111111,\"#46039f\"],[0.2222222222222222,\"#7201a8\"],[0.3333333333333333,\"#9c179e\"],[0.4444444444444444,\"#bd3786\"],[0.5555555555555556,\"#d8576b\"],[0.6666666666666666,\"#ed7953\"],[0.7777777777777778,\"#fb9f3a\"],[0.8888888888888888,\"#fdca26\"],[1.0,\"#f0f921\"]],\"type\":\"contour\"}],\"contourcarpet\":[{\"colorbar\":{\"outlinewidth\":0,\"ticks\":\"\"},\"type\":\"contourcarpet\"}],\"heatmap\":[{\"colorbar\":{\"outlinewidth\":0,\"ticks\":\"\"},\"colorscale\":[[0.0,\"#0d0887\"],[0.1111111111111111,\"#46039f\"],[0.2222222222222222,\"#7201a8\"],[0.3333333333333333,\"#9c179e\"],[0.4444444444444444,\"#bd3786\"],[0.5555555555555556,\"#d8576b\"],[0.6666666666666666,\"#ed7953\"],[0.7777777777777778,\"#fb9f3a\"],[0.8888888888888888,\"#fdca26\"],[1.0,\"#f0f921\"]],\"type\":\"heatmap\"}],\"heatmapgl\":[{\"colorbar\":{\"outlinewidth\":0,\"ticks\":\"\"},\"colorscale\":[[0.0,\"#0d0887\"],[0.1111111111111111,\"#46039f\"],[0.2222222222222222,\"#7201a8\"],[0.3333333333333333,\"#9c179e\"],[0.4444444444444444,\"#bd3786\"],[0.5555555555555556,\"#d8576b\"],[0.6666666666666666,\"#ed7953\"],[0.7777777777777778,\"#fb9f3a\"],[0.8888888888888888,\"#fdca26\"],[1.0,\"#f0f921\"]],\"type\":\"heatmapgl\"}],\"histogram\":[{\"marker\":{\"pattern\":{\"fillmode\":\"overlay\",\"size\":10,\"solidity\":0.2}},\"type\":\"histogram\"}],\"histogram2d\":[{\"colorbar\":{\"outlinewidth\":0,\"ticks\":\"\"},\"colorscale\":[[0.0,\"#0d0887\"],[0.1111111111111111,\"#46039f\"],[0.2222222222222222,\"#7201a8\"],[0.3333333333333333,\"#9c179e\"],[0.4444444444444444,\"#bd3786\"],[0.5555555555555556,\"#d8576b\"],[0.6666666666666666,\"#ed7953\"],[0.7777777777777778,\"#fb9f3a\"],[0.8888888888888888,\"#fdca26\"],[1.0,\"#f0f921\"]],\"type\":\"histogram2d\"}],\"histogram2dcontour\":[{\"colorbar\":{\"outlinewidth\":0,\"ticks\":\"\"},\"colorscale\":[[0.0,\"#0d0887\"],[0.1111111111111111,\"#46039f\"],[0.2222222222222222,\"#7201a8\"],[0.3333333333333333,\"#9c179e\"],[0.4444444444444444,\"#bd3786\"],[0.5555555555555556,\"#d8576b\"],[0.6666666666666666,\"#ed7953\"],[0.7777777777777778,\"#fb9f3a\"],[0.8888888888888888,\"#fdca26\"],[1.0,\"#f0f921\"]],\"type\":\"histogram2dcontour\"}],\"mesh3d\":[{\"colorbar\":{\"outlinewidth\":0,\"ticks\":\"\"},\"type\":\"mesh3d\"}],\"parcoords\":[{\"line\":{\"colorbar\":{\"outlinewidth\":0,\"ticks\":\"\"}},\"type\":\"parcoords\"}],\"pie\":[{\"automargin\":true,\"type\":\"pie\"}],\"scatter\":[{\"marker\":{\"line\":{\"color\":\"#283442\"}},\"type\":\"scatter\"}],\"scatter3d\":[{\"line\":{\"colorbar\":{\"outlinewidth\":0,\"ticks\":\"\"}},\"marker\":{\"colorbar\":{\"outlinewidth\":0,\"ticks\":\"\"}},\"type\":\"scatter3d\"}],\"scattercarpet\":[{\"marker\":{\"colorbar\":{\"outlinewidth\":0,\"ticks\":\"\"}},\"type\":\"scattercarpet\"}],\"scattergeo\":[{\"marker\":{\"colorbar\":{\"outlinewidth\":0,\"ticks\":\"\"}},\"type\":\"scattergeo\"}],\"scattergl\":[{\"marker\":{\"line\":{\"color\":\"#283442\"}},\"type\":\"scattergl\"}],\"scattermapbox\":[{\"marker\":{\"colorbar\":{\"outlinewidth\":0,\"ticks\":\"\"}},\"type\":\"scattermapbox\"}],\"scatterpolar\":[{\"marker\":{\"colorbar\":{\"outlinewidth\":0,\"ticks\":\"\"}},\"type\":\"scatterpolar\"}],\"scatterpolargl\":[{\"marker\":{\"colorbar\":{\"outlinewidth\":0,\"ticks\":\"\"}},\"type\":\"scatterpolargl\"}],\"scatterternary\":[{\"marker\":{\"colorbar\":{\"outlinewidth\":0,\"ticks\":\"\"}},\"type\":\"scatterternary\"}],\"surface\":[{\"colorbar\":{\"outlinewidth\":0,\"ticks\":\"\"},\"colorscale\":[[0.0,\"#0d0887\"],[0.1111111111111111,\"#46039f\"],[0.2222222222222222,\"#7201a8\"],[0.3333333333333333,\"#9c179e\"],[0.4444444444444444,\"#bd3786\"],[0.5555555555555556,\"#d8576b\"],[0.6666666666666666,\"#ed7953\"],[0.7777777777777778,\"#fb9f3a\"],[0.8888888888888888,\"#fdca26\"],[1.0,\"#f0f921\"]],\"type\":\"surface\"}],\"table\":[{\"cells\":{\"fill\":{\"color\":\"#506784\"},\"line\":{\"color\":\"rgb(17,17,17)\"}},\"header\":{\"fill\":{\"color\":\"#2a3f5f\"},\"line\":{\"color\":\"rgb(17,17,17)\"}},\"type\":\"table\"}]},\"layout\":{\"annotationdefaults\":{\"arrowcolor\":\"#f2f5fa\",\"arrowhead\":0,\"arrowwidth\":1},\"autotypenumbers\":\"strict\",\"coloraxis\":{\"colorbar\":{\"outlinewidth\":0,\"ticks\":\"\"}},\"colorscale\":{\"diverging\":[[0,\"#8e0152\"],[0.1,\"#c51b7d\"],[0.2,\"#de77ae\"],[0.3,\"#f1b6da\"],[0.4,\"#fde0ef\"],[0.5,\"#f7f7f7\"],[0.6,\"#e6f5d0\"],[0.7,\"#b8e186\"],[0.8,\"#7fbc41\"],[0.9,\"#4d9221\"],[1,\"#276419\"]],\"sequential\":[[0.0,\"#0d0887\"],[0.1111111111111111,\"#46039f\"],[0.2222222222222222,\"#7201a8\"],[0.3333333333333333,\"#9c179e\"],[0.4444444444444444,\"#bd3786\"],[0.5555555555555556,\"#d8576b\"],[0.6666666666666666,\"#ed7953\"],[0.7777777777777778,\"#fb9f3a\"],[0.8888888888888888,\"#fdca26\"],[1.0,\"#f0f921\"]],\"sequentialminus\":[[0.0,\"#0d0887\"],[0.1111111111111111,\"#46039f\"],[0.2222222222222222,\"#7201a8\"],[0.3333333333333333,\"#9c179e\"],[0.4444444444444444,\"#bd3786\"],[0.5555555555555556,\"#d8576b\"],[0.6666666666666666,\"#ed7953\"],[0.7777777777777778,\"#fb9f3a\"],[0.8888888888888888,\"#fdca26\"],[1.0,\"#f0f921\"]]},\"colorway\":[\"#636efa\",\"#EF553B\",\"#00cc96\",\"#ab63fa\",\"#FFA15A\",\"#19d3f3\",\"#FF6692\",\"#B6E880\",\"#FF97FF\",\"#FECB52\"],\"font\":{\"color\":\"#f2f5fa\"},\"geo\":{\"bgcolor\":\"rgb(17,17,17)\",\"lakecolor\":\"rgb(17,17,17)\",\"landcolor\":\"rgb(17,17,17)\",\"showlakes\":true,\"showland\":true,\"subunitcolor\":\"#506784\"},\"hoverlabel\":{\"align\":\"left\"},\"hovermode\":\"closest\",\"mapbox\":{\"style\":\"dark\"},\"paper_bgcolor\":\"rgb(17,17,17)\",\"plot_bgcolor\":\"rgb(17,17,17)\",\"polar\":{\"angularaxis\":{\"gridcolor\":\"#506784\",\"linecolor\":\"#506784\",\"ticks\":\"\"},\"bgcolor\":\"rgb(17,17,17)\",\"radialaxis\":{\"gridcolor\":\"#506784\",\"linecolor\":\"#506784\",\"ticks\":\"\"}},\"scene\":{\"xaxis\":{\"backgroundcolor\":\"rgb(17,17,17)\",\"gridcolor\":\"#506784\",\"gridwidth\":2,\"linecolor\":\"#506784\",\"showbackground\":true,\"ticks\":\"\",\"zerolinecolor\":\"#C8D4E3\"},\"yaxis\":{\"backgroundcolor\":\"rgb(17,17,17)\",\"gridcolor\":\"#506784\",\"gridwidth\":2,\"linecolor\":\"#506784\",\"showbackground\":true,\"ticks\":\"\",\"zerolinecolor\":\"#C8D4E3\"},\"zaxis\":{\"backgroundcolor\":\"rgb(17,17,17)\",\"gridcolor\":\"#506784\",\"gridwidth\":2,\"linecolor\":\"#506784\",\"showbackground\":true,\"ticks\":\"\",\"zerolinecolor\":\"#C8D4E3\"}},\"shapedefaults\":{\"line\":{\"color\":\"#f2f5fa\"}},\"sliderdefaults\":{\"bgcolor\":\"#C8D4E3\",\"bordercolor\":\"rgb(17,17,17)\",\"borderwidth\":1,\"tickwidth\":0},\"ternary\":{\"aaxis\":{\"gridcolor\":\"#506784\",\"linecolor\":\"#506784\",\"ticks\":\"\"},\"baxis\":{\"gridcolor\":\"#506784\",\"linecolor\":\"#506784\",\"ticks\":\"\"},\"bgcolor\":\"rgb(17,17,17)\",\"caxis\":{\"gridcolor\":\"#506784\",\"linecolor\":\"#506784\",\"ticks\":\"\"}},\"title\":{\"x\":0.05},\"updatemenudefaults\":{\"bgcolor\":\"#506784\",\"borderwidth\":0},\"xaxis\":{\"automargin\":true,\"gridcolor\":\"#283442\",\"linecolor\":\"#506784\",\"ticks\":\"\",\"title\":{\"standoff\":15},\"zerolinecolor\":\"#283442\",\"zerolinewidth\":2},\"yaxis\":{\"automargin\":true,\"gridcolor\":\"#283442\",\"linecolor\":\"#506784\",\"ticks\":\"\",\"title\":{\"standoff\":15},\"zerolinecolor\":\"#283442\",\"zerolinewidth\":2}}},\"xaxis\":{\"anchor\":\"y\",\"domain\":[0.0,1.0],\"title\":{\"text\":\"Year\"}},\"yaxis\":{\"anchor\":\"x\",\"domain\":[0.0,1.0],\"title\":{\"text\":\" GDP per capita, PPP (current international $) \"}},\"legend\":{\"title\":{\"text\":\"Country Name\"},\"tracegroupgap\":0},\"title\":{\"text\":\"TOP 20 Countries by GDP per capita, PPP (current international $) \"}},                        {\"responsive\": true}                    ).then(function(){\n",
              "                            \n",
              "var gd = document.getElementById('cede0d67-1e3a-47e6-bf54-fdb8658e1059');\n",
              "var x = new MutationObserver(function (mutations, observer) {{\n",
              "        var display = window.getComputedStyle(gd).display;\n",
              "        if (!display || display === 'none') {{\n",
              "            console.log([gd, 'removed!']);\n",
              "            Plotly.purge(gd);\n",
              "            observer.disconnect();\n",
              "        }}\n",
              "}});\n",
              "\n",
              "// Listen for the removal of the full notebook cells\n",
              "var notebookContainer = gd.closest('#notebook-container');\n",
              "if (notebookContainer) {{\n",
              "    x.observe(notebookContainer, {childList: true});\n",
              "}}\n",
              "\n",
              "// Listen for the clearing of the current output cell\n",
              "var outputEl = gd.closest('.output');\n",
              "if (outputEl) {{\n",
              "    x.observe(outputEl, {childList: true});\n",
              "}}\n",
              "\n",
              "                        })                };                            </script>        </div>\n",
              "</body>\n",
              "</html>"
            ]
          },
          "metadata": {}
        }
      ]
    },
    {
      "cell_type": "markdown",
      "source": [
        "Following are the observations for the above graphs:\n",
        "-\tThe above graph clearly shows countries that European and central Asian countries have a higher GDP per capita.\n",
        "-\tDuring the year 2014-2015 Macao SAR, China’s GDP dropped by a big margin of 40K.\n",
        "-\tEuropean Countries like, Norway, Sweden, Luxembourg and Netherlands has a linear Growth throughout time span.\n"
      ],
      "metadata": {
        "id": "iZdfG73IowUQ"
      }
    },
    {
      "cell_type": "markdown",
      "metadata": {
        "id": "PYZxFx88IsyX"
      },
      "source": [
        "## **Percentage of Firms with Females at top managerial positions (Europe, Central Asia, and North America)**\n",
        "\n",
        "After looking at the previous graphs it can be said that European countries, Central Asia and North America has a higher GDP per capita. Hence, for further analysis I have investigated the data from 2010-2019 to see the impact of females at top managerial positions on the GDP on the global front. \n",
        "\n",
        "---"
      ]
    },
    {
      "cell_type": "code",
      "metadata": {
        "colab": {
          "base_uri": "https://localhost:8080/",
          "height": 112
        },
        "id": "ZrqKpAOwdeR_",
        "outputId": "3e019fc6-b100-49e5-98bd-b0df100f6b93"
      },
      "source": [
        "#Dataset 3:  Percentage of Firms with Females at top managerial positions (Europe, Central Asia, and North America)\n",
        "\n",
        "\n",
        "df_3=pd.read_csv('https://raw.githubusercontent.com/Mrshreesharma/DS601_Fall21/main/Data690/fig3.csv')\n",
        "df_3.head(2)"
      ],
      "execution_count": 19,
      "outputs": [
        {
          "output_type": "execute_result",
          "data": {
            "text/html": [
              "<div>\n",
              "<style scoped>\n",
              "    .dataframe tbody tr th:only-of-type {\n",
              "        vertical-align: middle;\n",
              "    }\n",
              "\n",
              "    .dataframe tbody tr th {\n",
              "        vertical-align: top;\n",
              "    }\n",
              "\n",
              "    .dataframe thead th {\n",
              "        text-align: right;\n",
              "    }\n",
              "</style>\n",
              "<table border=\"1\" class=\"dataframe\">\n",
              "  <thead>\n",
              "    <tr style=\"text-align: right;\">\n",
              "      <th></th>\n",
              "      <th>Unnamed: 0</th>\n",
              "      <th>Year</th>\n",
              "      <th>value</th>\n",
              "      <th>indicator</th>\n",
              "      <th>Country Code</th>\n",
              "      <th>Country Name</th>\n",
              "      <th>Region</th>\n",
              "      <th>Income Group</th>\n",
              "      <th>Lending Type</th>\n",
              "    </tr>\n",
              "  </thead>\n",
              "  <tbody>\n",
              "    <tr>\n",
              "      <th>0</th>\n",
              "      <td>0</td>\n",
              "      <td>2010</td>\n",
              "      <td>9636.108705</td>\n",
              "      <td>NY.GDP.PCAP.PP.CD</td>\n",
              "      <td>ALB</td>\n",
              "      <td>Albania</td>\n",
              "      <td>Europe &amp; Central Asia</td>\n",
              "      <td>Upper middle income</td>\n",
              "      <td>IBRD</td>\n",
              "    </tr>\n",
              "    <tr>\n",
              "      <th>1</th>\n",
              "      <td>1</td>\n",
              "      <td>2011</td>\n",
              "      <td>10207.733502</td>\n",
              "      <td>NY.GDP.PCAP.PP.CD</td>\n",
              "      <td>ALB</td>\n",
              "      <td>Albania</td>\n",
              "      <td>Europe &amp; Central Asia</td>\n",
              "      <td>Upper middle income</td>\n",
              "      <td>IBRD</td>\n",
              "    </tr>\n",
              "  </tbody>\n",
              "</table>\n",
              "</div>"
            ],
            "text/plain": [
              "   Unnamed: 0  Year  ...         Income Group Lending Type\n",
              "0           0  2010  ...  Upper middle income         IBRD\n",
              "1           1  2011  ...  Upper middle income         IBRD\n",
              "\n",
              "[2 rows x 9 columns]"
            ]
          },
          "metadata": {},
          "execution_count": 19
        }
      ]
    },
    {
      "cell_type": "code",
      "metadata": {
        "colab": {
          "base_uri": "https://localhost:8080/",
          "height": 143
        },
        "id": "u80o5eOOjwmc",
        "outputId": "59e588c7-eccd-4521-b7d9-df2fe00f2edb"
      },
      "source": [
        "#Dropping 'Unnamed: 0' column because it has no relevant data\n",
        "\n",
        "#This is the final cleaned dataset for ' Percentage of Firms with Females at top managerial positions'\n",
        "\n",
        "df_3 = df_3.drop(columns=['Unnamed: 0'])\n",
        "df_3.head(3)"
      ],
      "execution_count": 20,
      "outputs": [
        {
          "output_type": "execute_result",
          "data": {
            "text/html": [
              "<div>\n",
              "<style scoped>\n",
              "    .dataframe tbody tr th:only-of-type {\n",
              "        vertical-align: middle;\n",
              "    }\n",
              "\n",
              "    .dataframe tbody tr th {\n",
              "        vertical-align: top;\n",
              "    }\n",
              "\n",
              "    .dataframe thead th {\n",
              "        text-align: right;\n",
              "    }\n",
              "</style>\n",
              "<table border=\"1\" class=\"dataframe\">\n",
              "  <thead>\n",
              "    <tr style=\"text-align: right;\">\n",
              "      <th></th>\n",
              "      <th>Year</th>\n",
              "      <th>value</th>\n",
              "      <th>indicator</th>\n",
              "      <th>Country Code</th>\n",
              "      <th>Country Name</th>\n",
              "      <th>Region</th>\n",
              "      <th>Income Group</th>\n",
              "      <th>Lending Type</th>\n",
              "    </tr>\n",
              "  </thead>\n",
              "  <tbody>\n",
              "    <tr>\n",
              "      <th>0</th>\n",
              "      <td>2010</td>\n",
              "      <td>9636.108705</td>\n",
              "      <td>NY.GDP.PCAP.PP.CD</td>\n",
              "      <td>ALB</td>\n",
              "      <td>Albania</td>\n",
              "      <td>Europe &amp; Central Asia</td>\n",
              "      <td>Upper middle income</td>\n",
              "      <td>IBRD</td>\n",
              "    </tr>\n",
              "    <tr>\n",
              "      <th>1</th>\n",
              "      <td>2011</td>\n",
              "      <td>10207.733502</td>\n",
              "      <td>NY.GDP.PCAP.PP.CD</td>\n",
              "      <td>ALB</td>\n",
              "      <td>Albania</td>\n",
              "      <td>Europe &amp; Central Asia</td>\n",
              "      <td>Upper middle income</td>\n",
              "      <td>IBRD</td>\n",
              "    </tr>\n",
              "    <tr>\n",
              "      <th>2</th>\n",
              "      <td>2012</td>\n",
              "      <td>10526.318974</td>\n",
              "      <td>NY.GDP.PCAP.PP.CD</td>\n",
              "      <td>ALB</td>\n",
              "      <td>Albania</td>\n",
              "      <td>Europe &amp; Central Asia</td>\n",
              "      <td>Upper middle income</td>\n",
              "      <td>IBRD</td>\n",
              "    </tr>\n",
              "  </tbody>\n",
              "</table>\n",
              "</div>"
            ],
            "text/plain": [
              "   Year         value  ...         Income Group Lending Type\n",
              "0  2010   9636.108705  ...  Upper middle income         IBRD\n",
              "1  2011  10207.733502  ...  Upper middle income         IBRD\n",
              "2  2012  10526.318974  ...  Upper middle income         IBRD\n",
              "\n",
              "[3 rows x 8 columns]"
            ]
          },
          "metadata": {},
          "execution_count": 20
        }
      ]
    },
    {
      "cell_type": "code",
      "metadata": {
        "colab": {
          "base_uri": "https://localhost:8080/"
        },
        "id": "rNxNyuCNjL6l",
        "outputId": "cd504aa9-b37d-4347-8385-032c584448ca"
      },
      "source": [
        "#Checking for null values\n",
        "\n",
        "df_3.isnull().sum()"
      ],
      "execution_count": 22,
      "outputs": [
        {
          "output_type": "execute_result",
          "data": {
            "text/plain": [
              "Year            0\n",
              "value           0\n",
              "indicator       0\n",
              "Country Code    0\n",
              "Country Name    0\n",
              "Region          0\n",
              "Income Group    0\n",
              "Lending Type    0\n",
              "dtype: int64"
            ]
          },
          "metadata": {},
          "execution_count": 22
        }
      ]
    },
    {
      "cell_type": "code",
      "source": [
        "df_pivot_3 =df_3.pivot(index =['Year','Country Code','Country Name','Region','Income Group'],columns = 'indicator', values ='value').reset_index()\n",
        "df_pivot_3.reset_index().head()"
      ],
      "metadata": {
        "colab": {
          "base_uri": "https://localhost:8080/",
          "height": 206
        },
        "id": "VcC59p_krEs5",
        "outputId": "c1b7e543-8302-4352-f2d5-1964a73fdb10"
      },
      "execution_count": 23,
      "outputs": [
        {
          "output_type": "execute_result",
          "data": {
            "text/html": [
              "<div>\n",
              "<style scoped>\n",
              "    .dataframe tbody tr th:only-of-type {\n",
              "        vertical-align: middle;\n",
              "    }\n",
              "\n",
              "    .dataframe tbody tr th {\n",
              "        vertical-align: top;\n",
              "    }\n",
              "\n",
              "    .dataframe thead th {\n",
              "        text-align: right;\n",
              "    }\n",
              "</style>\n",
              "<table border=\"1\" class=\"dataframe\">\n",
              "  <thead>\n",
              "    <tr style=\"text-align: right;\">\n",
              "      <th>indicator</th>\n",
              "      <th>index</th>\n",
              "      <th>Year</th>\n",
              "      <th>Country Code</th>\n",
              "      <th>Country Name</th>\n",
              "      <th>Region</th>\n",
              "      <th>Income Group</th>\n",
              "      <th>IC.FRM.FEMM.ZS</th>\n",
              "      <th>NY.GDP.PCAP.PP.CD</th>\n",
              "    </tr>\n",
              "  </thead>\n",
              "  <tbody>\n",
              "    <tr>\n",
              "      <th>0</th>\n",
              "      <td>0</td>\n",
              "      <td>2010</td>\n",
              "      <td>ALB</td>\n",
              "      <td>Albania</td>\n",
              "      <td>Europe &amp; Central Asia</td>\n",
              "      <td>Upper middle income</td>\n",
              "      <td>NaN</td>\n",
              "      <td>9636.108705</td>\n",
              "    </tr>\n",
              "    <tr>\n",
              "      <th>1</th>\n",
              "      <td>1</td>\n",
              "      <td>2010</td>\n",
              "      <td>ARM</td>\n",
              "      <td>Armenia</td>\n",
              "      <td>Europe &amp; Central Asia</td>\n",
              "      <td>Upper middle income</td>\n",
              "      <td>NaN</td>\n",
              "      <td>7506.321909</td>\n",
              "    </tr>\n",
              "    <tr>\n",
              "      <th>2</th>\n",
              "      <td>2</td>\n",
              "      <td>2010</td>\n",
              "      <td>AUT</td>\n",
              "      <td>Austria</td>\n",
              "      <td>Europe &amp; Central Asia</td>\n",
              "      <td>High income</td>\n",
              "      <td>NaN</td>\n",
              "      <td>42041.486681</td>\n",
              "    </tr>\n",
              "    <tr>\n",
              "      <th>3</th>\n",
              "      <td>3</td>\n",
              "      <td>2010</td>\n",
              "      <td>AZE</td>\n",
              "      <td>Azerbaijan</td>\n",
              "      <td>Europe &amp; Central Asia</td>\n",
              "      <td>Upper middle income</td>\n",
              "      <td>NaN</td>\n",
              "      <td>14926.637640</td>\n",
              "    </tr>\n",
              "    <tr>\n",
              "      <th>4</th>\n",
              "      <td>4</td>\n",
              "      <td>2010</td>\n",
              "      <td>BEL</td>\n",
              "      <td>Belgium</td>\n",
              "      <td>Europe &amp; Central Asia</td>\n",
              "      <td>High income</td>\n",
              "      <td>NaN</td>\n",
              "      <td>39870.494874</td>\n",
              "    </tr>\n",
              "  </tbody>\n",
              "</table>\n",
              "</div>"
            ],
            "text/plain": [
              "indicator  index  Year  ... IC.FRM.FEMM.ZS NY.GDP.PCAP.PP.CD\n",
              "0              0  2010  ...            NaN       9636.108705\n",
              "1              1  2010  ...            NaN       7506.321909\n",
              "2              2  2010  ...            NaN      42041.486681\n",
              "3              3  2010  ...            NaN      14926.637640\n",
              "4              4  2010  ...            NaN      39870.494874\n",
              "\n",
              "[5 rows x 8 columns]"
            ]
          },
          "metadata": {},
          "execution_count": 23
        }
      ]
    },
    {
      "cell_type": "code",
      "source": [
        "df_3 = df_pivot_3.dropna()"
      ],
      "metadata": {
        "id": "LxCXPYZQsBoJ"
      },
      "execution_count": 24,
      "outputs": []
    },
    {
      "cell_type": "code",
      "metadata": {
        "colab": {
          "base_uri": "https://localhost:8080/",
          "height": 717
        },
        "id": "Iwj1s26HkN1s",
        "outputId": "638ea004-82ac-4438-ce01-071b156bbcc2"
      },
      "source": [
        "fig = px.scatter(df_3, \n",
        "                y=\"IC.FRM.FEMM.ZS\", \n",
        "                x=\"NY.GDP.PCAP.PP.CD\",\n",
        "                title=\"Relation between Firms with Females at top managerial positions and GDP per capita\",\n",
        "                labels={\"IC.FRM.FEMM.ZS\":\"Percentage of Firms with Females at top managerial positions(% of firms)\",\"NY.GDP.PCAP.PP.CD\":\"GDP per capita\"},\n",
        "                color=\"Country Name\",\n",
        "                hover_name='Year',\n",
        "                height=700,\n",
        "                text = 'Year',\n",
        "                size=\"NY.GDP.PCAP.PP.CD\",\n",
        "                size_max=8,\n",
        "                )\n",
        "fig.update_traces(marker_size=40,textposition = 'middle center')\n",
        "\n",
        "fig.show()"
      ],
      "execution_count": 29,
      "outputs": [
        {
          "output_type": "display_data",
          "data": {
            "text/html": [
              "<html>\n",
              "<head><meta charset=\"utf-8\" /></head>\n",
              "<body>\n",
              "    <div>            <script src=\"https://cdnjs.cloudflare.com/ajax/libs/mathjax/2.7.5/MathJax.js?config=TeX-AMS-MML_SVG\"></script><script type=\"text/javascript\">if (window.MathJax) {MathJax.Hub.Config({SVG: {font: \"STIX-Web\"}});}</script>                <script type=\"text/javascript\">window.PlotlyConfig = {MathJaxConfig: 'local'};</script>\n",
              "        <script src=\"https://cdn.plot.ly/plotly-2.6.3.min.js\"></script>                <div id=\"fda822bb-bffd-454f-ad3e-254e4c2aef81\" class=\"plotly-graph-div\" style=\"height:700px; width:100%;\"></div>            <script type=\"text/javascript\">                                    window.PLOTLYENV=window.PLOTLYENV || {};                                    if (document.getElementById(\"fda822bb-bffd-454f-ad3e-254e4c2aef81\")) {                    Plotly.newPlot(                        \"fda822bb-bffd-454f-ad3e-254e4c2aef81\",                        [{\"hovertemplate\":\"<b>%{hovertext}</b><br><br>Country Name=Russian Federation<br>GDP per capita=%{marker.size}<br>Percentage of Firms with Females at top managerial positions(% of firms)=%{y}<br>Year=%{text}<extra></extra>\",\"hovertext\":[2012.0,2019.0],\"legendgroup\":\"Russian Federation\",\"marker\":{\"color\":\"#636efa\",\"size\":40,\"sizemode\":\"area\",\"sizeref\":737.2604552159095,\"symbol\":\"circle\"},\"mode\":\"markers+text\",\"name\":\"Russian Federation\",\"orientation\":\"v\",\"showlegend\":true,\"text\":[2012.0,2019.0],\"x\":[24303.4734145818,29188.854156647],\"xaxis\":\"x\",\"y\":[20.1,24.3],\"yaxis\":\"y\",\"type\":\"scatter\",\"textposition\":\"middle center\"},{\"hovertemplate\":\"<b>%{hovertext}</b><br><br>Country Name=Albania<br>GDP per capita=%{marker.size}<br>Percentage of Firms with Females at top managerial positions(% of firms)=%{y}<br>Year=%{text}<extra></extra>\",\"hovertext\":[2013.0,2019.0],\"legendgroup\":\"Albania\",\"marker\":{\"color\":\"#EF553B\",\"size\":40,\"sizemode\":\"area\",\"sizeref\":737.2604552159095,\"symbol\":\"circle\"},\"mode\":\"markers+text\",\"name\":\"Albania\",\"orientation\":\"v\",\"showlegend\":true,\"text\":[2013.0,2019.0],\"x\":[10570.9681040326,14230.989507210601],\"xaxis\":\"x\",\"y\":[12.2,18.1],\"yaxis\":\"y\",\"type\":\"scatter\",\"textposition\":\"middle center\"},{\"hovertemplate\":\"<b>%{hovertext}</b><br><br>Country Name=Armenia<br>GDP per capita=%{marker.size}<br>Percentage of Firms with Females at top managerial positions(% of firms)=%{y}<br>Year=%{text}<extra></extra>\",\"hovertext\":[2013.0],\"legendgroup\":\"Armenia\",\"marker\":{\"color\":\"#00cc96\",\"size\":40,\"sizemode\":\"area\",\"sizeref\":737.2604552159095,\"symbol\":\"circle\"},\"mode\":\"markers+text\",\"name\":\"Armenia\",\"orientation\":\"v\",\"showlegend\":true,\"text\":[2013.0],\"x\":[9835.8024609198],\"xaxis\":\"x\",\"y\":[14.1],\"yaxis\":\"y\",\"type\":\"scatter\",\"textposition\":\"middle center\"},{\"hovertemplate\":\"<b>%{hovertext}</b><br><br>Country Name=Azerbaijan<br>GDP per capita=%{marker.size}<br>Percentage of Firms with Females at top managerial positions(% of firms)=%{y}<br>Year=%{text}<extra></extra>\",\"hovertext\":[2013.0,2019.0],\"legendgroup\":\"Azerbaijan\",\"marker\":{\"color\":\"#ab63fa\",\"size\":40,\"sizemode\":\"area\",\"sizeref\":737.2604552159095,\"symbol\":\"circle\"},\"mode\":\"markers+text\",\"name\":\"Azerbaijan\",\"orientation\":\"v\",\"showlegend\":true,\"text\":[2013.0,2019.0],\"x\":[17188.945505661202,15049.938564813701],\"xaxis\":\"x\",\"y\":[2.6,16.5],\"yaxis\":\"y\",\"type\":\"scatter\",\"textposition\":\"middle center\"},{\"hovertemplate\":\"<b>%{hovertext}</b><br><br>Country Name=Bulgaria<br>GDP per capita=%{marker.size}<br>Percentage of Firms with Females at top managerial positions(% of firms)=%{y}<br>Year=%{text}<extra></extra>\",\"hovertext\":[2013.0,2019.0],\"legendgroup\":\"Bulgaria\",\"marker\":{\"color\":\"#FFA15A\",\"size\":40,\"sizemode\":\"area\",\"sizeref\":737.2604552159095,\"symbol\":\"circle\"},\"mode\":\"markers+text\",\"name\":\"Bulgaria\",\"orientation\":\"v\",\"showlegend\":true,\"text\":[2013.0,2019.0],\"x\":[16588.9333463683,24579.216545017098],\"xaxis\":\"x\",\"y\":[23.5,28.8],\"yaxis\":\"y\",\"type\":\"scatter\",\"textposition\":\"middle center\"},{\"hovertemplate\":\"<b>%{hovertext}</b><br><br>Country Name=Bosnia and Herzegovina<br>GDP per capita=%{marker.size}<br>Percentage of Firms with Females at top managerial positions(% of firms)=%{y}<br>Year=%{text}<extra></extra>\",\"hovertext\":[2013.0,2019.0],\"legendgroup\":\"Bosnia and Herzegovina\",\"marker\":{\"color\":\"#19d3f3\",\"size\":40,\"sizemode\":\"area\",\"sizeref\":737.2604552159095,\"symbol\":\"circle\"},\"mode\":\"markers+text\",\"name\":\"Bosnia and Herzegovina\",\"orientation\":\"v\",\"showlegend\":true,\"text\":[2013.0,2019.0],\"x\":[11016.5604302948,15847.1340401587],\"xaxis\":\"x\",\"y\":[16.6,16.6],\"yaxis\":\"y\",\"type\":\"scatter\",\"textposition\":\"middle center\"},{\"hovertemplate\":\"<b>%{hovertext}</b><br><br>Country Name=Belarus<br>GDP per capita=%{marker.size}<br>Percentage of Firms with Females at top managerial positions(% of firms)=%{y}<br>Year=%{text}<extra></extra>\",\"hovertext\":[2013.0,2018.0],\"legendgroup\":\"Belarus\",\"marker\":{\"color\":\"#FF6692\",\"size\":40,\"sizemode\":\"area\",\"sizeref\":737.2604552159095,\"symbol\":\"circle\"},\"mode\":\"markers+text\",\"name\":\"Belarus\",\"orientation\":\"v\",\"showlegend\":true,\"text\":[2013.0,2018.0],\"x\":[18948.468473696397,19338.6664376772],\"xaxis\":\"x\",\"y\":[32.2,21.1],\"yaxis\":\"y\",\"type\":\"scatter\",\"textposition\":\"middle center\"},{\"hovertemplate\":\"<b>%{hovertext}</b><br><br>Country Name=Czech Republic<br>GDP per capita=%{marker.size}<br>Percentage of Firms with Females at top managerial positions(% of firms)=%{y}<br>Year=%{text}<extra></extra>\",\"hovertext\":[2013.0,2019.0],\"legendgroup\":\"Czech Republic\",\"marker\":{\"color\":\"#B6E880\",\"size\":40,\"sizemode\":\"area\",\"sizeref\":737.2604552159095,\"symbol\":\"circle\"},\"mode\":\"markers+text\",\"name\":\"Czech Republic\",\"orientation\":\"v\",\"showlegend\":true,\"text\":[2013.0,2019.0],\"x\":[30818.1081558477,43316.3274410414],\"xaxis\":\"x\",\"y\":[11.3,16.1],\"yaxis\":\"y\",\"type\":\"scatter\",\"textposition\":\"middle center\"},{\"hovertemplate\":\"<b>%{hovertext}</b><br><br>Country Name=Estonia<br>GDP per capita=%{marker.size}<br>Percentage of Firms with Females at top managerial positions(% of firms)=%{y}<br>Year=%{text}<extra></extra>\",\"hovertext\":[2013.0,2019.0],\"legendgroup\":\"Estonia\",\"marker\":{\"color\":\"#FF97FF\",\"size\":40,\"sizemode\":\"area\",\"sizeref\":737.2604552159095,\"symbol\":\"circle\"},\"mode\":\"markers+text\",\"name\":\"Estonia\",\"orientation\":\"v\",\"showlegend\":true,\"text\":[2013.0,2019.0],\"x\":[27464.5186781161,38294.4773615386],\"xaxis\":\"x\",\"y\":[27.6,22.5],\"yaxis\":\"y\",\"type\":\"scatter\",\"textposition\":\"middle center\"},{\"hovertemplate\":\"<b>%{hovertext}</b><br><br>Country Name=Georgia<br>GDP per capita=%{marker.size}<br>Percentage of Firms with Females at top managerial positions(% of firms)=%{y}<br>Year=%{text}<extra></extra>\",\"hovertext\":[2013.0,2019.0],\"legendgroup\":\"Georgia\",\"marker\":{\"color\":\"#FECB52\",\"size\":40,\"sizemode\":\"area\",\"sizeref\":737.2604552159095,\"symbol\":\"circle\"},\"mode\":\"markers+text\",\"name\":\"Georgia\",\"orientation\":\"v\",\"showlegend\":true,\"text\":[2013.0,2019.0],\"x\":[10611.7741169939,15623.1529588881],\"xaxis\":\"x\",\"y\":[32.7,16.5],\"yaxis\":\"y\",\"type\":\"scatter\",\"textposition\":\"middle center\"},{\"hovertemplate\":\"<b>%{hovertext}</b><br><br>Country Name=Croatia<br>GDP per capita=%{marker.size}<br>Percentage of Firms with Females at top managerial positions(% of firms)=%{y}<br>Year=%{text}<extra></extra>\",\"hovertext\":[2013.0,2019.0],\"legendgroup\":\"Croatia\",\"marker\":{\"color\":\"#636efa\",\"size\":40,\"sizemode\":\"area\",\"sizeref\":737.2604552159095,\"symbol\":\"circle\"},\"mode\":\"markers+text\",\"name\":\"Croatia\",\"orientation\":\"v\",\"showlegend\":true,\"text\":[2013.0,2019.0],\"x\":[21820.5205185603,30245.976215722203],\"xaxis\":\"x\",\"y\":[20.1,27.0],\"yaxis\":\"y\",\"type\":\"scatter\",\"textposition\":\"middle center\"},{\"hovertemplate\":\"<b>%{hovertext}</b><br><br>Country Name=Hungary<br>GDP per capita=%{marker.size}<br>Percentage of Firms with Females at top managerial positions(% of firms)=%{y}<br>Year=%{text}<extra></extra>\",\"hovertext\":[2013.0,2019.0],\"legendgroup\":\"Hungary\",\"marker\":{\"color\":\"#EF553B\",\"size\":40,\"sizemode\":\"area\",\"sizeref\":737.2604552159095,\"symbol\":\"circle\"},\"mode\":\"markers+text\",\"name\":\"Hungary\",\"orientation\":\"v\",\"showlegend\":true,\"text\":[2013.0,2019.0],\"x\":[24498.6587673236,33956.8219158243],\"xaxis\":\"x\",\"y\":[20.7,22.1],\"yaxis\":\"y\",\"type\":\"scatter\",\"textposition\":\"middle center\"},{\"hovertemplate\":\"<b>%{hovertext}</b><br><br>Country Name=Kazakhstan<br>GDP per capita=%{marker.size}<br>Percentage of Firms with Females at top managerial positions(% of firms)=%{y}<br>Year=%{text}<extra></extra>\",\"hovertext\":[2013.0,2019.0],\"legendgroup\":\"Kazakhstan\",\"marker\":{\"color\":\"#00cc96\",\"size\":40,\"sizemode\":\"area\",\"sizeref\":737.2604552159095,\"symbol\":\"circle\"},\"mode\":\"markers+text\",\"name\":\"Kazakhstan\",\"orientation\":\"v\",\"showlegend\":true,\"text\":[2013.0,2019.0],\"x\":[24504.7660856694,27466.220618657597],\"xaxis\":\"x\",\"y\":[19.4,26.0],\"yaxis\":\"y\",\"type\":\"scatter\",\"textposition\":\"middle center\"},{\"hovertemplate\":\"<b>%{hovertext}</b><br><br>Country Name=Kyrgyz Republic<br>GDP per capita=%{marker.size}<br>Percentage of Firms with Females at top managerial positions(% of firms)=%{y}<br>Year=%{text}<extra></extra>\",\"hovertext\":[2013.0,2019.0],\"legendgroup\":\"Kyrgyz Republic\",\"marker\":{\"color\":\"#ab63fa\",\"size\":40,\"sizemode\":\"area\",\"sizeref\":737.2604552159095,\"symbol\":\"circle\"},\"mode\":\"markers+text\",\"name\":\"Kyrgyz Republic\",\"orientation\":\"v\",\"showlegend\":true,\"text\":[2013.0,2019.0],\"x\":[4042.8930530041,5480.7426977145005],\"xaxis\":\"x\",\"y\":[30.9,32.9],\"yaxis\":\"y\",\"type\":\"scatter\",\"textposition\":\"middle center\"},{\"hovertemplate\":\"<b>%{hovertext}</b><br><br>Country Name=Lithuania<br>GDP per capita=%{marker.size}<br>Percentage of Firms with Females at top managerial positions(% of firms)=%{y}<br>Year=%{text}<extra></extra>\",\"hovertext\":[2013.0,2019.0],\"legendgroup\":\"Lithuania\",\"marker\":{\"color\":\"#FFA15A\",\"size\":40,\"sizemode\":\"area\",\"sizeref\":737.2604552159095,\"symbol\":\"circle\"},\"mode\":\"markers+text\",\"name\":\"Lithuania\",\"orientation\":\"v\",\"showlegend\":true,\"text\":[2013.0,2019.0],\"x\":[26721.5796712844,38764.9977287477],\"xaxis\":\"x\",\"y\":[22.0,30.7],\"yaxis\":\"y\",\"type\":\"scatter\",\"textposition\":\"middle center\"},{\"hovertemplate\":\"<b>%{hovertext}</b><br><br>Country Name=Latvia<br>GDP per capita=%{marker.size}<br>Percentage of Firms with Females at top managerial positions(% of firms)=%{y}<br>Year=%{text}<extra></extra>\",\"hovertext\":[2013.0,2019.0],\"legendgroup\":\"Latvia\",\"marker\":{\"color\":\"#19d3f3\",\"size\":40,\"sizemode\":\"area\",\"sizeref\":737.2604552159095,\"symbol\":\"circle\"},\"mode\":\"markers+text\",\"name\":\"Latvia\",\"orientation\":\"v\",\"showlegend\":true,\"text\":[2013.0,2019.0],\"x\":[22812.9150890235,32002.7567713817],\"xaxis\":\"x\",\"y\":[33.9,32.6],\"yaxis\":\"y\",\"type\":\"scatter\",\"textposition\":\"middle center\"},{\"hovertemplate\":\"<b>%{hovertext}</b><br><br>Country Name=Moldova<br>GDP per capita=%{marker.size}<br>Percentage of Firms with Females at top managerial positions(% of firms)=%{y}<br>Year=%{text}<extra></extra>\",\"hovertext\":[2013.0,2019.0],\"legendgroup\":\"Moldova\",\"marker\":{\"color\":\"#FF6692\",\"size\":40,\"sizemode\":\"area\",\"sizeref\":737.2604552159095,\"symbol\":\"circle\"},\"mode\":\"markers+text\",\"name\":\"Moldova\",\"orientation\":\"v\",\"showlegend\":true,\"text\":[2013.0,2019.0],\"x\":[8381.6718331392,13572.7043738974],\"xaxis\":\"x\",\"y\":[22.4,18.6],\"yaxis\":\"y\",\"type\":\"scatter\",\"textposition\":\"middle center\"},{\"hovertemplate\":\"<b>%{hovertext}</b><br><br>Country Name=North Macedonia<br>GDP per capita=%{marker.size}<br>Percentage of Firms with Females at top managerial positions(% of firms)=%{y}<br>Year=%{text}<extra></extra>\",\"hovertext\":[2013.0,2019.0],\"legendgroup\":\"North Macedonia\",\"marker\":{\"color\":\"#B6E880\",\"size\":40,\"sizemode\":\"area\",\"sizeref\":737.2604552159095,\"symbol\":\"circle\"},\"mode\":\"markers+text\",\"name\":\"North Macedonia\",\"orientation\":\"v\",\"showlegend\":true,\"text\":[2013.0,2019.0],\"x\":[12653.563717838899,17583.3793739446],\"xaxis\":\"x\",\"y\":[16.8,21.3],\"yaxis\":\"y\",\"type\":\"scatter\",\"textposition\":\"middle center\"},{\"hovertemplate\":\"<b>%{hovertext}</b><br><br>Country Name=Montenegro<br>GDP per capita=%{marker.size}<br>Percentage of Firms with Females at top managerial positions(% of firms)=%{y}<br>Year=%{text}<extra></extra>\",\"hovertext\":[2013.0,2019.0],\"legendgroup\":\"Montenegro\",\"marker\":{\"color\":\"#FF97FF\",\"size\":40,\"sizemode\":\"area\",\"sizeref\":737.2604552159095,\"symbol\":\"circle\"},\"mode\":\"markers+text\",\"name\":\"Montenegro\",\"orientation\":\"v\",\"showlegend\":true,\"text\":[2013.0,2019.0],\"x\":[14870.1762231057,23343.930051578798],\"xaxis\":\"x\",\"y\":[19.2,15.0],\"yaxis\":\"y\",\"type\":\"scatter\",\"textposition\":\"middle center\"},{\"hovertemplate\":\"<b>%{hovertext}</b><br><br>Country Name=Poland<br>GDP per capita=%{marker.size}<br>Percentage of Firms with Females at top managerial positions(% of firms)=%{y}<br>Year=%{text}<extra></extra>\",\"hovertext\":[2013.0,2019.0],\"legendgroup\":\"Poland\",\"marker\":{\"color\":\"#FECB52\",\"size\":40,\"sizemode\":\"area\",\"sizeref\":737.2604552159095,\"symbol\":\"circle\"},\"mode\":\"markers+text\",\"name\":\"Poland\",\"orientation\":\"v\",\"showlegend\":true,\"text\":[2013.0,2019.0],\"x\":[24567.5061660535,34151.7928122918],\"xaxis\":\"x\",\"y\":[20.4,27.8],\"yaxis\":\"y\",\"type\":\"scatter\",\"textposition\":\"middle center\"},{\"hovertemplate\":\"<b>%{hovertext}</b><br><br>Country Name=Romania<br>GDP per capita=%{marker.size}<br>Percentage of Firms with Females at top managerial positions(% of firms)=%{y}<br>Year=%{text}<extra></extra>\",\"hovertext\":[2013.0,2019.0],\"legendgroup\":\"Romania\",\"marker\":{\"color\":\"#636efa\",\"size\":40,\"sizemode\":\"area\",\"sizeref\":737.2604552159095,\"symbol\":\"circle\"},\"mode\":\"markers+text\",\"name\":\"Romania\",\"orientation\":\"v\",\"showlegend\":true,\"text\":[2013.0,2019.0],\"x\":[19781.979569986397,32299.9697717021],\"xaxis\":\"x\",\"y\":[18.3,17.2],\"yaxis\":\"y\",\"type\":\"scatter\",\"textposition\":\"middle center\"},{\"hovertemplate\":\"<b>%{hovertext}</b><br><br>Country Name=Serbia<br>GDP per capita=%{marker.size}<br>Percentage of Firms with Females at top managerial positions(% of firms)=%{y}<br>Year=%{text}<extra></extra>\",\"hovertext\":[2013.0,2019.0],\"legendgroup\":\"Serbia\",\"marker\":{\"color\":\"#EF553B\",\"size\":40,\"sizemode\":\"area\",\"sizeref\":737.2604552159095,\"symbol\":\"circle\"},\"mode\":\"markers+text\",\"name\":\"Serbia\",\"orientation\":\"v\",\"showlegend\":true,\"text\":[2013.0,2019.0],\"x\":[14629.0318181831,18929.8775996569],\"xaxis\":\"x\",\"y\":[15.3,18.2],\"yaxis\":\"y\",\"type\":\"scatter\",\"textposition\":\"middle center\"},{\"hovertemplate\":\"<b>%{hovertext}</b><br><br>Country Name=Slovak Republic<br>GDP per capita=%{marker.size}<br>Percentage of Firms with Females at top managerial positions(% of firms)=%{y}<br>Year=%{text}<extra></extra>\",\"hovertext\":[2013.0,2019.0],\"legendgroup\":\"Slovak Republic\",\"marker\":{\"color\":\"#00cc96\",\"size\":40,\"sizemode\":\"area\",\"sizeref\":737.2604552159095,\"symbol\":\"circle\"},\"mode\":\"markers+text\",\"name\":\"Slovak Republic\",\"orientation\":\"v\",\"showlegend\":true,\"text\":[2013.0,2019.0],\"x\":[28002.4974112566,32557.190775484],\"xaxis\":\"x\",\"y\":[14.0,22.9],\"yaxis\":\"y\",\"type\":\"scatter\",\"textposition\":\"middle center\"},{\"hovertemplate\":\"<b>%{hovertext}</b><br><br>Country Name=Slovenia<br>GDP per capita=%{marker.size}<br>Percentage of Firms with Females at top managerial positions(% of firms)=%{y}<br>Year=%{text}<extra></extra>\",\"hovertext\":[2013.0,2019.0],\"legendgroup\":\"Slovenia\",\"marker\":{\"color\":\"#ab63fa\",\"size\":40,\"sizemode\":\"area\",\"sizeref\":737.2604552159095,\"symbol\":\"circle\"},\"mode\":\"markers+text\",\"name\":\"Slovenia\",\"orientation\":\"v\",\"showlegend\":true,\"text\":[2013.0,2019.0],\"x\":[29973.6993541529,41197.3781022006],\"xaxis\":\"x\",\"y\":[21.9,18.8],\"yaxis\":\"y\",\"type\":\"scatter\",\"textposition\":\"middle center\"},{\"hovertemplate\":\"<b>%{hovertext}</b><br><br>Country Name=Tajikistan<br>GDP per capita=%{marker.size}<br>Percentage of Firms with Females at top managerial positions(% of firms)=%{y}<br>Year=%{text}<extra></extra>\",\"hovertext\":[2013.0,2019.0],\"legendgroup\":\"Tajikistan\",\"marker\":{\"color\":\"#FFA15A\",\"size\":40,\"sizemode\":\"area\",\"sizeref\":737.2604552159095,\"symbol\":\"circle\"},\"mode\":\"markers+text\",\"name\":\"Tajikistan\",\"orientation\":\"v\",\"showlegend\":true,\"text\":[2013.0,2019.0],\"x\":[3027.8141258245,3732.8690680932],\"xaxis\":\"x\",\"y\":[9.1,6.6],\"yaxis\":\"y\",\"type\":\"scatter\",\"textposition\":\"middle center\"},{\"hovertemplate\":\"<b>%{hovertext}</b><br><br>Country Name=Turkey<br>GDP per capita=%{marker.size}<br>Percentage of Firms with Females at top managerial positions(% of firms)=%{y}<br>Year=%{text}<extra></extra>\",\"hovertext\":[2013.0,2019.0],\"legendgroup\":\"Turkey\",\"marker\":{\"color\":\"#19d3f3\",\"size\":40,\"sizemode\":\"area\",\"sizeref\":737.2604552159095,\"symbol\":\"circle\"},\"mode\":\"markers+text\",\"name\":\"Turkey\",\"orientation\":\"v\",\"showlegend\":true,\"text\":[2013.0,2019.0],\"x\":[22438.7142497217,27318.432499613198],\"xaxis\":\"x\",\"y\":[5.5,3.9],\"yaxis\":\"y\",\"type\":\"scatter\",\"textposition\":\"middle center\"},{\"hovertemplate\":\"<b>%{hovertext}</b><br><br>Country Name=Ukraine<br>GDP per capita=%{marker.size}<br>Percentage of Firms with Females at top managerial positions(% of firms)=%{y}<br>Year=%{text}<extra></extra>\",\"hovertext\":[2013.0,2019.0],\"legendgroup\":\"Ukraine\",\"marker\":{\"color\":\"#FF6692\",\"size\":40,\"sizemode\":\"area\",\"sizeref\":737.2604552159095,\"symbol\":\"circle\"},\"mode\":\"markers+text\",\"name\":\"Ukraine\",\"orientation\":\"v\",\"showlegend\":true,\"text\":[2013.0,2019.0],\"x\":[10691.7646844701,13350.4823150166],\"xaxis\":\"x\",\"y\":[20.9,17.7],\"yaxis\":\"y\",\"type\":\"scatter\",\"textposition\":\"middle center\"},{\"hovertemplate\":\"<b>%{hovertext}</b><br><br>Country Name=Uzbekistan<br>GDP per capita=%{marker.size}<br>Percentage of Firms with Females at top managerial positions(% of firms)=%{y}<br>Year=%{text}<extra></extra>\",\"hovertext\":[2013.0,2019.0],\"legendgroup\":\"Uzbekistan\",\"marker\":{\"color\":\"#B6E880\",\"size\":40,\"sizemode\":\"area\",\"sizeref\":737.2604552159095,\"symbol\":\"circle\"},\"mode\":\"markers+text\",\"name\":\"Uzbekistan\",\"orientation\":\"v\",\"showlegend\":true,\"text\":[2013.0,2019.0],\"x\":[5942.396758671,7310.9600555984],\"xaxis\":\"x\",\"y\":[14.9,12.4],\"yaxis\":\"y\",\"type\":\"scatter\",\"textposition\":\"middle center\"},{\"hovertemplate\":\"<b>%{hovertext}</b><br><br>Country Name=Kosovo<br>GDP per capita=%{marker.size}<br>Percentage of Firms with Females at top managerial positions(% of firms)=%{y}<br>Year=%{text}<extra></extra>\",\"hovertext\":[2013.0,2019.0],\"legendgroup\":\"Kosovo\",\"marker\":{\"color\":\"#FF97FF\",\"size\":40,\"sizemode\":\"area\",\"sizeref\":737.2604552159095,\"symbol\":\"circle\"},\"mode\":\"markers+text\",\"name\":\"Kosovo\",\"orientation\":\"v\",\"showlegend\":true,\"text\":[2013.0,2019.0],\"x\":[8805.379753638299,11971.663021581599],\"xaxis\":\"x\",\"y\":[9.3,2.7],\"yaxis\":\"y\",\"type\":\"scatter\",\"textposition\":\"middle center\"},{\"hovertemplate\":\"<b>%{hovertext}</b><br><br>Country Name=Sweden<br>GDP per capita=%{marker.size}<br>Percentage of Firms with Females at top managerial positions(% of firms)=%{y}<br>Year=%{text}<extra></extra>\",\"hovertext\":[2014.0],\"legendgroup\":\"Sweden\",\"marker\":{\"color\":\"#FECB52\",\"size\":40,\"sizemode\":\"area\",\"sizeref\":737.2604552159095,\"symbol\":\"circle\"},\"mode\":\"markers+text\",\"name\":\"Sweden\",\"orientation\":\"v\",\"showlegend\":true,\"text\":[2014.0],\"x\":[47184.669133818206],\"xaxis\":\"x\",\"y\":[12.5],\"yaxis\":\"y\",\"type\":\"scatter\",\"textposition\":\"middle center\"},{\"hovertemplate\":\"<b>%{hovertext}</b><br><br>Country Name=Greece<br>GDP per capita=%{marker.size}<br>Percentage of Firms with Females at top managerial positions(% of firms)=%{y}<br>Year=%{text}<extra></extra>\",\"hovertext\":[2018.0],\"legendgroup\":\"Greece\",\"marker\":{\"color\":\"#636efa\",\"size\":40,\"sizemode\":\"area\",\"sizeref\":737.2604552159095,\"symbol\":\"circle\"},\"mode\":\"markers+text\",\"name\":\"Greece\",\"orientation\":\"v\",\"showlegend\":true,\"text\":[2018.0],\"x\":[29680.941834383197],\"xaxis\":\"x\",\"y\":[17.2],\"yaxis\":\"y\",\"type\":\"scatter\",\"textposition\":\"middle center\"},{\"hovertemplate\":\"<b>%{hovertext}</b><br><br>Country Name=Cyprus<br>GDP per capita=%{marker.size}<br>Percentage of Firms with Females at top managerial positions(% of firms)=%{y}<br>Year=%{text}<extra></extra>\",\"hovertext\":[2019.0],\"legendgroup\":\"Cyprus\",\"marker\":{\"color\":\"#EF553B\",\"size\":40,\"sizemode\":\"area\",\"sizeref\":737.2604552159095,\"symbol\":\"circle\"},\"mode\":\"markers+text\",\"name\":\"Cyprus\",\"orientation\":\"v\",\"showlegend\":true,\"text\":[2019.0],\"x\":[41514.5105084213],\"xaxis\":\"x\",\"y\":[8.2],\"yaxis\":\"y\",\"type\":\"scatter\",\"textposition\":\"middle center\"},{\"hovertemplate\":\"<b>%{hovertext}</b><br><br>Country Name=Italy<br>GDP per capita=%{marker.size}<br>Percentage of Firms with Females at top managerial positions(% of firms)=%{y}<br>Year=%{text}<extra></extra>\",\"hovertext\":[2019.0],\"legendgroup\":\"Italy\",\"marker\":{\"color\":\"#00cc96\",\"size\":40,\"sizemode\":\"area\",\"sizeref\":737.2604552159095,\"symbol\":\"circle\"},\"mode\":\"markers+text\",\"name\":\"Italy\",\"orientation\":\"v\",\"showlegend\":true,\"text\":[2019.0],\"x\":[44850.9264658367],\"xaxis\":\"x\",\"y\":[15.3],\"yaxis\":\"y\",\"type\":\"scatter\",\"textposition\":\"middle center\"},{\"hovertemplate\":\"<b>%{hovertext}</b><br><br>Country Name=Portugal<br>GDP per capita=%{marker.size}<br>Percentage of Firms with Females at top managerial positions(% of firms)=%{y}<br>Year=%{text}<extra></extra>\",\"hovertext\":[2019.0],\"legendgroup\":\"Portugal\",\"marker\":{\"color\":\"#ab63fa\",\"size\":40,\"sizemode\":\"area\",\"sizeref\":737.2604552159095,\"symbol\":\"circle\"},\"mode\":\"markers+text\",\"name\":\"Portugal\",\"orientation\":\"v\",\"showlegend\":true,\"text\":[2019.0],\"x\":[36871.839600549705],\"xaxis\":\"x\",\"y\":[14.0],\"yaxis\":\"y\",\"type\":\"scatter\",\"textposition\":\"middle center\"}],                        {\"template\":{\"data\":{\"bar\":[{\"error_x\":{\"color\":\"#f2f5fa\"},\"error_y\":{\"color\":\"#f2f5fa\"},\"marker\":{\"line\":{\"color\":\"rgb(17,17,17)\",\"width\":0.5},\"pattern\":{\"fillmode\":\"overlay\",\"size\":10,\"solidity\":0.2}},\"type\":\"bar\"}],\"barpolar\":[{\"marker\":{\"line\":{\"color\":\"rgb(17,17,17)\",\"width\":0.5},\"pattern\":{\"fillmode\":\"overlay\",\"size\":10,\"solidity\":0.2}},\"type\":\"barpolar\"}],\"carpet\":[{\"aaxis\":{\"endlinecolor\":\"#A2B1C6\",\"gridcolor\":\"#506784\",\"linecolor\":\"#506784\",\"minorgridcolor\":\"#506784\",\"startlinecolor\":\"#A2B1C6\"},\"baxis\":{\"endlinecolor\":\"#A2B1C6\",\"gridcolor\":\"#506784\",\"linecolor\":\"#506784\",\"minorgridcolor\":\"#506784\",\"startlinecolor\":\"#A2B1C6\"},\"type\":\"carpet\"}],\"choropleth\":[{\"colorbar\":{\"outlinewidth\":0,\"ticks\":\"\"},\"type\":\"choropleth\"}],\"contour\":[{\"colorbar\":{\"outlinewidth\":0,\"ticks\":\"\"},\"colorscale\":[[0.0,\"#0d0887\"],[0.1111111111111111,\"#46039f\"],[0.2222222222222222,\"#7201a8\"],[0.3333333333333333,\"#9c179e\"],[0.4444444444444444,\"#bd3786\"],[0.5555555555555556,\"#d8576b\"],[0.6666666666666666,\"#ed7953\"],[0.7777777777777778,\"#fb9f3a\"],[0.8888888888888888,\"#fdca26\"],[1.0,\"#f0f921\"]],\"type\":\"contour\"}],\"contourcarpet\":[{\"colorbar\":{\"outlinewidth\":0,\"ticks\":\"\"},\"type\":\"contourcarpet\"}],\"heatmap\":[{\"colorbar\":{\"outlinewidth\":0,\"ticks\":\"\"},\"colorscale\":[[0.0,\"#0d0887\"],[0.1111111111111111,\"#46039f\"],[0.2222222222222222,\"#7201a8\"],[0.3333333333333333,\"#9c179e\"],[0.4444444444444444,\"#bd3786\"],[0.5555555555555556,\"#d8576b\"],[0.6666666666666666,\"#ed7953\"],[0.7777777777777778,\"#fb9f3a\"],[0.8888888888888888,\"#fdca26\"],[1.0,\"#f0f921\"]],\"type\":\"heatmap\"}],\"heatmapgl\":[{\"colorbar\":{\"outlinewidth\":0,\"ticks\":\"\"},\"colorscale\":[[0.0,\"#0d0887\"],[0.1111111111111111,\"#46039f\"],[0.2222222222222222,\"#7201a8\"],[0.3333333333333333,\"#9c179e\"],[0.4444444444444444,\"#bd3786\"],[0.5555555555555556,\"#d8576b\"],[0.6666666666666666,\"#ed7953\"],[0.7777777777777778,\"#fb9f3a\"],[0.8888888888888888,\"#fdca26\"],[1.0,\"#f0f921\"]],\"type\":\"heatmapgl\"}],\"histogram\":[{\"marker\":{\"pattern\":{\"fillmode\":\"overlay\",\"size\":10,\"solidity\":0.2}},\"type\":\"histogram\"}],\"histogram2d\":[{\"colorbar\":{\"outlinewidth\":0,\"ticks\":\"\"},\"colorscale\":[[0.0,\"#0d0887\"],[0.1111111111111111,\"#46039f\"],[0.2222222222222222,\"#7201a8\"],[0.3333333333333333,\"#9c179e\"],[0.4444444444444444,\"#bd3786\"],[0.5555555555555556,\"#d8576b\"],[0.6666666666666666,\"#ed7953\"],[0.7777777777777778,\"#fb9f3a\"],[0.8888888888888888,\"#fdca26\"],[1.0,\"#f0f921\"]],\"type\":\"histogram2d\"}],\"histogram2dcontour\":[{\"colorbar\":{\"outlinewidth\":0,\"ticks\":\"\"},\"colorscale\":[[0.0,\"#0d0887\"],[0.1111111111111111,\"#46039f\"],[0.2222222222222222,\"#7201a8\"],[0.3333333333333333,\"#9c179e\"],[0.4444444444444444,\"#bd3786\"],[0.5555555555555556,\"#d8576b\"],[0.6666666666666666,\"#ed7953\"],[0.7777777777777778,\"#fb9f3a\"],[0.8888888888888888,\"#fdca26\"],[1.0,\"#f0f921\"]],\"type\":\"histogram2dcontour\"}],\"mesh3d\":[{\"colorbar\":{\"outlinewidth\":0,\"ticks\":\"\"},\"type\":\"mesh3d\"}],\"parcoords\":[{\"line\":{\"colorbar\":{\"outlinewidth\":0,\"ticks\":\"\"}},\"type\":\"parcoords\"}],\"pie\":[{\"automargin\":true,\"type\":\"pie\"}],\"scatter\":[{\"marker\":{\"line\":{\"color\":\"#283442\"}},\"type\":\"scatter\"}],\"scatter3d\":[{\"line\":{\"colorbar\":{\"outlinewidth\":0,\"ticks\":\"\"}},\"marker\":{\"colorbar\":{\"outlinewidth\":0,\"ticks\":\"\"}},\"type\":\"scatter3d\"}],\"scattercarpet\":[{\"marker\":{\"colorbar\":{\"outlinewidth\":0,\"ticks\":\"\"}},\"type\":\"scattercarpet\"}],\"scattergeo\":[{\"marker\":{\"colorbar\":{\"outlinewidth\":0,\"ticks\":\"\"}},\"type\":\"scattergeo\"}],\"scattergl\":[{\"marker\":{\"line\":{\"color\":\"#283442\"}},\"type\":\"scattergl\"}],\"scattermapbox\":[{\"marker\":{\"colorbar\":{\"outlinewidth\":0,\"ticks\":\"\"}},\"type\":\"scattermapbox\"}],\"scatterpolar\":[{\"marker\":{\"colorbar\":{\"outlinewidth\":0,\"ticks\":\"\"}},\"type\":\"scatterpolar\"}],\"scatterpolargl\":[{\"marker\":{\"colorbar\":{\"outlinewidth\":0,\"ticks\":\"\"}},\"type\":\"scatterpolargl\"}],\"scatterternary\":[{\"marker\":{\"colorbar\":{\"outlinewidth\":0,\"ticks\":\"\"}},\"type\":\"scatterternary\"}],\"surface\":[{\"colorbar\":{\"outlinewidth\":0,\"ticks\":\"\"},\"colorscale\":[[0.0,\"#0d0887\"],[0.1111111111111111,\"#46039f\"],[0.2222222222222222,\"#7201a8\"],[0.3333333333333333,\"#9c179e\"],[0.4444444444444444,\"#bd3786\"],[0.5555555555555556,\"#d8576b\"],[0.6666666666666666,\"#ed7953\"],[0.7777777777777778,\"#fb9f3a\"],[0.8888888888888888,\"#fdca26\"],[1.0,\"#f0f921\"]],\"type\":\"surface\"}],\"table\":[{\"cells\":{\"fill\":{\"color\":\"#506784\"},\"line\":{\"color\":\"rgb(17,17,17)\"}},\"header\":{\"fill\":{\"color\":\"#2a3f5f\"},\"line\":{\"color\":\"rgb(17,17,17)\"}},\"type\":\"table\"}]},\"layout\":{\"annotationdefaults\":{\"arrowcolor\":\"#f2f5fa\",\"arrowhead\":0,\"arrowwidth\":1},\"autotypenumbers\":\"strict\",\"coloraxis\":{\"colorbar\":{\"outlinewidth\":0,\"ticks\":\"\"}},\"colorscale\":{\"diverging\":[[0,\"#8e0152\"],[0.1,\"#c51b7d\"],[0.2,\"#de77ae\"],[0.3,\"#f1b6da\"],[0.4,\"#fde0ef\"],[0.5,\"#f7f7f7\"],[0.6,\"#e6f5d0\"],[0.7,\"#b8e186\"],[0.8,\"#7fbc41\"],[0.9,\"#4d9221\"],[1,\"#276419\"]],\"sequential\":[[0.0,\"#0d0887\"],[0.1111111111111111,\"#46039f\"],[0.2222222222222222,\"#7201a8\"],[0.3333333333333333,\"#9c179e\"],[0.4444444444444444,\"#bd3786\"],[0.5555555555555556,\"#d8576b\"],[0.6666666666666666,\"#ed7953\"],[0.7777777777777778,\"#fb9f3a\"],[0.8888888888888888,\"#fdca26\"],[1.0,\"#f0f921\"]],\"sequentialminus\":[[0.0,\"#0d0887\"],[0.1111111111111111,\"#46039f\"],[0.2222222222222222,\"#7201a8\"],[0.3333333333333333,\"#9c179e\"],[0.4444444444444444,\"#bd3786\"],[0.5555555555555556,\"#d8576b\"],[0.6666666666666666,\"#ed7953\"],[0.7777777777777778,\"#fb9f3a\"],[0.8888888888888888,\"#fdca26\"],[1.0,\"#f0f921\"]]},\"colorway\":[\"#636efa\",\"#EF553B\",\"#00cc96\",\"#ab63fa\",\"#FFA15A\",\"#19d3f3\",\"#FF6692\",\"#B6E880\",\"#FF97FF\",\"#FECB52\"],\"font\":{\"color\":\"#f2f5fa\"},\"geo\":{\"bgcolor\":\"rgb(17,17,17)\",\"lakecolor\":\"rgb(17,17,17)\",\"landcolor\":\"rgb(17,17,17)\",\"showlakes\":true,\"showland\":true,\"subunitcolor\":\"#506784\"},\"hoverlabel\":{\"align\":\"left\"},\"hovermode\":\"closest\",\"mapbox\":{\"style\":\"dark\"},\"paper_bgcolor\":\"rgb(17,17,17)\",\"plot_bgcolor\":\"rgb(17,17,17)\",\"polar\":{\"angularaxis\":{\"gridcolor\":\"#506784\",\"linecolor\":\"#506784\",\"ticks\":\"\"},\"bgcolor\":\"rgb(17,17,17)\",\"radialaxis\":{\"gridcolor\":\"#506784\",\"linecolor\":\"#506784\",\"ticks\":\"\"}},\"scene\":{\"xaxis\":{\"backgroundcolor\":\"rgb(17,17,17)\",\"gridcolor\":\"#506784\",\"gridwidth\":2,\"linecolor\":\"#506784\",\"showbackground\":true,\"ticks\":\"\",\"zerolinecolor\":\"#C8D4E3\"},\"yaxis\":{\"backgroundcolor\":\"rgb(17,17,17)\",\"gridcolor\":\"#506784\",\"gridwidth\":2,\"linecolor\":\"#506784\",\"showbackground\":true,\"ticks\":\"\",\"zerolinecolor\":\"#C8D4E3\"},\"zaxis\":{\"backgroundcolor\":\"rgb(17,17,17)\",\"gridcolor\":\"#506784\",\"gridwidth\":2,\"linecolor\":\"#506784\",\"showbackground\":true,\"ticks\":\"\",\"zerolinecolor\":\"#C8D4E3\"}},\"shapedefaults\":{\"line\":{\"color\":\"#f2f5fa\"}},\"sliderdefaults\":{\"bgcolor\":\"#C8D4E3\",\"bordercolor\":\"rgb(17,17,17)\",\"borderwidth\":1,\"tickwidth\":0},\"ternary\":{\"aaxis\":{\"gridcolor\":\"#506784\",\"linecolor\":\"#506784\",\"ticks\":\"\"},\"baxis\":{\"gridcolor\":\"#506784\",\"linecolor\":\"#506784\",\"ticks\":\"\"},\"bgcolor\":\"rgb(17,17,17)\",\"caxis\":{\"gridcolor\":\"#506784\",\"linecolor\":\"#506784\",\"ticks\":\"\"}},\"title\":{\"x\":0.05},\"updatemenudefaults\":{\"bgcolor\":\"#506784\",\"borderwidth\":0},\"xaxis\":{\"automargin\":true,\"gridcolor\":\"#283442\",\"linecolor\":\"#506784\",\"ticks\":\"\",\"title\":{\"standoff\":15},\"zerolinecolor\":\"#283442\",\"zerolinewidth\":2},\"yaxis\":{\"automargin\":true,\"gridcolor\":\"#283442\",\"linecolor\":\"#506784\",\"ticks\":\"\",\"title\":{\"standoff\":15},\"zerolinecolor\":\"#283442\",\"zerolinewidth\":2}}},\"xaxis\":{\"anchor\":\"y\",\"domain\":[0.0,1.0],\"title\":{\"text\":\"GDP per capita\"}},\"yaxis\":{\"anchor\":\"x\",\"domain\":[0.0,1.0],\"title\":{\"text\":\"Percentage of Firms with Females at top managerial positions(% of firms)\"}},\"legend\":{\"title\":{\"text\":\"Country Name\"},\"tracegroupgap\":0,\"itemsizing\":\"constant\"},\"title\":{\"text\":\"Relation between Firms with Females at top managerial positions and GDP per capita\"},\"height\":700},                        {\"responsive\": true}                    ).then(function(){\n",
              "                            \n",
              "var gd = document.getElementById('fda822bb-bffd-454f-ad3e-254e4c2aef81');\n",
              "var x = new MutationObserver(function (mutations, observer) {{\n",
              "        var display = window.getComputedStyle(gd).display;\n",
              "        if (!display || display === 'none') {{\n",
              "            console.log([gd, 'removed!']);\n",
              "            Plotly.purge(gd);\n",
              "            observer.disconnect();\n",
              "        }}\n",
              "}});\n",
              "\n",
              "// Listen for the removal of the full notebook cells\n",
              "var notebookContainer = gd.closest('#notebook-container');\n",
              "if (notebookContainer) {{\n",
              "    x.observe(notebookContainer, {childList: true});\n",
              "}}\n",
              "\n",
              "// Listen for the clearing of the current output cell\n",
              "var outputEl = gd.closest('.output');\n",
              "if (outputEl) {{\n",
              "    x.observe(outputEl, {childList: true});\n",
              "}}\n",
              "\n",
              "                        })                };                            </script>        </div>\n",
              "</body>\n",
              "</html>"
            ]
          },
          "metadata": {}
        }
      ]
    },
    {
      "cell_type": "markdown",
      "source": [
        "Following are the observations from the graph:\n",
        "- A larger percentile of data is having countries that has firms with females at top managerial between 15% to 35%.\n",
        "-\tCountries that have firms with females at top managerial less than 10% mostly has lesser GDP or can be denoted as outliers.\n",
        "-\tThe data for the year 2019 shows some linearity having a few outliers.\n"
      ],
      "metadata": {
        "id": "34VSuFAAtl6W"
      }
    },
    {
      "cell_type": "markdown",
      "metadata": {
        "id": "RN0VJdegIl5A"
      },
      "source": [
        "## **Percentage of Firms with Females at top managerial positions (South Asia, Middle East & North Africa, and Latin America & Caribbean)**\n",
        "\n",
        "- The southern hemisphere of the world has lesser GDP per capita. Now let’s look at the percentage of female at top level positions by examining the below graph.\n",
        "\n",
        "---"
      ]
    },
    {
      "cell_type": "code",
      "metadata": {
        "colab": {
          "base_uri": "https://localhost:8080/",
          "height": 112
        },
        "id": "EsYOYb1KlrKL",
        "outputId": "4ee3558d-df73-4a05-b040-53caba6c83ba"
      },
      "source": [
        "#Percentage of Firms with Females at top managerial positions (South Asia, Middle East & North Africa, and Latin America & Caribbean)\n",
        "\n",
        "df_4=pd.read_csv('https://raw.githubusercontent.com/Mrshreesharma/DS601_Fall21/main/Data690/fig4.csv')\n",
        "df_4.head(2)"
      ],
      "execution_count": 30,
      "outputs": [
        {
          "output_type": "execute_result",
          "data": {
            "text/html": [
              "<div>\n",
              "<style scoped>\n",
              "    .dataframe tbody tr th:only-of-type {\n",
              "        vertical-align: middle;\n",
              "    }\n",
              "\n",
              "    .dataframe tbody tr th {\n",
              "        vertical-align: top;\n",
              "    }\n",
              "\n",
              "    .dataframe thead th {\n",
              "        text-align: right;\n",
              "    }\n",
              "</style>\n",
              "<table border=\"1\" class=\"dataframe\">\n",
              "  <thead>\n",
              "    <tr style=\"text-align: right;\">\n",
              "      <th></th>\n",
              "      <th>Unnamed: 0</th>\n",
              "      <th>Year</th>\n",
              "      <th>value</th>\n",
              "      <th>indicator</th>\n",
              "      <th>Country Code</th>\n",
              "      <th>Country Name</th>\n",
              "      <th>Region</th>\n",
              "      <th>Income Group</th>\n",
              "      <th>Lending Type</th>\n",
              "    </tr>\n",
              "  </thead>\n",
              "  <tbody>\n",
              "    <tr>\n",
              "      <th>0</th>\n",
              "      <td>0</td>\n",
              "      <td>2010</td>\n",
              "      <td>1710.575411</td>\n",
              "      <td>NY.GDP.PCAP.PP.CD</td>\n",
              "      <td>AFG</td>\n",
              "      <td>Afghanistan</td>\n",
              "      <td>South Asia</td>\n",
              "      <td>Low income</td>\n",
              "      <td>IDA</td>\n",
              "    </tr>\n",
              "    <tr>\n",
              "      <th>1</th>\n",
              "      <td>1</td>\n",
              "      <td>2011</td>\n",
              "      <td>1699.488110</td>\n",
              "      <td>NY.GDP.PCAP.PP.CD</td>\n",
              "      <td>AFG</td>\n",
              "      <td>Afghanistan</td>\n",
              "      <td>South Asia</td>\n",
              "      <td>Low income</td>\n",
              "      <td>IDA</td>\n",
              "    </tr>\n",
              "  </tbody>\n",
              "</table>\n",
              "</div>"
            ],
            "text/plain": [
              "   Unnamed: 0  Year        value  ...      Region Income Group Lending Type\n",
              "0           0  2010  1710.575411  ...  South Asia   Low income          IDA\n",
              "1           1  2011  1699.488110  ...  South Asia   Low income          IDA\n",
              "\n",
              "[2 rows x 9 columns]"
            ]
          },
          "metadata": {},
          "execution_count": 30
        }
      ]
    },
    {
      "cell_type": "code",
      "metadata": {
        "colab": {
          "base_uri": "https://localhost:8080/",
          "height": 143
        },
        "id": "Gi9T5qbV5E-B",
        "outputId": "d4db22ef-10c3-4b04-8c07-dba76b06818d"
      },
      "source": [
        "#Dropping 'Unnamed: 0' column because it has no relevant data\n",
        "df_4 = df_4.drop(columns=['Unnamed: 0'])"
      ],
      "execution_count": 31,
      "outputs": [
        {
          "output_type": "execute_result",
          "data": {
            "text/html": [
              "<div>\n",
              "<style scoped>\n",
              "    .dataframe tbody tr th:only-of-type {\n",
              "        vertical-align: middle;\n",
              "    }\n",
              "\n",
              "    .dataframe tbody tr th {\n",
              "        vertical-align: top;\n",
              "    }\n",
              "\n",
              "    .dataframe thead th {\n",
              "        text-align: right;\n",
              "    }\n",
              "</style>\n",
              "<table border=\"1\" class=\"dataframe\">\n",
              "  <thead>\n",
              "    <tr style=\"text-align: right;\">\n",
              "      <th></th>\n",
              "      <th>Year</th>\n",
              "      <th>value</th>\n",
              "      <th>indicator</th>\n",
              "      <th>Country Code</th>\n",
              "      <th>Country Name</th>\n",
              "      <th>Region</th>\n",
              "      <th>Income Group</th>\n",
              "      <th>Lending Type</th>\n",
              "    </tr>\n",
              "  </thead>\n",
              "  <tbody>\n",
              "    <tr>\n",
              "      <th>0</th>\n",
              "      <td>2010</td>\n",
              "      <td>1710.575411</td>\n",
              "      <td>NY.GDP.PCAP.PP.CD</td>\n",
              "      <td>AFG</td>\n",
              "      <td>Afghanistan</td>\n",
              "      <td>South Asia</td>\n",
              "      <td>Low income</td>\n",
              "      <td>IDA</td>\n",
              "    </tr>\n",
              "    <tr>\n",
              "      <th>1</th>\n",
              "      <td>2011</td>\n",
              "      <td>1699.488110</td>\n",
              "      <td>NY.GDP.PCAP.PP.CD</td>\n",
              "      <td>AFG</td>\n",
              "      <td>Afghanistan</td>\n",
              "      <td>South Asia</td>\n",
              "      <td>Low income</td>\n",
              "      <td>IDA</td>\n",
              "    </tr>\n",
              "    <tr>\n",
              "      <th>2</th>\n",
              "      <td>2012</td>\n",
              "      <td>1914.774228</td>\n",
              "      <td>NY.GDP.PCAP.PP.CD</td>\n",
              "      <td>AFG</td>\n",
              "      <td>Afghanistan</td>\n",
              "      <td>South Asia</td>\n",
              "      <td>Low income</td>\n",
              "      <td>IDA</td>\n",
              "    </tr>\n",
              "  </tbody>\n",
              "</table>\n",
              "</div>"
            ],
            "text/plain": [
              "   Year        value          indicator  ...      Region Income Group Lending Type\n",
              "0  2010  1710.575411  NY.GDP.PCAP.PP.CD  ...  South Asia   Low income          IDA\n",
              "1  2011  1699.488110  NY.GDP.PCAP.PP.CD  ...  South Asia   Low income          IDA\n",
              "2  2012  1914.774228  NY.GDP.PCAP.PP.CD  ...  South Asia   Low income          IDA\n",
              "\n",
              "[3 rows x 8 columns]"
            ]
          },
          "metadata": {},
          "execution_count": 31
        }
      ]
    },
    {
      "cell_type": "code",
      "metadata": {
        "colab": {
          "base_uri": "https://localhost:8080/",
          "height": 112
        },
        "id": "QSdcMoM75QA-",
        "outputId": "928b7215-a9fd-4f1e-891f-9b7fe749cebd"
      },
      "source": [
        "df_pivot_4 =df_4.pivot(index =['Year','Country Code','Country Name','Region','Income Group'],columns = 'indicator', values ='value').reset_index()\n",
        "df_pivot_4.reset_index().head(2)"
      ],
      "execution_count": 32,
      "outputs": [
        {
          "output_type": "execute_result",
          "data": {
            "text/html": [
              "<div>\n",
              "<style scoped>\n",
              "    .dataframe tbody tr th:only-of-type {\n",
              "        vertical-align: middle;\n",
              "    }\n",
              "\n",
              "    .dataframe tbody tr th {\n",
              "        vertical-align: top;\n",
              "    }\n",
              "\n",
              "    .dataframe thead th {\n",
              "        text-align: right;\n",
              "    }\n",
              "</style>\n",
              "<table border=\"1\" class=\"dataframe\">\n",
              "  <thead>\n",
              "    <tr style=\"text-align: right;\">\n",
              "      <th>indicator</th>\n",
              "      <th>index</th>\n",
              "      <th>Year</th>\n",
              "      <th>Country Code</th>\n",
              "      <th>Country Name</th>\n",
              "      <th>Region</th>\n",
              "      <th>Income Group</th>\n",
              "      <th>IC.FRM.FEMM.ZS</th>\n",
              "      <th>NY.GDP.PCAP.PP.CD</th>\n",
              "    </tr>\n",
              "  </thead>\n",
              "  <tbody>\n",
              "    <tr>\n",
              "      <th>0</th>\n",
              "      <td>0</td>\n",
              "      <td>2010</td>\n",
              "      <td>ABW</td>\n",
              "      <td>Aruba</td>\n",
              "      <td>Latin America &amp; Caribbean</td>\n",
              "      <td>High income</td>\n",
              "      <td>NaN</td>\n",
              "      <td>32625.492691</td>\n",
              "    </tr>\n",
              "    <tr>\n",
              "      <th>1</th>\n",
              "      <td>1</td>\n",
              "      <td>2010</td>\n",
              "      <td>AFG</td>\n",
              "      <td>Afghanistan</td>\n",
              "      <td>South Asia</td>\n",
              "      <td>Low income</td>\n",
              "      <td>NaN</td>\n",
              "      <td>1710.575411</td>\n",
              "    </tr>\n",
              "  </tbody>\n",
              "</table>\n",
              "</div>"
            ],
            "text/plain": [
              "indicator  index  Year  ... IC.FRM.FEMM.ZS NY.GDP.PCAP.PP.CD\n",
              "0              0  2010  ...            NaN      32625.492691\n",
              "1              1  2010  ...            NaN       1710.575411\n",
              "\n",
              "[2 rows x 8 columns]"
            ]
          },
          "metadata": {},
          "execution_count": 32
        }
      ]
    },
    {
      "cell_type": "code",
      "source": [
        "df_4 = df_pivot_4.dropna()"
      ],
      "metadata": {
        "colab": {
          "base_uri": "https://localhost:8080/",
          "height": 112
        },
        "id": "Cw3y6vDPumVm",
        "outputId": "7903ac9b-0e85-4fa0-8d61-890b85811544"
      },
      "execution_count": 33,
      "outputs": [
        {
          "output_type": "execute_result",
          "data": {
            "text/html": [
              "<div>\n",
              "<style scoped>\n",
              "    .dataframe tbody tr th:only-of-type {\n",
              "        vertical-align: middle;\n",
              "    }\n",
              "\n",
              "    .dataframe tbody tr th {\n",
              "        vertical-align: top;\n",
              "    }\n",
              "\n",
              "    .dataframe thead th {\n",
              "        text-align: right;\n",
              "    }\n",
              "</style>\n",
              "<table border=\"1\" class=\"dataframe\">\n",
              "  <thead>\n",
              "    <tr style=\"text-align: right;\">\n",
              "      <th>indicator</th>\n",
              "      <th>Year</th>\n",
              "      <th>Country Code</th>\n",
              "      <th>Country Name</th>\n",
              "      <th>Region</th>\n",
              "      <th>Income Group</th>\n",
              "      <th>IC.FRM.FEMM.ZS</th>\n",
              "      <th>NY.GDP.PCAP.PP.CD</th>\n",
              "    </tr>\n",
              "  </thead>\n",
              "  <tbody>\n",
              "    <tr>\n",
              "      <th>3</th>\n",
              "      <td>2010</td>\n",
              "      <td>ARG</td>\n",
              "      <td>Argentina</td>\n",
              "      <td>Latin America &amp; Caribbean</td>\n",
              "      <td>Upper middle income</td>\n",
              "      <td>9.2</td>\n",
              "      <td>18061.934359</td>\n",
              "    </tr>\n",
              "    <tr>\n",
              "      <th>4</th>\n",
              "      <td>2010</td>\n",
              "      <td>ATG</td>\n",
              "      <td>Antigua and Barbuda</td>\n",
              "      <td>Latin America &amp; Caribbean</td>\n",
              "      <td>High income</td>\n",
              "      <td>17.5</td>\n",
              "      <td>20611.445778</td>\n",
              "    </tr>\n",
              "  </tbody>\n",
              "</table>\n",
              "</div>"
            ],
            "text/plain": [
              "indicator  Year Country Code  ... IC.FRM.FEMM.ZS NY.GDP.PCAP.PP.CD\n",
              "3          2010          ARG  ...            9.2      18061.934359\n",
              "4          2010          ATG  ...           17.5      20611.445778\n",
              "\n",
              "[2 rows x 7 columns]"
            ]
          },
          "metadata": {},
          "execution_count": 33
        }
      ]
    },
    {
      "cell_type": "code",
      "metadata": {
        "colab": {
          "base_uri": "https://localhost:8080/",
          "height": 717
        },
        "id": "IECcOup45Zpe",
        "outputId": "e685f4da-0c6f-4ccd-98de-5747205727af"
      },
      "source": [
        "\n",
        "fig = px.scatter(df_4, \n",
        "               y=\"IC.FRM.FEMM.ZS\", \n",
        "                x=\"NY.GDP.PCAP.PP.CD\",\n",
        "                title=\"Relation between Firms with Females at top managerial positions and GDP per capita\",\n",
        "                labels={\"IC.FRM.FEMM.ZS\":\"Percentage of Firms with Females at top managerial positions(% of firms)\",\"NY.GDP.PCAP.PP.CD\":\"GDP per capita\"},\n",
        "                color=\"Country Name\",\n",
        "                hover_name='Year',\n",
        "                height=700,\n",
        "                text = 'Year',\n",
        "                size=\"NY.GDP.PCAP.PP.CD\",\n",
        "                size_max=8,\n",
        "                )\n",
        "fig.update_traces(marker_size=40,textposition = 'middle center')\n",
        "fig.show()"
      ],
      "execution_count": 34,
      "outputs": [
        {
          "output_type": "display_data",
          "data": {
            "text/html": [
              "<html>\n",
              "<head><meta charset=\"utf-8\" /></head>\n",
              "<body>\n",
              "    <div>            <script src=\"https://cdnjs.cloudflare.com/ajax/libs/mathjax/2.7.5/MathJax.js?config=TeX-AMS-MML_SVG\"></script><script type=\"text/javascript\">if (window.MathJax) {MathJax.Hub.Config({SVG: {font: \"STIX-Web\"}});}</script>                <script type=\"text/javascript\">window.PlotlyConfig = {MathJaxConfig: 'local'};</script>\n",
              "        <script src=\"https://cdn.plot.ly/plotly-2.6.3.min.js\"></script>                <div id=\"a30770cd-b11c-4e7d-8b8d-2f23f9af7c14\" class=\"plotly-graph-div\" style=\"height:700px; width:100%;\"></div>            <script type=\"text/javascript\">                                    window.PLOTLYENV=window.PLOTLYENV || {};                                    if (document.getElementById(\"a30770cd-b11c-4e7d-8b8d-2f23f9af7c14\")) {                    Plotly.newPlot(                        \"a30770cd-b11c-4e7d-8b8d-2f23f9af7c14\",                        [{\"hovertemplate\":\"<b>%{hovertext}</b><br><br>Country Name=Argentina<br>GDP per capita=%{marker.size}<br>Percentage of Firms with Females at top managerial positions(% of firms)=%{y}<br>Year=%{text}<extra></extra>\",\"hovertext\":[2010.0,2017.0],\"legendgroup\":\"Argentina\",\"marker\":{\"color\":\"#636efa\",\"size\":40,\"sizemode\":\"area\",\"sizeref\":730.7307293770515,\"symbol\":\"circle\"},\"mode\":\"markers+text\",\"name\":\"Argentina\",\"orientation\":\"v\",\"showlegend\":true,\"text\":[2010.0,2017.0],\"x\":[18061.9343589164,23597.117752839],\"xaxis\":\"x\",\"y\":[9.2,8.0],\"yaxis\":\"y\",\"type\":\"scatter\",\"textposition\":\"middle center\"},{\"hovertemplate\":\"<b>%{hovertext}</b><br><br>Country Name=Antigua and Barbuda<br>GDP per capita=%{marker.size}<br>Percentage of Firms with Females at top managerial positions(% of firms)=%{y}<br>Year=%{text}<extra></extra>\",\"hovertext\":[2010.0],\"legendgroup\":\"Antigua and Barbuda\",\"marker\":{\"color\":\"#EF553B\",\"size\":40,\"sizemode\":\"area\",\"sizeref\":730.7307293770515,\"symbol\":\"circle\"},\"mode\":\"markers+text\",\"name\":\"Antigua and Barbuda\",\"orientation\":\"v\",\"showlegend\":true,\"text\":[2010.0],\"x\":[20611.4457775542],\"xaxis\":\"x\",\"y\":[17.5],\"yaxis\":\"y\",\"type\":\"scatter\",\"textposition\":\"middle center\"},{\"hovertemplate\":\"<b>%{hovertext}</b><br><br>Country Name=Bahamas, The<br>GDP per capita=%{marker.size}<br>Percentage of Firms with Females at top managerial positions(% of firms)=%{y}<br>Year=%{text}<extra></extra>\",\"hovertext\":[2010.0],\"legendgroup\":\"Bahamas, The\",\"marker\":{\"color\":\"#00cc96\",\"size\":40,\"sizemode\":\"area\",\"sizeref\":730.7307293770515,\"symbol\":\"circle\"},\"mode\":\"markers+text\",\"name\":\"Bahamas, The\",\"orientation\":\"v\",\"showlegend\":true,\"text\":[2010.0],\"x\":[31090.639647889904],\"xaxis\":\"x\",\"y\":[33.2],\"yaxis\":\"y\",\"type\":\"scatter\",\"textposition\":\"middle center\"},{\"hovertemplate\":\"<b>%{hovertext}</b><br><br>Country Name=Belize<br>GDP per capita=%{marker.size}<br>Percentage of Firms with Females at top managerial positions(% of firms)=%{y}<br>Year=%{text}<extra></extra>\",\"hovertext\":[2010.0],\"legendgroup\":\"Belize\",\"marker\":{\"color\":\"#ab63fa\",\"size\":40,\"sizemode\":\"area\",\"sizeref\":730.7307293770515,\"symbol\":\"circle\"},\"mode\":\"markers+text\",\"name\":\"Belize\",\"orientation\":\"v\",\"showlegend\":true,\"text\":[2010.0],\"x\":[7563.702662421701],\"xaxis\":\"x\",\"y\":[25.5],\"yaxis\":\"y\",\"type\":\"scatter\",\"textposition\":\"middle center\"},{\"hovertemplate\":\"<b>%{hovertext}</b><br><br>Country Name=Bolivia<br>GDP per capita=%{marker.size}<br>Percentage of Firms with Females at top managerial positions(% of firms)=%{y}<br>Year=%{text}<extra></extra>\",\"hovertext\":[2010.0,2017.0],\"legendgroup\":\"Bolivia\",\"marker\":{\"color\":\"#FFA15A\",\"size\":40,\"sizemode\":\"area\",\"sizeref\":730.7307293770515,\"symbol\":\"circle\"},\"mode\":\"markers+text\",\"name\":\"Bolivia\",\"orientation\":\"v\",\"showlegend\":true,\"text\":[2010.0,2017.0],\"x\":[5167.1103118386,8423.6975596562],\"xaxis\":\"x\",\"y\":[21.7,26.3],\"yaxis\":\"y\",\"type\":\"scatter\",\"textposition\":\"middle center\"},{\"hovertemplate\":\"<b>%{hovertext}</b><br><br>Country Name=Barbados<br>GDP per capita=%{marker.size}<br>Percentage of Firms with Females at top managerial positions(% of firms)=%{y}<br>Year=%{text}<extra></extra>\",\"hovertext\":[2010.0],\"legendgroup\":\"Barbados\",\"marker\":{\"color\":\"#19d3f3\",\"size\":40,\"sizemode\":\"area\",\"sizeref\":730.7307293770515,\"symbol\":\"circle\"},\"mode\":\"markers+text\",\"name\":\"Barbados\",\"orientation\":\"v\",\"showlegend\":true,\"text\":[2010.0],\"x\":[16127.811383751201],\"xaxis\":\"x\",\"y\":[25.4],\"yaxis\":\"y\",\"type\":\"scatter\",\"textposition\":\"middle center\"},{\"hovertemplate\":\"<b>%{hovertext}</b><br><br>Country Name=Chile<br>GDP per capita=%{marker.size}<br>Percentage of Firms with Females at top managerial positions(% of firms)=%{y}<br>Year=%{text}<extra></extra>\",\"hovertext\":[2010.0],\"legendgroup\":\"Chile\",\"marker\":{\"color\":\"#FF6692\",\"size\":40,\"sizemode\":\"area\",\"sizeref\":730.7307293770515,\"symbol\":\"circle\"},\"mode\":\"markers+text\",\"name\":\"Chile\",\"orientation\":\"v\",\"showlegend\":true,\"text\":[2010.0],\"x\":[18161.8092446236],\"xaxis\":\"x\",\"y\":[4.5],\"yaxis\":\"y\",\"type\":\"scatter\",\"textposition\":\"middle center\"},{\"hovertemplate\":\"<b>%{hovertext}</b><br><br>Country Name=Colombia<br>GDP per capita=%{marker.size}<br>Percentage of Firms with Females at top managerial positions(% of firms)=%{y}<br>Year=%{text}<extra></extra>\",\"hovertext\":[2010.0,2017.0],\"legendgroup\":\"Colombia\",\"marker\":{\"color\":\"#B6E880\",\"size\":40,\"sizemode\":\"area\",\"sizeref\":730.7307293770515,\"symbol\":\"circle\"},\"mode\":\"markers+text\",\"name\":\"Colombia\",\"orientation\":\"v\",\"showlegend\":true,\"text\":[2010.0,2017.0],\"x\":[10731.645914959001,14171.3205005648],\"xaxis\":\"x\",\"y\":[12.1,18.9],\"yaxis\":\"y\",\"type\":\"scatter\",\"textposition\":\"middle center\"},{\"hovertemplate\":\"<b>%{hovertext}</b><br><br>Country Name=Costa Rica<br>GDP per capita=%{marker.size}<br>Percentage of Firms with Females at top managerial positions(% of firms)=%{y}<br>Year=%{text}<extra></extra>\",\"hovertext\":[2010.0],\"legendgroup\":\"Costa Rica\",\"marker\":{\"color\":\"#FF97FF\",\"size\":40,\"sizemode\":\"area\",\"sizeref\":730.7307293770515,\"symbol\":\"circle\"},\"mode\":\"markers+text\",\"name\":\"Costa Rica\",\"orientation\":\"v\",\"showlegend\":true,\"text\":[2010.0],\"x\":[12863.8495104025],\"xaxis\":\"x\",\"y\":[15.4],\"yaxis\":\"y\",\"type\":\"scatter\",\"textposition\":\"middle center\"},{\"hovertemplate\":\"<b>%{hovertext}</b><br><br>Country Name=Dominica<br>GDP per capita=%{marker.size}<br>Percentage of Firms with Females at top managerial positions(% of firms)=%{y}<br>Year=%{text}<extra></extra>\",\"hovertext\":[2010.0],\"legendgroup\":\"Dominica\",\"marker\":{\"color\":\"#FECB52\",\"size\":40,\"sizemode\":\"area\",\"sizeref\":730.7307293770515,\"symbol\":\"circle\"},\"mode\":\"markers+text\",\"name\":\"Dominica\",\"orientation\":\"v\",\"showlegend\":true,\"text\":[2010.0],\"x\":[10017.761872474399],\"xaxis\":\"x\",\"y\":[23.6],\"yaxis\":\"y\",\"type\":\"scatter\",\"textposition\":\"middle center\"},{\"hovertemplate\":\"<b>%{hovertext}</b><br><br>Country Name=Dominican Republic<br>GDP per capita=%{marker.size}<br>Percentage of Firms with Females at top managerial positions(% of firms)=%{y}<br>Year=%{text}<extra></extra>\",\"hovertext\":[2010.0,2016.0],\"legendgroup\":\"Dominican Republic\",\"marker\":{\"color\":\"#636efa\",\"size\":40,\"sizemode\":\"area\",\"sizeref\":730.7307293770515,\"symbol\":\"circle\"},\"mode\":\"markers+text\",\"name\":\"Dominican Republic\",\"orientation\":\"v\",\"showlegend\":true,\"text\":[2010.0,2016.0],\"x\":[11410.353459966498,16109.863671140902],\"xaxis\":\"x\",\"y\":[11.0,21.2],\"yaxis\":\"y\",\"type\":\"scatter\",\"textposition\":\"middle center\"},{\"hovertemplate\":\"<b>%{hovertext}</b><br><br>Country Name=Ecuador<br>GDP per capita=%{marker.size}<br>Percentage of Firms with Females at top managerial positions(% of firms)=%{y}<br>Year=%{text}<extra></extra>\",\"hovertext\":[2010.0,2017.0],\"legendgroup\":\"Ecuador\",\"marker\":{\"color\":\"#EF553B\",\"size\":40,\"sizemode\":\"area\",\"sizeref\":730.7307293770515,\"symbol\":\"circle\"},\"mode\":\"markers+text\",\"name\":\"Ecuador\",\"orientation\":\"v\",\"showlegend\":true,\"text\":[2010.0,2017.0],\"x\":[9090.310050230999,11617.9122190573],\"xaxis\":\"x\",\"y\":[17.0,22.9],\"yaxis\":\"y\",\"type\":\"scatter\",\"textposition\":\"middle center\"},{\"hovertemplate\":\"<b>%{hovertext}</b><br><br>Country Name=Grenada<br>GDP per capita=%{marker.size}<br>Percentage of Firms with Females at top managerial positions(% of firms)=%{y}<br>Year=%{text}<extra></extra>\",\"hovertext\":[2010.0],\"legendgroup\":\"Grenada\",\"marker\":{\"color\":\"#00cc96\",\"size\":40,\"sizemode\":\"area\",\"sizeref\":730.7307293770515,\"symbol\":\"circle\"},\"mode\":\"markers+text\",\"name\":\"Grenada\",\"orientation\":\"v\",\"showlegend\":true,\"text\":[2010.0],\"x\":[10863.4810030685],\"xaxis\":\"x\",\"y\":[24.0],\"yaxis\":\"y\",\"type\":\"scatter\",\"textposition\":\"middle center\"},{\"hovertemplate\":\"<b>%{hovertext}</b><br><br>Country Name=Guatemala<br>GDP per capita=%{marker.size}<br>Percentage of Firms with Females at top managerial positions(% of firms)=%{y}<br>Year=%{text}<extra></extra>\",\"hovertext\":[2010.0,2017.0],\"legendgroup\":\"Guatemala\",\"marker\":{\"color\":\"#ab63fa\",\"size\":40,\"sizemode\":\"area\",\"sizeref\":730.7307293770515,\"symbol\":\"circle\"},\"mode\":\"markers+text\",\"name\":\"Guatemala\",\"orientation\":\"v\",\"showlegend\":true,\"text\":[2010.0,2017.0],\"x\":[6618.1905322871,8322.216809915],\"xaxis\":\"x\",\"y\":[15.7,18.5],\"yaxis\":\"y\",\"type\":\"scatter\",\"textposition\":\"middle center\"},{\"hovertemplate\":\"<b>%{hovertext}</b><br><br>Country Name=Guyana<br>GDP per capita=%{marker.size}<br>Percentage of Firms with Females at top managerial positions(% of firms)=%{y}<br>Year=%{text}<extra></extra>\",\"hovertext\":[2010.0],\"legendgroup\":\"Guyana\",\"marker\":{\"color\":\"#FFA15A\",\"size\":40,\"sizemode\":\"area\",\"sizeref\":730.7307293770515,\"symbol\":\"circle\"},\"mode\":\"markers+text\",\"name\":\"Guyana\",\"orientation\":\"v\",\"showlegend\":true,\"text\":[2010.0],\"x\":[9319.4087022097],\"xaxis\":\"x\",\"y\":[17.7],\"yaxis\":\"y\",\"type\":\"scatter\",\"textposition\":\"middle center\"},{\"hovertemplate\":\"<b>%{hovertext}</b><br><br>Country Name=Honduras<br>GDP per capita=%{marker.size}<br>Percentage of Firms with Females at top managerial positions(% of firms)=%{y}<br>Year=%{text}<extra></extra>\",\"hovertext\":[2010.0,2016.0],\"legendgroup\":\"Honduras\",\"marker\":{\"color\":\"#19d3f3\",\"size\":40,\"sizemode\":\"area\",\"sizeref\":730.7307293770515,\"symbol\":\"circle\"},\"mode\":\"markers+text\",\"name\":\"Honduras\",\"orientation\":\"v\",\"showlegend\":true,\"text\":[2010.0,2016.0],\"x\":[3778.4619238786,5147.2451332568],\"xaxis\":\"x\",\"y\":[31.7,28.0],\"yaxis\":\"y\",\"type\":\"scatter\",\"textposition\":\"middle center\"},{\"hovertemplate\":\"<b>%{hovertext}</b><br><br>Country Name=Jamaica<br>GDP per capita=%{marker.size}<br>Percentage of Firms with Females at top managerial positions(% of firms)=%{y}<br>Year=%{text}<extra></extra>\",\"hovertext\":[2010.0],\"legendgroup\":\"Jamaica\",\"marker\":{\"color\":\"#FF6692\",\"size\":40,\"sizemode\":\"area\",\"sizeref\":730.7307293770515,\"symbol\":\"circle\"},\"mode\":\"markers+text\",\"name\":\"Jamaica\",\"orientation\":\"v\",\"showlegend\":true,\"text\":[2010.0],\"x\":[7900.1994785027],\"xaxis\":\"x\",\"y\":[24.1],\"yaxis\":\"y\",\"type\":\"scatter\",\"textposition\":\"middle center\"},{\"hovertemplate\":\"<b>%{hovertext}</b><br><br>Country Name=St. Kitts and Nevis<br>GDP per capita=%{marker.size}<br>Percentage of Firms with Females at top managerial positions(% of firms)=%{y}<br>Year=%{text}<extra></extra>\",\"hovertext\":[2010.0],\"legendgroup\":\"St. Kitts and Nevis\",\"marker\":{\"color\":\"#B6E880\",\"size\":40,\"sizemode\":\"area\",\"sizeref\":730.7307293770515,\"symbol\":\"circle\"},\"mode\":\"markers+text\",\"name\":\"St. Kitts and Nevis\",\"orientation\":\"v\",\"showlegend\":true,\"text\":[2010.0],\"x\":[22096.705204665297],\"xaxis\":\"x\",\"y\":[21.1],\"yaxis\":\"y\",\"type\":\"scatter\",\"textposition\":\"middle center\"},{\"hovertemplate\":\"<b>%{hovertext}</b><br><br>Country Name=St. Lucia<br>GDP per capita=%{marker.size}<br>Percentage of Firms with Females at top managerial positions(% of firms)=%{y}<br>Year=%{text}<extra></extra>\",\"hovertext\":[2010.0],\"legendgroup\":\"St. Lucia\",\"marker\":{\"color\":\"#FF97FF\",\"size\":40,\"sizemode\":\"area\",\"sizeref\":730.7307293770515,\"symbol\":\"circle\"},\"mode\":\"markers+text\",\"name\":\"St. Lucia\",\"orientation\":\"v\",\"showlegend\":true,\"text\":[2010.0],\"x\":[12412.8775135974],\"xaxis\":\"x\",\"y\":[23.7],\"yaxis\":\"y\",\"type\":\"scatter\",\"textposition\":\"middle center\"},{\"hovertemplate\":\"<b>%{hovertext}</b><br><br>Country Name=Mexico<br>GDP per capita=%{marker.size}<br>Percentage of Firms with Females at top managerial positions(% of firms)=%{y}<br>Year=%{text}<extra></extra>\",\"hovertext\":[2010.0],\"legendgroup\":\"Mexico\",\"marker\":{\"color\":\"#FECB52\",\"size\":40,\"sizemode\":\"area\",\"sizeref\":730.7307293770515,\"symbol\":\"circle\"},\"mode\":\"markers+text\",\"name\":\"Mexico\",\"orientation\":\"v\",\"showlegend\":true,\"text\":[2010.0],\"x\":[15260.6208214691],\"xaxis\":\"x\",\"y\":[14.6],\"yaxis\":\"y\",\"type\":\"scatter\",\"textposition\":\"middle center\"},{\"hovertemplate\":\"<b>%{hovertext}</b><br><br>Country Name=Nicaragua<br>GDP per capita=%{marker.size}<br>Percentage of Firms with Females at top managerial positions(% of firms)=%{y}<br>Year=%{text}<extra></extra>\",\"hovertext\":[2010.0,2016.0],\"legendgroup\":\"Nicaragua\",\"marker\":{\"color\":\"#636efa\",\"size\":40,\"sizemode\":\"area\",\"sizeref\":730.7307293770515,\"symbol\":\"circle\"},\"mode\":\"markers+text\",\"name\":\"Nicaragua\",\"orientation\":\"v\",\"showlegend\":true,\"text\":[2010.0,2016.0],\"x\":[3981.0867206756,5694.0542874079],\"xaxis\":\"x\",\"y\":[32.3,27.0],\"yaxis\":\"y\",\"type\":\"scatter\",\"textposition\":\"middle center\"},{\"hovertemplate\":\"<b>%{hovertext}</b><br><br>Country Name=Panama<br>GDP per capita=%{marker.size}<br>Percentage of Firms with Females at top managerial positions(% of firms)=%{y}<br>Year=%{text}<extra></extra>\",\"hovertext\":[2010.0],\"legendgroup\":\"Panama\",\"marker\":{\"color\":\"#EF553B\",\"size\":40,\"sizemode\":\"area\",\"sizeref\":730.7307293770515,\"symbol\":\"circle\"},\"mode\":\"markers+text\",\"name\":\"Panama\",\"orientation\":\"v\",\"showlegend\":true,\"text\":[2010.0],\"x\":[15153.510984506202],\"xaxis\":\"x\",\"y\":[23.5],\"yaxis\":\"y\",\"type\":\"scatter\",\"textposition\":\"middle center\"},{\"hovertemplate\":\"<b>%{hovertext}</b><br><br>Country Name=Peru<br>GDP per capita=%{marker.size}<br>Percentage of Firms with Females at top managerial positions(% of firms)=%{y}<br>Year=%{text}<extra></extra>\",\"hovertext\":[2010.0,2017.0],\"legendgroup\":\"Peru\",\"marker\":{\"color\":\"#00cc96\",\"size\":40,\"sizemode\":\"area\",\"sizeref\":730.7307293770515,\"symbol\":\"circle\"},\"mode\":\"markers+text\",\"name\":\"Peru\",\"orientation\":\"v\",\"showlegend\":true,\"text\":[2010.0,2017.0],\"x\":[9730.4211039342,12506.5293750586],\"xaxis\":\"x\",\"y\":[14.1,19.9],\"yaxis\":\"y\",\"type\":\"scatter\",\"textposition\":\"middle center\"},{\"hovertemplate\":\"<b>%{hovertext}</b><br><br>Country Name=Paraguay<br>GDP per capita=%{marker.size}<br>Percentage of Firms with Females at top managerial positions(% of firms)=%{y}<br>Year=%{text}<extra></extra>\",\"hovertext\":[2010.0,2017.0],\"legendgroup\":\"Paraguay\",\"marker\":{\"color\":\"#ab63fa\",\"size\":40,\"sizemode\":\"area\",\"sizeref\":730.7307293770515,\"symbol\":\"circle\"},\"mode\":\"markers+text\",\"name\":\"Paraguay\",\"orientation\":\"v\",\"showlegend\":true,\"text\":[2010.0,2017.0],\"x\":[10001.5304279296,12590.548443655],\"xaxis\":\"x\",\"y\":[22.8,19.6],\"yaxis\":\"y\",\"type\":\"scatter\",\"textposition\":\"middle center\"},{\"hovertemplate\":\"<b>%{hovertext}</b><br><br>Country Name=El Salvador<br>GDP per capita=%{marker.size}<br>Percentage of Firms with Females at top managerial positions(% of firms)=%{y}<br>Year=%{text}<extra></extra>\",\"hovertext\":[2010.0,2016.0],\"legendgroup\":\"El Salvador\",\"marker\":{\"color\":\"#FFA15A\",\"size\":40,\"sizemode\":\"area\",\"sizeref\":730.7307293770515,\"symbol\":\"circle\"},\"mode\":\"markers+text\",\"name\":\"El Salvador\",\"orientation\":\"v\",\"showlegend\":true,\"text\":[2010.0,2016.0],\"x\":[6127.0767612596,8038.629794288299],\"xaxis\":\"x\",\"y\":[21.4,28.0],\"yaxis\":\"y\",\"type\":\"scatter\",\"textposition\":\"middle center\"},{\"hovertemplate\":\"<b>%{hovertext}</b><br><br>Country Name=Suriname<br>GDP per capita=%{marker.size}<br>Percentage of Firms with Females at top managerial positions(% of firms)=%{y}<br>Year=%{text}<extra></extra>\",\"hovertext\":[2010.0,2018.0],\"legendgroup\":\"Suriname\",\"marker\":{\"color\":\"#19d3f3\",\"size\":40,\"sizemode\":\"area\",\"sizeref\":730.7307293770515,\"symbol\":\"circle\"},\"mode\":\"markers+text\",\"name\":\"Suriname\",\"orientation\":\"v\",\"showlegend\":true,\"text\":[2010.0,2018.0],\"x\":[13548.533216675902,19461.9765178867],\"xaxis\":\"x\",\"y\":[15.0,11.9],\"yaxis\":\"y\",\"type\":\"scatter\",\"textposition\":\"middle center\"},{\"hovertemplate\":\"<b>%{hovertext}</b><br><br>Country Name=Trinidad and Tobago<br>GDP per capita=%{marker.size}<br>Percentage of Firms with Females at top managerial positions(% of firms)=%{y}<br>Year=%{text}<extra></extra>\",\"hovertext\":[2010.0],\"legendgroup\":\"Trinidad and Tobago\",\"marker\":{\"color\":\"#FF6692\",\"size\":40,\"sizemode\":\"area\",\"sizeref\":730.7307293770515,\"symbol\":\"circle\"},\"mode\":\"markers+text\",\"name\":\"Trinidad and Tobago\",\"orientation\":\"v\",\"showlegend\":true,\"text\":[2010.0],\"x\":[30528.893138099702],\"xaxis\":\"x\",\"y\":[20.8],\"yaxis\":\"y\",\"type\":\"scatter\",\"textposition\":\"middle center\"},{\"hovertemplate\":\"<b>%{hovertext}</b><br><br>Country Name=Uruguay<br>GDP per capita=%{marker.size}<br>Percentage of Firms with Females at top managerial positions(% of firms)=%{y}<br>Year=%{text}<extra></extra>\",\"hovertext\":[2010.0,2017.0],\"legendgroup\":\"Uruguay\",\"marker\":{\"color\":\"#B6E880\",\"size\":40,\"sizemode\":\"area\",\"sizeref\":730.7307293770515,\"symbol\":\"circle\"},\"mode\":\"markers+text\",\"name\":\"Uruguay\",\"orientation\":\"v\",\"showlegend\":true,\"text\":[2010.0,2017.0],\"x\":[16817.0790492985,23009.8742286911],\"xaxis\":\"x\",\"y\":[19.4,10.6],\"yaxis\":\"y\",\"type\":\"scatter\",\"textposition\":\"middle center\"},{\"hovertemplate\":\"<b>%{hovertext}</b><br><br>Country Name=St. Vincent and the Grenadines<br>GDP per capita=%{marker.size}<br>Percentage of Firms with Females at top managerial positions(% of firms)=%{y}<br>Year=%{text}<extra></extra>\",\"hovertext\":[2010.0],\"legendgroup\":\"St. Vincent and the Grenadines\",\"marker\":{\"color\":\"#FF97FF\",\"size\":40,\"sizemode\":\"area\",\"sizeref\":730.7307293770515,\"symbol\":\"circle\"},\"mode\":\"markers+text\",\"name\":\"St. Vincent and the Grenadines\",\"orientation\":\"v\",\"showlegend\":true,\"text\":[2010.0],\"x\":[10139.3502301021],\"xaxis\":\"x\",\"y\":[38.6],\"yaxis\":\"y\",\"type\":\"scatter\",\"textposition\":\"middle center\"},{\"hovertemplate\":\"<b>%{hovertext}</b><br><br>Country Name=Venezuela, RB<br>GDP per capita=%{marker.size}<br>Percentage of Firms with Females at top managerial positions(% of firms)=%{y}<br>Year=%{text}<extra></extra>\",\"hovertext\":[2010.0],\"legendgroup\":\"Venezuela, RB\",\"marker\":{\"color\":\"#FECB52\",\"size\":40,\"sizemode\":\"area\",\"sizeref\":730.7307293770515,\"symbol\":\"circle\"},\"mode\":\"markers+text\",\"name\":\"Venezuela, RB\",\"orientation\":\"v\",\"showlegend\":true,\"text\":[2010.0],\"x\":[16740.3682415571],\"xaxis\":\"x\",\"y\":[31.1],\"yaxis\":\"y\",\"type\":\"scatter\",\"textposition\":\"middle center\"},{\"hovertemplate\":\"<b>%{hovertext}</b><br><br>Country Name=Yemen, Rep.<br>GDP per capita=%{marker.size}<br>Percentage of Firms with Females at top managerial positions(% of firms)=%{y}<br>Year=%{text}<extra></extra>\",\"hovertext\":[2010.0,2013.0],\"legendgroup\":\"Yemen, Rep.\",\"marker\":{\"color\":\"#636efa\",\"size\":40,\"sizemode\":\"area\",\"sizeref\":730.7307293770515,\"symbol\":\"circle\"},\"mode\":\"markers+text\",\"name\":\"Yemen, Rep.\",\"orientation\":\"v\",\"showlegend\":true,\"text\":[2010.0,2013.0],\"x\":[4162.0886309111,3688.5194085236],\"xaxis\":\"x\",\"y\":[0.1,1.6],\"yaxis\":\"y\",\"type\":\"scatter\",\"textposition\":\"middle center\"},{\"hovertemplate\":\"<b>%{hovertext}</b><br><br>Country Name=Iraq<br>GDP per capita=%{marker.size}<br>Percentage of Firms with Females at top managerial positions(% of firms)=%{y}<br>Year=%{text}<extra></extra>\",\"hovertext\":[2011.0],\"legendgroup\":\"Iraq\",\"marker\":{\"color\":\"#EF553B\",\"size\":40,\"sizemode\":\"area\",\"sizeref\":730.7307293770515,\"symbol\":\"circle\"},\"mode\":\"markers+text\",\"name\":\"Iraq\",\"orientation\":\"v\",\"showlegend\":true,\"text\":[2011.0],\"x\":[13515.5459272349],\"xaxis\":\"x\",\"y\":[2.3],\"yaxis\":\"y\",\"type\":\"scatter\",\"textposition\":\"middle center\"},{\"hovertemplate\":\"<b>%{hovertext}</b><br><br>Country Name=Sri Lanka<br>GDP per capita=%{marker.size}<br>Percentage of Firms with Females at top managerial positions(% of firms)=%{y}<br>Year=%{text}<extra></extra>\",\"hovertext\":[2011.0],\"legendgroup\":\"Sri Lanka\",\"marker\":{\"color\":\"#00cc96\",\"size\":40,\"sizemode\":\"area\",\"sizeref\":730.7307293770515,\"symbol\":\"circle\"},\"mode\":\"markers+text\",\"name\":\"Sri Lanka\",\"orientation\":\"v\",\"showlegend\":true,\"text\":[2011.0],\"x\":[9007.7341986963],\"xaxis\":\"x\",\"y\":[8.8],\"yaxis\":\"y\",\"type\":\"scatter\",\"textposition\":\"middle center\"},{\"hovertemplate\":\"<b>%{hovertext}</b><br><br>Country Name=Bangladesh<br>GDP per capita=%{marker.size}<br>Percentage of Firms with Females at top managerial positions(% of firms)=%{y}<br>Year=%{text}<extra></extra>\",\"hovertext\":[2013.0],\"legendgroup\":\"Bangladesh\",\"marker\":{\"color\":\"#ab63fa\",\"size\":40,\"sizemode\":\"area\",\"sizeref\":730.7307293770515,\"symbol\":\"circle\"},\"mode\":\"markers+text\",\"name\":\"Bangladesh\",\"orientation\":\"v\",\"showlegend\":true,\"text\":[2013.0],\"x\":[3143.5855027524],\"xaxis\":\"x\",\"y\":[4.8],\"yaxis\":\"y\",\"type\":\"scatter\",\"textposition\":\"middle center\"},{\"hovertemplate\":\"<b>%{hovertext}</b><br><br>Country Name=Djibouti<br>GDP per capita=%{marker.size}<br>Percentage of Firms with Females at top managerial positions(% of firms)=%{y}<br>Year=%{text}<extra></extra>\",\"hovertext\":[2013.0],\"legendgroup\":\"Djibouti\",\"marker\":{\"color\":\"#FFA15A\",\"size\":40,\"sizemode\":\"area\",\"sizeref\":730.7307293770515,\"symbol\":\"circle\"},\"mode\":\"markers+text\",\"name\":\"Djibouti\",\"orientation\":\"v\",\"showlegend\":true,\"text\":[2013.0],\"x\":[4103.9412036626],\"xaxis\":\"x\",\"y\":[14.2],\"yaxis\":\"y\",\"type\":\"scatter\",\"textposition\":\"middle center\"},{\"hovertemplate\":\"<b>%{hovertext}</b><br><br>Country Name=Egypt, Arab Rep.<br>GDP per capita=%{marker.size}<br>Percentage of Firms with Females at top managerial positions(% of firms)=%{y}<br>Year=%{text}<extra></extra>\",\"hovertext\":[2013.0,2016.0],\"legendgroup\":\"Egypt, Arab Rep.\",\"marker\":{\"color\":\"#19d3f3\",\"size\":40,\"sizemode\":\"area\",\"sizeref\":730.7307293770515,\"symbol\":\"circle\"},\"mode\":\"markers+text\",\"name\":\"Egypt, Arab Rep.\",\"orientation\":\"v\",\"showlegend\":true,\"text\":[2013.0,2016.0],\"x\":[11221.380385922099,11192.3730101321],\"xaxis\":\"x\",\"y\":[7.1,4.9],\"yaxis\":\"y\",\"type\":\"scatter\",\"textposition\":\"middle center\"},{\"hovertemplate\":\"<b>%{hovertext}</b><br><br>Country Name=Israel<br>GDP per capita=%{marker.size}<br>Percentage of Firms with Females at top managerial positions(% of firms)=%{y}<br>Year=%{text}<extra></extra>\",\"hovertext\":[2013.0],\"legendgroup\":\"Israel\",\"marker\":{\"color\":\"#FF6692\",\"size\":40,\"sizemode\":\"area\",\"sizeref\":730.7307293770515,\"symbol\":\"circle\"},\"mode\":\"markers+text\",\"name\":\"Israel\",\"orientation\":\"v\",\"showlegend\":true,\"text\":[2013.0],\"x\":[34152.3044335602],\"xaxis\":\"x\",\"y\":[10.1],\"yaxis\":\"y\",\"type\":\"scatter\",\"textposition\":\"middle center\"},{\"hovertemplate\":\"<b>%{hovertext}</b><br><br>Country Name=Jordan<br>GDP per capita=%{marker.size}<br>Percentage of Firms with Females at top managerial positions(% of firms)=%{y}<br>Year=%{text}<extra></extra>\",\"hovertext\":[2013.0,2019.0],\"legendgroup\":\"Jordan\",\"marker\":{\"color\":\"#B6E880\",\"size\":40,\"sizemode\":\"area\",\"sizeref\":730.7307293770515,\"symbol\":\"circle\"},\"mode\":\"markers+text\",\"name\":\"Jordan\",\"orientation\":\"v\",\"showlegend\":true,\"text\":[2013.0,2019.0],\"x\":[9322.302453864399,10497.2979196497],\"xaxis\":\"x\",\"y\":[2.4,3.1],\"yaxis\":\"y\",\"type\":\"scatter\",\"textposition\":\"middle center\"},{\"hovertemplate\":\"<b>%{hovertext}</b><br><br>Country Name=Lebanon<br>GDP per capita=%{marker.size}<br>Percentage of Firms with Females at top managerial positions(% of firms)=%{y}<br>Year=%{text}<extra></extra>\",\"hovertext\":[2013.0,2019.0],\"legendgroup\":\"Lebanon\",\"marker\":{\"color\":\"#FF97FF\",\"size\":40,\"sizemode\":\"area\",\"sizeref\":730.7307293770515,\"symbol\":\"circle\"},\"mode\":\"markers+text\",\"name\":\"Lebanon\",\"orientation\":\"v\",\"showlegend\":true,\"text\":[2013.0,2019.0],\"x\":[14976.7806043393,15166.9797085934],\"xaxis\":\"x\",\"y\":[4.4,5.9],\"yaxis\":\"y\",\"type\":\"scatter\",\"textposition\":\"middle center\"},{\"hovertemplate\":\"<b>%{hovertext}</b><br><br>Country Name=Morocco<br>GDP per capita=%{marker.size}<br>Percentage of Firms with Females at top managerial positions(% of firms)=%{y}<br>Year=%{text}<extra></extra>\",\"hovertext\":[2013.0,2019.0],\"legendgroup\":\"Morocco\",\"marker\":{\"color\":\"#FECB52\",\"size\":40,\"sizemode\":\"area\",\"sizeref\":730.7307293770515,\"symbol\":\"circle\"},\"mode\":\"markers+text\",\"name\":\"Morocco\",\"orientation\":\"v\",\"showlegend\":true,\"text\":[2013.0,2019.0],\"x\":[6916.0130317388,7856.2450573973],\"xaxis\":\"x\",\"y\":[4.3,5.4],\"yaxis\":\"y\",\"type\":\"scatter\",\"textposition\":\"middle center\"},{\"hovertemplate\":\"<b>%{hovertext}</b><br><br>Country Name=Nepal<br>GDP per capita=%{marker.size}<br>Percentage of Firms with Females at top managerial positions(% of firms)=%{y}<br>Year=%{text}<extra></extra>\",\"hovertext\":[2013.0],\"legendgroup\":\"Nepal\",\"marker\":{\"color\":\"#636efa\",\"size\":40,\"sizemode\":\"area\",\"sizeref\":730.7307293770515,\"symbol\":\"circle\"},\"mode\":\"markers+text\",\"name\":\"Nepal\",\"orientation\":\"v\",\"showlegend\":true,\"text\":[2013.0],\"x\":[2702.2249626342],\"xaxis\":\"x\",\"y\":[17.2],\"yaxis\":\"y\",\"type\":\"scatter\",\"textposition\":\"middle center\"},{\"hovertemplate\":\"<b>%{hovertext}</b><br><br>Country Name=Pakistan<br>GDP per capita=%{marker.size}<br>Percentage of Firms with Females at top managerial positions(% of firms)=%{y}<br>Year=%{text}<extra></extra>\",\"hovertext\":[2013.0],\"legendgroup\":\"Pakistan\",\"marker\":{\"color\":\"#EF553B\",\"size\":40,\"sizemode\":\"area\",\"sizeref\":730.7307293770515,\"symbol\":\"circle\"},\"mode\":\"markers+text\",\"name\":\"Pakistan\",\"orientation\":\"v\",\"showlegend\":true,\"text\":[2013.0],\"x\":[4103.6295635188],\"xaxis\":\"x\",\"y\":[6.0],\"yaxis\":\"y\",\"type\":\"scatter\",\"textposition\":\"middle center\"},{\"hovertemplate\":\"<b>%{hovertext}</b><br><br>Country Name=West Bank and Gaza<br>GDP per capita=%{marker.size}<br>Percentage of Firms with Females at top managerial positions(% of firms)=%{y}<br>Year=%{text}<extra></extra>\",\"hovertext\":[2013.0,2019.0],\"legendgroup\":\"West Bank and Gaza\",\"marker\":{\"color\":\"#00cc96\",\"size\":40,\"sizemode\":\"area\",\"sizeref\":730.7307293770515,\"symbol\":\"circle\"},\"mode\":\"markers+text\",\"name\":\"West Bank and Gaza\",\"orientation\":\"v\",\"showlegend\":true,\"text\":[2013.0,2019.0],\"x\":[5371.6871002024,6509.5683354833],\"xaxis\":\"x\",\"y\":[1.3,0.9],\"yaxis\":\"y\",\"type\":\"scatter\",\"textposition\":\"middle center\"},{\"hovertemplate\":\"<b>%{hovertext}</b><br><br>Country Name=Tunisia<br>GDP per capita=%{marker.size}<br>Percentage of Firms with Females at top managerial positions(% of firms)=%{y}<br>Year=%{text}<extra></extra>\",\"hovertext\":[2013.0],\"legendgroup\":\"Tunisia\",\"marker\":{\"color\":\"#ab63fa\",\"size\":40,\"sizemode\":\"area\",\"sizeref\":730.7307293770515,\"symbol\":\"circle\"},\"mode\":\"markers+text\",\"name\":\"Tunisia\",\"orientation\":\"v\",\"showlegend\":true,\"text\":[2013.0],\"x\":[10231.7263105005],\"xaxis\":\"x\",\"y\":[8.5],\"yaxis\":\"y\",\"type\":\"scatter\",\"textposition\":\"middle center\"},{\"hovertemplate\":\"<b>%{hovertext}</b><br><br>Country Name=Afghanistan<br>GDP per capita=%{marker.size}<br>Percentage of Firms with Females at top managerial positions(% of firms)=%{y}<br>Year=%{text}<extra></extra>\",\"hovertext\":[2014.0],\"legendgroup\":\"Afghanistan\",\"marker\":{\"color\":\"#FFA15A\",\"size\":40,\"sizemode\":\"area\",\"sizeref\":730.7307293770515,\"symbol\":\"circle\"},\"mode\":\"markers+text\",\"name\":\"Afghanistan\",\"orientation\":\"v\",\"showlegend\":true,\"text\":[2014.0],\"x\":[2069.4240216736],\"xaxis\":\"x\",\"y\":[4.7],\"yaxis\":\"y\",\"type\":\"scatter\",\"textposition\":\"middle center\"},{\"hovertemplate\":\"<b>%{hovertext}</b><br><br>Country Name=India<br>GDP per capita=%{marker.size}<br>Percentage of Firms with Females at top managerial positions(% of firms)=%{y}<br>Year=%{text}<extra></extra>\",\"hovertext\":[2014.0],\"legendgroup\":\"India\",\"marker\":{\"color\":\"#19d3f3\",\"size\":40,\"sizemode\":\"area\",\"sizeref\":730.7307293770515,\"symbol\":\"circle\"},\"mode\":\"markers+text\",\"name\":\"India\",\"orientation\":\"v\",\"showlegend\":true,\"text\":[2014.0],\"x\":[5233.8823425151],\"xaxis\":\"x\",\"y\":[8.9],\"yaxis\":\"y\",\"type\":\"scatter\",\"textposition\":\"middle center\"},{\"hovertemplate\":\"<b>%{hovertext}</b><br><br>Country Name=Bhutan<br>GDP per capita=%{marker.size}<br>Percentage of Firms with Females at top managerial positions(% of firms)=%{y}<br>Year=%{text}<extra></extra>\",\"hovertext\":[2015.0],\"legendgroup\":\"Bhutan\",\"marker\":{\"color\":\"#FF6692\",\"size\":40,\"sizemode\":\"area\",\"sizeref\":730.7307293770515,\"symbol\":\"circle\"},\"mode\":\"markers+text\",\"name\":\"Bhutan\",\"orientation\":\"v\",\"showlegend\":true,\"text\":[2015.0],\"x\":[9500.6507156498],\"xaxis\":\"x\",\"y\":[26.3],\"yaxis\":\"y\",\"type\":\"scatter\",\"textposition\":\"middle center\"},{\"hovertemplate\":\"<b>%{hovertext}</b><br><br>Country Name=Malta<br>GDP per capita=%{marker.size}<br>Percentage of Firms with Females at top managerial positions(% of firms)=%{y}<br>Year=%{text}<extra></extra>\",\"hovertext\":[2019.0],\"legendgroup\":\"Malta\",\"marker\":{\"color\":\"#B6E880\",\"size\":40,\"sizemode\":\"area\",\"sizeref\":730.7307293770515,\"symbol\":\"circle\"},\"mode\":\"markers+text\",\"name\":\"Malta\",\"orientation\":\"v\",\"showlegend\":true,\"text\":[2019.0],\"x\":[46766.766680131295],\"xaxis\":\"x\",\"y\":[11.3],\"yaxis\":\"y\",\"type\":\"scatter\",\"textposition\":\"middle center\"}],                        {\"template\":{\"data\":{\"bar\":[{\"error_x\":{\"color\":\"#f2f5fa\"},\"error_y\":{\"color\":\"#f2f5fa\"},\"marker\":{\"line\":{\"color\":\"rgb(17,17,17)\",\"width\":0.5},\"pattern\":{\"fillmode\":\"overlay\",\"size\":10,\"solidity\":0.2}},\"type\":\"bar\"}],\"barpolar\":[{\"marker\":{\"line\":{\"color\":\"rgb(17,17,17)\",\"width\":0.5},\"pattern\":{\"fillmode\":\"overlay\",\"size\":10,\"solidity\":0.2}},\"type\":\"barpolar\"}],\"carpet\":[{\"aaxis\":{\"endlinecolor\":\"#A2B1C6\",\"gridcolor\":\"#506784\",\"linecolor\":\"#506784\",\"minorgridcolor\":\"#506784\",\"startlinecolor\":\"#A2B1C6\"},\"baxis\":{\"endlinecolor\":\"#A2B1C6\",\"gridcolor\":\"#506784\",\"linecolor\":\"#506784\",\"minorgridcolor\":\"#506784\",\"startlinecolor\":\"#A2B1C6\"},\"type\":\"carpet\"}],\"choropleth\":[{\"colorbar\":{\"outlinewidth\":0,\"ticks\":\"\"},\"type\":\"choropleth\"}],\"contour\":[{\"colorbar\":{\"outlinewidth\":0,\"ticks\":\"\"},\"colorscale\":[[0.0,\"#0d0887\"],[0.1111111111111111,\"#46039f\"],[0.2222222222222222,\"#7201a8\"],[0.3333333333333333,\"#9c179e\"],[0.4444444444444444,\"#bd3786\"],[0.5555555555555556,\"#d8576b\"],[0.6666666666666666,\"#ed7953\"],[0.7777777777777778,\"#fb9f3a\"],[0.8888888888888888,\"#fdca26\"],[1.0,\"#f0f921\"]],\"type\":\"contour\"}],\"contourcarpet\":[{\"colorbar\":{\"outlinewidth\":0,\"ticks\":\"\"},\"type\":\"contourcarpet\"}],\"heatmap\":[{\"colorbar\":{\"outlinewidth\":0,\"ticks\":\"\"},\"colorscale\":[[0.0,\"#0d0887\"],[0.1111111111111111,\"#46039f\"],[0.2222222222222222,\"#7201a8\"],[0.3333333333333333,\"#9c179e\"],[0.4444444444444444,\"#bd3786\"],[0.5555555555555556,\"#d8576b\"],[0.6666666666666666,\"#ed7953\"],[0.7777777777777778,\"#fb9f3a\"],[0.8888888888888888,\"#fdca26\"],[1.0,\"#f0f921\"]],\"type\":\"heatmap\"}],\"heatmapgl\":[{\"colorbar\":{\"outlinewidth\":0,\"ticks\":\"\"},\"colorscale\":[[0.0,\"#0d0887\"],[0.1111111111111111,\"#46039f\"],[0.2222222222222222,\"#7201a8\"],[0.3333333333333333,\"#9c179e\"],[0.4444444444444444,\"#bd3786\"],[0.5555555555555556,\"#d8576b\"],[0.6666666666666666,\"#ed7953\"],[0.7777777777777778,\"#fb9f3a\"],[0.8888888888888888,\"#fdca26\"],[1.0,\"#f0f921\"]],\"type\":\"heatmapgl\"}],\"histogram\":[{\"marker\":{\"pattern\":{\"fillmode\":\"overlay\",\"size\":10,\"solidity\":0.2}},\"type\":\"histogram\"}],\"histogram2d\":[{\"colorbar\":{\"outlinewidth\":0,\"ticks\":\"\"},\"colorscale\":[[0.0,\"#0d0887\"],[0.1111111111111111,\"#46039f\"],[0.2222222222222222,\"#7201a8\"],[0.3333333333333333,\"#9c179e\"],[0.4444444444444444,\"#bd3786\"],[0.5555555555555556,\"#d8576b\"],[0.6666666666666666,\"#ed7953\"],[0.7777777777777778,\"#fb9f3a\"],[0.8888888888888888,\"#fdca26\"],[1.0,\"#f0f921\"]],\"type\":\"histogram2d\"}],\"histogram2dcontour\":[{\"colorbar\":{\"outlinewidth\":0,\"ticks\":\"\"},\"colorscale\":[[0.0,\"#0d0887\"],[0.1111111111111111,\"#46039f\"],[0.2222222222222222,\"#7201a8\"],[0.3333333333333333,\"#9c179e\"],[0.4444444444444444,\"#bd3786\"],[0.5555555555555556,\"#d8576b\"],[0.6666666666666666,\"#ed7953\"],[0.7777777777777778,\"#fb9f3a\"],[0.8888888888888888,\"#fdca26\"],[1.0,\"#f0f921\"]],\"type\":\"histogram2dcontour\"}],\"mesh3d\":[{\"colorbar\":{\"outlinewidth\":0,\"ticks\":\"\"},\"type\":\"mesh3d\"}],\"parcoords\":[{\"line\":{\"colorbar\":{\"outlinewidth\":0,\"ticks\":\"\"}},\"type\":\"parcoords\"}],\"pie\":[{\"automargin\":true,\"type\":\"pie\"}],\"scatter\":[{\"marker\":{\"line\":{\"color\":\"#283442\"}},\"type\":\"scatter\"}],\"scatter3d\":[{\"line\":{\"colorbar\":{\"outlinewidth\":0,\"ticks\":\"\"}},\"marker\":{\"colorbar\":{\"outlinewidth\":0,\"ticks\":\"\"}},\"type\":\"scatter3d\"}],\"scattercarpet\":[{\"marker\":{\"colorbar\":{\"outlinewidth\":0,\"ticks\":\"\"}},\"type\":\"scattercarpet\"}],\"scattergeo\":[{\"marker\":{\"colorbar\":{\"outlinewidth\":0,\"ticks\":\"\"}},\"type\":\"scattergeo\"}],\"scattergl\":[{\"marker\":{\"line\":{\"color\":\"#283442\"}},\"type\":\"scattergl\"}],\"scattermapbox\":[{\"marker\":{\"colorbar\":{\"outlinewidth\":0,\"ticks\":\"\"}},\"type\":\"scattermapbox\"}],\"scatterpolar\":[{\"marker\":{\"colorbar\":{\"outlinewidth\":0,\"ticks\":\"\"}},\"type\":\"scatterpolar\"}],\"scatterpolargl\":[{\"marker\":{\"colorbar\":{\"outlinewidth\":0,\"ticks\":\"\"}},\"type\":\"scatterpolargl\"}],\"scatterternary\":[{\"marker\":{\"colorbar\":{\"outlinewidth\":0,\"ticks\":\"\"}},\"type\":\"scatterternary\"}],\"surface\":[{\"colorbar\":{\"outlinewidth\":0,\"ticks\":\"\"},\"colorscale\":[[0.0,\"#0d0887\"],[0.1111111111111111,\"#46039f\"],[0.2222222222222222,\"#7201a8\"],[0.3333333333333333,\"#9c179e\"],[0.4444444444444444,\"#bd3786\"],[0.5555555555555556,\"#d8576b\"],[0.6666666666666666,\"#ed7953\"],[0.7777777777777778,\"#fb9f3a\"],[0.8888888888888888,\"#fdca26\"],[1.0,\"#f0f921\"]],\"type\":\"surface\"}],\"table\":[{\"cells\":{\"fill\":{\"color\":\"#506784\"},\"line\":{\"color\":\"rgb(17,17,17)\"}},\"header\":{\"fill\":{\"color\":\"#2a3f5f\"},\"line\":{\"color\":\"rgb(17,17,17)\"}},\"type\":\"table\"}]},\"layout\":{\"annotationdefaults\":{\"arrowcolor\":\"#f2f5fa\",\"arrowhead\":0,\"arrowwidth\":1},\"autotypenumbers\":\"strict\",\"coloraxis\":{\"colorbar\":{\"outlinewidth\":0,\"ticks\":\"\"}},\"colorscale\":{\"diverging\":[[0,\"#8e0152\"],[0.1,\"#c51b7d\"],[0.2,\"#de77ae\"],[0.3,\"#f1b6da\"],[0.4,\"#fde0ef\"],[0.5,\"#f7f7f7\"],[0.6,\"#e6f5d0\"],[0.7,\"#b8e186\"],[0.8,\"#7fbc41\"],[0.9,\"#4d9221\"],[1,\"#276419\"]],\"sequential\":[[0.0,\"#0d0887\"],[0.1111111111111111,\"#46039f\"],[0.2222222222222222,\"#7201a8\"],[0.3333333333333333,\"#9c179e\"],[0.4444444444444444,\"#bd3786\"],[0.5555555555555556,\"#d8576b\"],[0.6666666666666666,\"#ed7953\"],[0.7777777777777778,\"#fb9f3a\"],[0.8888888888888888,\"#fdca26\"],[1.0,\"#f0f921\"]],\"sequentialminus\":[[0.0,\"#0d0887\"],[0.1111111111111111,\"#46039f\"],[0.2222222222222222,\"#7201a8\"],[0.3333333333333333,\"#9c179e\"],[0.4444444444444444,\"#bd3786\"],[0.5555555555555556,\"#d8576b\"],[0.6666666666666666,\"#ed7953\"],[0.7777777777777778,\"#fb9f3a\"],[0.8888888888888888,\"#fdca26\"],[1.0,\"#f0f921\"]]},\"colorway\":[\"#636efa\",\"#EF553B\",\"#00cc96\",\"#ab63fa\",\"#FFA15A\",\"#19d3f3\",\"#FF6692\",\"#B6E880\",\"#FF97FF\",\"#FECB52\"],\"font\":{\"color\":\"#f2f5fa\"},\"geo\":{\"bgcolor\":\"rgb(17,17,17)\",\"lakecolor\":\"rgb(17,17,17)\",\"landcolor\":\"rgb(17,17,17)\",\"showlakes\":true,\"showland\":true,\"subunitcolor\":\"#506784\"},\"hoverlabel\":{\"align\":\"left\"},\"hovermode\":\"closest\",\"mapbox\":{\"style\":\"dark\"},\"paper_bgcolor\":\"rgb(17,17,17)\",\"plot_bgcolor\":\"rgb(17,17,17)\",\"polar\":{\"angularaxis\":{\"gridcolor\":\"#506784\",\"linecolor\":\"#506784\",\"ticks\":\"\"},\"bgcolor\":\"rgb(17,17,17)\",\"radialaxis\":{\"gridcolor\":\"#506784\",\"linecolor\":\"#506784\",\"ticks\":\"\"}},\"scene\":{\"xaxis\":{\"backgroundcolor\":\"rgb(17,17,17)\",\"gridcolor\":\"#506784\",\"gridwidth\":2,\"linecolor\":\"#506784\",\"showbackground\":true,\"ticks\":\"\",\"zerolinecolor\":\"#C8D4E3\"},\"yaxis\":{\"backgroundcolor\":\"rgb(17,17,17)\",\"gridcolor\":\"#506784\",\"gridwidth\":2,\"linecolor\":\"#506784\",\"showbackground\":true,\"ticks\":\"\",\"zerolinecolor\":\"#C8D4E3\"},\"zaxis\":{\"backgroundcolor\":\"rgb(17,17,17)\",\"gridcolor\":\"#506784\",\"gridwidth\":2,\"linecolor\":\"#506784\",\"showbackground\":true,\"ticks\":\"\",\"zerolinecolor\":\"#C8D4E3\"}},\"shapedefaults\":{\"line\":{\"color\":\"#f2f5fa\"}},\"sliderdefaults\":{\"bgcolor\":\"#C8D4E3\",\"bordercolor\":\"rgb(17,17,17)\",\"borderwidth\":1,\"tickwidth\":0},\"ternary\":{\"aaxis\":{\"gridcolor\":\"#506784\",\"linecolor\":\"#506784\",\"ticks\":\"\"},\"baxis\":{\"gridcolor\":\"#506784\",\"linecolor\":\"#506784\",\"ticks\":\"\"},\"bgcolor\":\"rgb(17,17,17)\",\"caxis\":{\"gridcolor\":\"#506784\",\"linecolor\":\"#506784\",\"ticks\":\"\"}},\"title\":{\"x\":0.05},\"updatemenudefaults\":{\"bgcolor\":\"#506784\",\"borderwidth\":0},\"xaxis\":{\"automargin\":true,\"gridcolor\":\"#283442\",\"linecolor\":\"#506784\",\"ticks\":\"\",\"title\":{\"standoff\":15},\"zerolinecolor\":\"#283442\",\"zerolinewidth\":2},\"yaxis\":{\"automargin\":true,\"gridcolor\":\"#283442\",\"linecolor\":\"#506784\",\"ticks\":\"\",\"title\":{\"standoff\":15},\"zerolinecolor\":\"#283442\",\"zerolinewidth\":2}}},\"xaxis\":{\"anchor\":\"y\",\"domain\":[0.0,1.0],\"title\":{\"text\":\"GDP per capita\"}},\"yaxis\":{\"anchor\":\"x\",\"domain\":[0.0,1.0],\"title\":{\"text\":\"Percentage of Firms with Females at top managerial positions(% of firms)\"}},\"legend\":{\"title\":{\"text\":\"Country Name\"},\"tracegroupgap\":0,\"itemsizing\":\"constant\"},\"title\":{\"text\":\"Relation between Firms with Females at top managerial positions and GDP per capita\"},\"height\":700},                        {\"responsive\": true}                    ).then(function(){\n",
              "                            \n",
              "var gd = document.getElementById('a30770cd-b11c-4e7d-8b8d-2f23f9af7c14');\n",
              "var x = new MutationObserver(function (mutations, observer) {{\n",
              "        var display = window.getComputedStyle(gd).display;\n",
              "        if (!display || display === 'none') {{\n",
              "            console.log([gd, 'removed!']);\n",
              "            Plotly.purge(gd);\n",
              "            observer.disconnect();\n",
              "        }}\n",
              "}});\n",
              "\n",
              "// Listen for the removal of the full notebook cells\n",
              "var notebookContainer = gd.closest('#notebook-container');\n",
              "if (notebookContainer) {{\n",
              "    x.observe(notebookContainer, {childList: true});\n",
              "}}\n",
              "\n",
              "// Listen for the clearing of the current output cell\n",
              "var outputEl = gd.closest('.output');\n",
              "if (outputEl) {{\n",
              "    x.observe(outputEl, {childList: true});\n",
              "}}\n",
              "\n",
              "                        })                };                            </script>        </div>\n",
              "</body>\n",
              "</html>"
            ]
          },
          "metadata": {}
        }
      ]
    },
    {
      "cell_type": "markdown",
      "source": [
        "Following are the observations from the graph:\n",
        "-\tAlthough the GDP of most of the countries is very less there are higher number of firms with women at top level positions.\n",
        "-\tThis graph gives us an important insight that most of the countries in the southern hemisphere gives equal opportunities to women.\n",
        "-\tA larger percentile of the data lies between 10%-40%.\n",
        "\n"
      ],
      "metadata": {
        "id": "AunNQa38ubLh"
      }
    },
    {
      "cell_type": "markdown",
      "source": [
        "## **Firms with female participation in Ownership (Europe, North America, and Central Asia)**\n",
        "\n",
        "The below graph talks about the female participation in ownerships in the northern hemisphere."
      ],
      "metadata": {
        "id": "l9Y6nsXaumei"
      }
    },
    {
      "cell_type": "code",
      "source": [
        "df_5=pd.read_csv('https://raw.githubusercontent.com/Mrshreesharma/DS601_Fall21/main/Data690/fig5.csv')\n",
        "df_5.head(2)"
      ],
      "metadata": {
        "colab": {
          "base_uri": "https://localhost:8080/",
          "height": 112
        },
        "id": "Zt8puHnfwlq4",
        "outputId": "173bcb31-2f94-4a2a-c70a-cb44595b2d77"
      },
      "execution_count": 51,
      "outputs": [
        {
          "output_type": "execute_result",
          "data": {
            "text/html": [
              "<div>\n",
              "<style scoped>\n",
              "    .dataframe tbody tr th:only-of-type {\n",
              "        vertical-align: middle;\n",
              "    }\n",
              "\n",
              "    .dataframe tbody tr th {\n",
              "        vertical-align: top;\n",
              "    }\n",
              "\n",
              "    .dataframe thead th {\n",
              "        text-align: right;\n",
              "    }\n",
              "</style>\n",
              "<table border=\"1\" class=\"dataframe\">\n",
              "  <thead>\n",
              "    <tr style=\"text-align: right;\">\n",
              "      <th></th>\n",
              "      <th>Unnamed: 0</th>\n",
              "      <th>Year</th>\n",
              "      <th>value</th>\n",
              "      <th>indicator</th>\n",
              "      <th>Country Code</th>\n",
              "      <th>Country Name</th>\n",
              "      <th>Region</th>\n",
              "      <th>Income Group</th>\n",
              "      <th>Lending Type</th>\n",
              "    </tr>\n",
              "  </thead>\n",
              "  <tbody>\n",
              "    <tr>\n",
              "      <th>0</th>\n",
              "      <td>0</td>\n",
              "      <td>2010</td>\n",
              "      <td>9636.108705</td>\n",
              "      <td>NY.GDP.PCAP.PP.CD</td>\n",
              "      <td>ALB</td>\n",
              "      <td>Albania</td>\n",
              "      <td>Europe &amp; Central Asia</td>\n",
              "      <td>Upper middle income</td>\n",
              "      <td>IBRD</td>\n",
              "    </tr>\n",
              "    <tr>\n",
              "      <th>1</th>\n",
              "      <td>1</td>\n",
              "      <td>2011</td>\n",
              "      <td>10207.733502</td>\n",
              "      <td>NY.GDP.PCAP.PP.CD</td>\n",
              "      <td>ALB</td>\n",
              "      <td>Albania</td>\n",
              "      <td>Europe &amp; Central Asia</td>\n",
              "      <td>Upper middle income</td>\n",
              "      <td>IBRD</td>\n",
              "    </tr>\n",
              "  </tbody>\n",
              "</table>\n",
              "</div>"
            ],
            "text/plain": [
              "   Unnamed: 0  Year  ...         Income Group Lending Type\n",
              "0           0  2010  ...  Upper middle income         IBRD\n",
              "1           1  2011  ...  Upper middle income         IBRD\n",
              "\n",
              "[2 rows x 9 columns]"
            ]
          },
          "metadata": {},
          "execution_count": 51
        }
      ]
    },
    {
      "cell_type": "code",
      "source": [
        "#Dropping 'Unnamed: 0 column because it has no relevant data\n",
        "\n",
        "df_5 = df_5.drop(columns=['Unnamed: 0'])\n",
        "df_5.head(3)"
      ],
      "metadata": {
        "colab": {
          "base_uri": "https://localhost:8080/",
          "height": 143
        },
        "id": "0vsGHmchwlVJ",
        "outputId": "87723164-a717-418f-e669-a7b195949f70"
      },
      "execution_count": 52,
      "outputs": [
        {
          "output_type": "execute_result",
          "data": {
            "text/html": [
              "<div>\n",
              "<style scoped>\n",
              "    .dataframe tbody tr th:only-of-type {\n",
              "        vertical-align: middle;\n",
              "    }\n",
              "\n",
              "    .dataframe tbody tr th {\n",
              "        vertical-align: top;\n",
              "    }\n",
              "\n",
              "    .dataframe thead th {\n",
              "        text-align: right;\n",
              "    }\n",
              "</style>\n",
              "<table border=\"1\" class=\"dataframe\">\n",
              "  <thead>\n",
              "    <tr style=\"text-align: right;\">\n",
              "      <th></th>\n",
              "      <th>Year</th>\n",
              "      <th>value</th>\n",
              "      <th>indicator</th>\n",
              "      <th>Country Code</th>\n",
              "      <th>Country Name</th>\n",
              "      <th>Region</th>\n",
              "      <th>Income Group</th>\n",
              "      <th>Lending Type</th>\n",
              "    </tr>\n",
              "  </thead>\n",
              "  <tbody>\n",
              "    <tr>\n",
              "      <th>0</th>\n",
              "      <td>2010</td>\n",
              "      <td>9636.108705</td>\n",
              "      <td>NY.GDP.PCAP.PP.CD</td>\n",
              "      <td>ALB</td>\n",
              "      <td>Albania</td>\n",
              "      <td>Europe &amp; Central Asia</td>\n",
              "      <td>Upper middle income</td>\n",
              "      <td>IBRD</td>\n",
              "    </tr>\n",
              "    <tr>\n",
              "      <th>1</th>\n",
              "      <td>2011</td>\n",
              "      <td>10207.733502</td>\n",
              "      <td>NY.GDP.PCAP.PP.CD</td>\n",
              "      <td>ALB</td>\n",
              "      <td>Albania</td>\n",
              "      <td>Europe &amp; Central Asia</td>\n",
              "      <td>Upper middle income</td>\n",
              "      <td>IBRD</td>\n",
              "    </tr>\n",
              "    <tr>\n",
              "      <th>2</th>\n",
              "      <td>2012</td>\n",
              "      <td>10526.318974</td>\n",
              "      <td>NY.GDP.PCAP.PP.CD</td>\n",
              "      <td>ALB</td>\n",
              "      <td>Albania</td>\n",
              "      <td>Europe &amp; Central Asia</td>\n",
              "      <td>Upper middle income</td>\n",
              "      <td>IBRD</td>\n",
              "    </tr>\n",
              "  </tbody>\n",
              "</table>\n",
              "</div>"
            ],
            "text/plain": [
              "   Year         value  ...         Income Group Lending Type\n",
              "0  2010   9636.108705  ...  Upper middle income         IBRD\n",
              "1  2011  10207.733502  ...  Upper middle income         IBRD\n",
              "2  2012  10526.318974  ...  Upper middle income         IBRD\n",
              "\n",
              "[3 rows x 8 columns]"
            ]
          },
          "metadata": {},
          "execution_count": 52
        }
      ]
    },
    {
      "cell_type": "code",
      "source": [
        "df_pivot_5 =df_5.pivot(index =['Year','Country Code','Country Name','Region','Income Group'],columns = 'indicator', values ='value').reset_index()\n",
        "df_pivot_5.reset_index().head(1)"
      ],
      "metadata": {
        "colab": {
          "base_uri": "https://localhost:8080/",
          "height": 81
        },
        "id": "v4tMj8ijxCne",
        "outputId": "ac96fabb-1e50-4a37-b130-135afa517a42"
      },
      "execution_count": 53,
      "outputs": [
        {
          "output_type": "execute_result",
          "data": {
            "text/html": [
              "<div>\n",
              "<style scoped>\n",
              "    .dataframe tbody tr th:only-of-type {\n",
              "        vertical-align: middle;\n",
              "    }\n",
              "\n",
              "    .dataframe tbody tr th {\n",
              "        vertical-align: top;\n",
              "    }\n",
              "\n",
              "    .dataframe thead th {\n",
              "        text-align: right;\n",
              "    }\n",
              "</style>\n",
              "<table border=\"1\" class=\"dataframe\">\n",
              "  <thead>\n",
              "    <tr style=\"text-align: right;\">\n",
              "      <th>indicator</th>\n",
              "      <th>index</th>\n",
              "      <th>Year</th>\n",
              "      <th>Country Code</th>\n",
              "      <th>Country Name</th>\n",
              "      <th>Region</th>\n",
              "      <th>Income Group</th>\n",
              "      <th>IC.FRM.FEMO.ZS</th>\n",
              "      <th>NY.GDP.PCAP.PP.CD</th>\n",
              "    </tr>\n",
              "  </thead>\n",
              "  <tbody>\n",
              "    <tr>\n",
              "      <th>0</th>\n",
              "      <td>0</td>\n",
              "      <td>2010</td>\n",
              "      <td>ALB</td>\n",
              "      <td>Albania</td>\n",
              "      <td>Europe &amp; Central Asia</td>\n",
              "      <td>Upper middle income</td>\n",
              "      <td>NaN</td>\n",
              "      <td>9636.108705</td>\n",
              "    </tr>\n",
              "  </tbody>\n",
              "</table>\n",
              "</div>"
            ],
            "text/plain": [
              "indicator  index  Year  ... IC.FRM.FEMO.ZS NY.GDP.PCAP.PP.CD\n",
              "0              0  2010  ...            NaN       9636.108705\n",
              "\n",
              "[1 rows x 8 columns]"
            ]
          },
          "metadata": {},
          "execution_count": 53
        }
      ]
    },
    {
      "cell_type": "code",
      "source": [
        "df_5 = df_pivot_5.dropna()\n",
        "df_5.head(2)"
      ],
      "metadata": {
        "colab": {
          "base_uri": "https://localhost:8080/",
          "height": 112
        },
        "id": "DnvahwLKxCfE",
        "outputId": "d13a15b1-4fd4-4458-8b2e-01dcec15eb38"
      },
      "execution_count": 39,
      "outputs": [
        {
          "output_type": "execute_result",
          "data": {
            "text/html": [
              "<div>\n",
              "<style scoped>\n",
              "    .dataframe tbody tr th:only-of-type {\n",
              "        vertical-align: middle;\n",
              "    }\n",
              "\n",
              "    .dataframe tbody tr th {\n",
              "        vertical-align: top;\n",
              "    }\n",
              "\n",
              "    .dataframe thead th {\n",
              "        text-align: right;\n",
              "    }\n",
              "</style>\n",
              "<table border=\"1\" class=\"dataframe\">\n",
              "  <thead>\n",
              "    <tr style=\"text-align: right;\">\n",
              "      <th>indicator</th>\n",
              "      <th>Year</th>\n",
              "      <th>Country Code</th>\n",
              "      <th>Country Name</th>\n",
              "      <th>Region</th>\n",
              "      <th>Income Group</th>\n",
              "      <th>IC.FRM.FEMO.ZS</th>\n",
              "      <th>NY.GDP.PCAP.PP.CD</th>\n",
              "    </tr>\n",
              "  </thead>\n",
              "  <tbody>\n",
              "    <tr>\n",
              "      <th>146</th>\n",
              "      <td>2012</td>\n",
              "      <td>RUS</td>\n",
              "      <td>Russian Federation</td>\n",
              "      <td>Europe &amp; Central Asia</td>\n",
              "      <td>Upper middle income</td>\n",
              "      <td>28.5</td>\n",
              "      <td>24303.473415</td>\n",
              "    </tr>\n",
              "    <tr>\n",
              "      <th>159</th>\n",
              "      <td>2013</td>\n",
              "      <td>ALB</td>\n",
              "      <td>Albania</td>\n",
              "      <td>Europe &amp; Central Asia</td>\n",
              "      <td>Upper middle income</td>\n",
              "      <td>13.1</td>\n",
              "      <td>10570.968104</td>\n",
              "    </tr>\n",
              "  </tbody>\n",
              "</table>\n",
              "</div>"
            ],
            "text/plain": [
              "indicator  Year Country Code  ... IC.FRM.FEMO.ZS NY.GDP.PCAP.PP.CD\n",
              "146        2012          RUS  ...           28.5      24303.473415\n",
              "159        2013          ALB  ...           13.1      10570.968104\n",
              "\n",
              "[2 rows x 7 columns]"
            ]
          },
          "metadata": {},
          "execution_count": 39
        }
      ]
    },
    {
      "cell_type": "code",
      "source": [
        "fig = px.scatter(df_5, \n",
        "               y=\"IC.FRM.FEMO.ZS\", \n",
        "               x=\"NY.GDP.PCAP.PP.CD\",\n",
        "              title=\"Relation between Firms with female participation in Ownership (% of firms)  and GDP per capita\",\n",
        "                labels={\"IC.FRM.FEMO.ZS\":\"Percentage of Firms with female participation in Ownership (% of firms)\",\"NY.GDP.PCAP.PP.CD\":\"GDP per capita\"},\n",
        "               color=\"Country Name\",\n",
        "                hover_name='Year',\n",
        "                height=700,\n",
        "                text = 'Year',\n",
        "                size=\"NY.GDP.PCAP.PP.CD\",\n",
        "                size_max=8,\n",
        "                )\n",
        "fig.update_traces(marker_size=40,textposition = 'middle center')\n",
        "fig.show()"
      ],
      "metadata": {
        "colab": {
          "base_uri": "https://localhost:8080/",
          "height": 717
        },
        "id": "4UzWwbhBxCZ0",
        "outputId": "008d700f-00ae-4699-ff76-d7088882395a"
      },
      "execution_count": 40,
      "outputs": [
        {
          "output_type": "display_data",
          "data": {
            "text/html": [
              "<html>\n",
              "<head><meta charset=\"utf-8\" /></head>\n",
              "<body>\n",
              "    <div>            <script src=\"https://cdnjs.cloudflare.com/ajax/libs/mathjax/2.7.5/MathJax.js?config=TeX-AMS-MML_SVG\"></script><script type=\"text/javascript\">if (window.MathJax) {MathJax.Hub.Config({SVG: {font: \"STIX-Web\"}});}</script>                <script type=\"text/javascript\">window.PlotlyConfig = {MathJaxConfig: 'local'};</script>\n",
              "        <script src=\"https://cdn.plot.ly/plotly-2.6.3.min.js\"></script>                <div id=\"8eab58bb-572f-4a0f-ad13-93995e800eef\" class=\"plotly-graph-div\" style=\"height:700px; width:100%;\"></div>            <script type=\"text/javascript\">                                    window.PLOTLYENV=window.PLOTLYENV || {};                                    if (document.getElementById(\"8eab58bb-572f-4a0f-ad13-93995e800eef\")) {                    Plotly.newPlot(                        \"8eab58bb-572f-4a0f-ad13-93995e800eef\",                        [{\"hovertemplate\":\"<b>%{hovertext}</b><br><br>Country Name=Russian Federation<br>GDP per capita=%{marker.size}<br>Percentage of Firms with female participation in Ownership (% of firms)=%{y}<br>Year=%{text}<extra></extra>\",\"hovertext\":[2012.0,2019.0],\"legendgroup\":\"Russian Federation\",\"marker\":{\"color\":\"#636efa\",\"size\":40,\"sizemode\":\"area\",\"sizeref\":737.2604552159095,\"symbol\":\"circle\"},\"mode\":\"markers+text\",\"name\":\"Russian Federation\",\"orientation\":\"v\",\"showlegend\":true,\"text\":[2012.0,2019.0],\"x\":[24303.4734145818,29188.854156647],\"xaxis\":\"x\",\"y\":[28.5,34.0],\"yaxis\":\"y\",\"type\":\"scatter\",\"textposition\":\"middle center\"},{\"hovertemplate\":\"<b>%{hovertext}</b><br><br>Country Name=Albania<br>GDP per capita=%{marker.size}<br>Percentage of Firms with female participation in Ownership (% of firms)=%{y}<br>Year=%{text}<extra></extra>\",\"hovertext\":[2013.0,2019.0],\"legendgroup\":\"Albania\",\"marker\":{\"color\":\"#EF553B\",\"size\":40,\"sizemode\":\"area\",\"sizeref\":737.2604552159095,\"symbol\":\"circle\"},\"mode\":\"markers+text\",\"name\":\"Albania\",\"orientation\":\"v\",\"showlegend\":true,\"text\":[2013.0,2019.0],\"x\":[10570.9681040326,14230.989507210601],\"xaxis\":\"x\",\"y\":[13.1,20.7],\"yaxis\":\"y\",\"type\":\"scatter\",\"textposition\":\"middle center\"},{\"hovertemplate\":\"<b>%{hovertext}</b><br><br>Country Name=Armenia<br>GDP per capita=%{marker.size}<br>Percentage of Firms with female participation in Ownership (% of firms)=%{y}<br>Year=%{text}<extra></extra>\",\"hovertext\":[2013.0],\"legendgroup\":\"Armenia\",\"marker\":{\"color\":\"#00cc96\",\"size\":40,\"sizemode\":\"area\",\"sizeref\":737.2604552159095,\"symbol\":\"circle\"},\"mode\":\"markers+text\",\"name\":\"Armenia\",\"orientation\":\"v\",\"showlegend\":true,\"text\":[2013.0],\"x\":[9835.8024609198],\"xaxis\":\"x\",\"y\":[24.4],\"yaxis\":\"y\",\"type\":\"scatter\",\"textposition\":\"middle center\"},{\"hovertemplate\":\"<b>%{hovertext}</b><br><br>Country Name=Azerbaijan<br>GDP per capita=%{marker.size}<br>Percentage of Firms with female participation in Ownership (% of firms)=%{y}<br>Year=%{text}<extra></extra>\",\"hovertext\":[2013.0,2019.0],\"legendgroup\":\"Azerbaijan\",\"marker\":{\"color\":\"#ab63fa\",\"size\":40,\"sizemode\":\"area\",\"sizeref\":737.2604552159095,\"symbol\":\"circle\"},\"mode\":\"markers+text\",\"name\":\"Azerbaijan\",\"orientation\":\"v\",\"showlegend\":true,\"text\":[2013.0,2019.0],\"x\":[17188.945505661202,15049.938564813701],\"xaxis\":\"x\",\"y\":[4.0,15.3],\"yaxis\":\"y\",\"type\":\"scatter\",\"textposition\":\"middle center\"},{\"hovertemplate\":\"<b>%{hovertext}</b><br><br>Country Name=Bulgaria<br>GDP per capita=%{marker.size}<br>Percentage of Firms with female participation in Ownership (% of firms)=%{y}<br>Year=%{text}<extra></extra>\",\"hovertext\":[2013.0,2019.0],\"legendgroup\":\"Bulgaria\",\"marker\":{\"color\":\"#FFA15A\",\"size\":40,\"sizemode\":\"area\",\"sizeref\":737.2604552159095,\"symbol\":\"circle\"},\"mode\":\"markers+text\",\"name\":\"Bulgaria\",\"orientation\":\"v\",\"showlegend\":true,\"text\":[2013.0,2019.0],\"x\":[16588.9333463683,24579.216545017098],\"xaxis\":\"x\",\"y\":[41.5,41.7],\"yaxis\":\"y\",\"type\":\"scatter\",\"textposition\":\"middle center\"},{\"hovertemplate\":\"<b>%{hovertext}</b><br><br>Country Name=Bosnia and Herzegovina<br>GDP per capita=%{marker.size}<br>Percentage of Firms with female participation in Ownership (% of firms)=%{y}<br>Year=%{text}<extra></extra>\",\"hovertext\":[2013.0,2019.0],\"legendgroup\":\"Bosnia and Herzegovina\",\"marker\":{\"color\":\"#19d3f3\",\"size\":40,\"sizemode\":\"area\",\"sizeref\":737.2604552159095,\"symbol\":\"circle\"},\"mode\":\"markers+text\",\"name\":\"Bosnia and Herzegovina\",\"orientation\":\"v\",\"showlegend\":true,\"text\":[2013.0,2019.0],\"x\":[11016.5604302948,15847.1340401587],\"xaxis\":\"x\",\"y\":[22.8,24.9],\"yaxis\":\"y\",\"type\":\"scatter\",\"textposition\":\"middle center\"},{\"hovertemplate\":\"<b>%{hovertext}</b><br><br>Country Name=Belarus<br>GDP per capita=%{marker.size}<br>Percentage of Firms with female participation in Ownership (% of firms)=%{y}<br>Year=%{text}<extra></extra>\",\"hovertext\":[2013.0,2018.0],\"legendgroup\":\"Belarus\",\"marker\":{\"color\":\"#FF6692\",\"size\":40,\"sizemode\":\"area\",\"sizeref\":737.2604552159095,\"symbol\":\"circle\"},\"mode\":\"markers+text\",\"name\":\"Belarus\",\"orientation\":\"v\",\"showlegend\":true,\"text\":[2013.0,2018.0],\"x\":[18948.468473696397,19338.6664376772],\"xaxis\":\"x\",\"y\":[46.2,45.5],\"yaxis\":\"y\",\"type\":\"scatter\",\"textposition\":\"middle center\"},{\"hovertemplate\":\"<b>%{hovertext}</b><br><br>Country Name=Czech Republic<br>GDP per capita=%{marker.size}<br>Percentage of Firms with female participation in Ownership (% of firms)=%{y}<br>Year=%{text}<extra></extra>\",\"hovertext\":[2013.0,2019.0],\"legendgroup\":\"Czech Republic\",\"marker\":{\"color\":\"#B6E880\",\"size\":40,\"sizemode\":\"area\",\"sizeref\":737.2604552159095,\"symbol\":\"circle\"},\"mode\":\"markers+text\",\"name\":\"Czech Republic\",\"orientation\":\"v\",\"showlegend\":true,\"text\":[2013.0,2019.0],\"x\":[30818.1081558477,43316.3274410414],\"xaxis\":\"x\",\"y\":[30.4,29.9],\"yaxis\":\"y\",\"type\":\"scatter\",\"textposition\":\"middle center\"},{\"hovertemplate\":\"<b>%{hovertext}</b><br><br>Country Name=Estonia<br>GDP per capita=%{marker.size}<br>Percentage of Firms with female participation in Ownership (% of firms)=%{y}<br>Year=%{text}<extra></extra>\",\"hovertext\":[2013.0,2019.0],\"legendgroup\":\"Estonia\",\"marker\":{\"color\":\"#FF97FF\",\"size\":40,\"sizemode\":\"area\",\"sizeref\":737.2604552159095,\"symbol\":\"circle\"},\"mode\":\"markers+text\",\"name\":\"Estonia\",\"orientation\":\"v\",\"showlegend\":true,\"text\":[2013.0,2019.0],\"x\":[27464.5186781161,38294.4773615386],\"xaxis\":\"x\",\"y\":[38.3,35.5],\"yaxis\":\"y\",\"type\":\"scatter\",\"textposition\":\"middle center\"},{\"hovertemplate\":\"<b>%{hovertext}</b><br><br>Country Name=Georgia<br>GDP per capita=%{marker.size}<br>Percentage of Firms with female participation in Ownership (% of firms)=%{y}<br>Year=%{text}<extra></extra>\",\"hovertext\":[2013.0,2019.0],\"legendgroup\":\"Georgia\",\"marker\":{\"color\":\"#FECB52\",\"size\":40,\"sizemode\":\"area\",\"sizeref\":737.2604552159095,\"symbol\":\"circle\"},\"mode\":\"markers+text\",\"name\":\"Georgia\",\"orientation\":\"v\",\"showlegend\":true,\"text\":[2013.0,2019.0],\"x\":[10611.7741169939,15623.1529588881],\"xaxis\":\"x\",\"y\":[36.1,22.4],\"yaxis\":\"y\",\"type\":\"scatter\",\"textposition\":\"middle center\"},{\"hovertemplate\":\"<b>%{hovertext}</b><br><br>Country Name=Croatia<br>GDP per capita=%{marker.size}<br>Percentage of Firms with female participation in Ownership (% of firms)=%{y}<br>Year=%{text}<extra></extra>\",\"hovertext\":[2013.0,2019.0],\"legendgroup\":\"Croatia\",\"marker\":{\"color\":\"#636efa\",\"size\":40,\"sizemode\":\"area\",\"sizeref\":737.2604552159095,\"symbol\":\"circle\"},\"mode\":\"markers+text\",\"name\":\"Croatia\",\"orientation\":\"v\",\"showlegend\":true,\"text\":[2013.0,2019.0],\"x\":[21820.5205185603,30245.976215722203],\"xaxis\":\"x\",\"y\":[36.3,31.7],\"yaxis\":\"y\",\"type\":\"scatter\",\"textposition\":\"middle center\"},{\"hovertemplate\":\"<b>%{hovertext}</b><br><br>Country Name=Hungary<br>GDP per capita=%{marker.size}<br>Percentage of Firms with female participation in Ownership (% of firms)=%{y}<br>Year=%{text}<extra></extra>\",\"hovertext\":[2013.0,2019.0],\"legendgroup\":\"Hungary\",\"marker\":{\"color\":\"#EF553B\",\"size\":40,\"sizemode\":\"area\",\"sizeref\":737.2604552159095,\"symbol\":\"circle\"},\"mode\":\"markers+text\",\"name\":\"Hungary\",\"orientation\":\"v\",\"showlegend\":true,\"text\":[2013.0,2019.0],\"x\":[24498.6587673236,33956.8219158243],\"xaxis\":\"x\",\"y\":[48.7,51.9],\"yaxis\":\"y\",\"type\":\"scatter\",\"textposition\":\"middle center\"},{\"hovertemplate\":\"<b>%{hovertext}</b><br><br>Country Name=Kazakhstan<br>GDP per capita=%{marker.size}<br>Percentage of Firms with female participation in Ownership (% of firms)=%{y}<br>Year=%{text}<extra></extra>\",\"hovertext\":[2013.0,2019.0],\"legendgroup\":\"Kazakhstan\",\"marker\":{\"color\":\"#00cc96\",\"size\":40,\"sizemode\":\"area\",\"sizeref\":737.2604552159095,\"symbol\":\"circle\"},\"mode\":\"markers+text\",\"name\":\"Kazakhstan\",\"orientation\":\"v\",\"showlegend\":true,\"text\":[2013.0,2019.0],\"x\":[24504.7660856694,27466.220618657597],\"xaxis\":\"x\",\"y\":[29.6,30.5],\"yaxis\":\"y\",\"type\":\"scatter\",\"textposition\":\"middle center\"},{\"hovertemplate\":\"<b>%{hovertext}</b><br><br>Country Name=Kyrgyz Republic<br>GDP per capita=%{marker.size}<br>Percentage of Firms with female participation in Ownership (% of firms)=%{y}<br>Year=%{text}<extra></extra>\",\"hovertext\":[2013.0,2019.0],\"legendgroup\":\"Kyrgyz Republic\",\"marker\":{\"color\":\"#ab63fa\",\"size\":40,\"sizemode\":\"area\",\"sizeref\":737.2604552159095,\"symbol\":\"circle\"},\"mode\":\"markers+text\",\"name\":\"Kyrgyz Republic\",\"orientation\":\"v\",\"showlegend\":true,\"text\":[2013.0,2019.0],\"x\":[4042.8930530041,5480.7426977145005],\"xaxis\":\"x\",\"y\":[51.2,45.0],\"yaxis\":\"y\",\"type\":\"scatter\",\"textposition\":\"middle center\"},{\"hovertemplate\":\"<b>%{hovertext}</b><br><br>Country Name=Lithuania<br>GDP per capita=%{marker.size}<br>Percentage of Firms with female participation in Ownership (% of firms)=%{y}<br>Year=%{text}<extra></extra>\",\"hovertext\":[2013.0,2019.0],\"legendgroup\":\"Lithuania\",\"marker\":{\"color\":\"#FFA15A\",\"size\":40,\"sizemode\":\"area\",\"sizeref\":737.2604552159095,\"symbol\":\"circle\"},\"mode\":\"markers+text\",\"name\":\"Lithuania\",\"orientation\":\"v\",\"showlegend\":true,\"text\":[2013.0,2019.0],\"x\":[26721.5796712844,38764.9977287477],\"xaxis\":\"x\",\"y\":[35.7,43.1],\"yaxis\":\"y\",\"type\":\"scatter\",\"textposition\":\"middle center\"},{\"hovertemplate\":\"<b>%{hovertext}</b><br><br>Country Name=Latvia<br>GDP per capita=%{marker.size}<br>Percentage of Firms with female participation in Ownership (% of firms)=%{y}<br>Year=%{text}<extra></extra>\",\"hovertext\":[2013.0,2019.0],\"legendgroup\":\"Latvia\",\"marker\":{\"color\":\"#19d3f3\",\"size\":40,\"sizemode\":\"area\",\"sizeref\":737.2604552159095,\"symbol\":\"circle\"},\"mode\":\"markers+text\",\"name\":\"Latvia\",\"orientation\":\"v\",\"showlegend\":true,\"text\":[2013.0,2019.0],\"x\":[22812.9150890235,32002.7567713817],\"xaxis\":\"x\",\"y\":[41.6,46.6],\"yaxis\":\"y\",\"type\":\"scatter\",\"textposition\":\"middle center\"},{\"hovertemplate\":\"<b>%{hovertext}</b><br><br>Country Name=Moldova<br>GDP per capita=%{marker.size}<br>Percentage of Firms with female participation in Ownership (% of firms)=%{y}<br>Year=%{text}<extra></extra>\",\"hovertext\":[2013.0,2019.0],\"legendgroup\":\"Moldova\",\"marker\":{\"color\":\"#FF6692\",\"size\":40,\"sizemode\":\"area\",\"sizeref\":737.2604552159095,\"symbol\":\"circle\"},\"mode\":\"markers+text\",\"name\":\"Moldova\",\"orientation\":\"v\",\"showlegend\":true,\"text\":[2013.0,2019.0],\"x\":[8381.6718331392,13572.7043738974],\"xaxis\":\"x\",\"y\":[54.1,39.9],\"yaxis\":\"y\",\"type\":\"scatter\",\"textposition\":\"middle center\"},{\"hovertemplate\":\"<b>%{hovertext}</b><br><br>Country Name=North Macedonia<br>GDP per capita=%{marker.size}<br>Percentage of Firms with female participation in Ownership (% of firms)=%{y}<br>Year=%{text}<extra></extra>\",\"hovertext\":[2013.0,2019.0],\"legendgroup\":\"North Macedonia\",\"marker\":{\"color\":\"#B6E880\",\"size\":40,\"sizemode\":\"area\",\"sizeref\":737.2604552159095,\"symbol\":\"circle\"},\"mode\":\"markers+text\",\"name\":\"North Macedonia\",\"orientation\":\"v\",\"showlegend\":true,\"text\":[2013.0,2019.0],\"x\":[12653.563717838899,17583.3793739446],\"xaxis\":\"x\",\"y\":[27.7,29.3],\"yaxis\":\"y\",\"type\":\"scatter\",\"textposition\":\"middle center\"},{\"hovertemplate\":\"<b>%{hovertext}</b><br><br>Country Name=Montenegro<br>GDP per capita=%{marker.size}<br>Percentage of Firms with female participation in Ownership (% of firms)=%{y}<br>Year=%{text}<extra></extra>\",\"hovertext\":[2013.0,2019.0],\"legendgroup\":\"Montenegro\",\"marker\":{\"color\":\"#FF97FF\",\"size\":40,\"sizemode\":\"area\",\"sizeref\":737.2604552159095,\"symbol\":\"circle\"},\"mode\":\"markers+text\",\"name\":\"Montenegro\",\"orientation\":\"v\",\"showlegend\":true,\"text\":[2013.0,2019.0],\"x\":[14870.1762231057,23343.930051578798],\"xaxis\":\"x\",\"y\":[25.6,24.0],\"yaxis\":\"y\",\"type\":\"scatter\",\"textposition\":\"middle center\"},{\"hovertemplate\":\"<b>%{hovertext}</b><br><br>Country Name=Poland<br>GDP per capita=%{marker.size}<br>Percentage of Firms with female participation in Ownership (% of firms)=%{y}<br>Year=%{text}<extra></extra>\",\"hovertext\":[2013.0,2019.0],\"legendgroup\":\"Poland\",\"marker\":{\"color\":\"#FECB52\",\"size\":40,\"sizemode\":\"area\",\"sizeref\":737.2604552159095,\"symbol\":\"circle\"},\"mode\":\"markers+text\",\"name\":\"Poland\",\"orientation\":\"v\",\"showlegend\":true,\"text\":[2013.0,2019.0],\"x\":[24567.5061660535,34151.7928122918],\"xaxis\":\"x\",\"y\":[40.2,37.0],\"yaxis\":\"y\",\"type\":\"scatter\",\"textposition\":\"middle center\"},{\"hovertemplate\":\"<b>%{hovertext}</b><br><br>Country Name=Romania<br>GDP per capita=%{marker.size}<br>Percentage of Firms with female participation in Ownership (% of firms)=%{y}<br>Year=%{text}<extra></extra>\",\"hovertext\":[2013.0,2019.0],\"legendgroup\":\"Romania\",\"marker\":{\"color\":\"#636efa\",\"size\":40,\"sizemode\":\"area\",\"sizeref\":737.2604552159095,\"symbol\":\"circle\"},\"mode\":\"markers+text\",\"name\":\"Romania\",\"orientation\":\"v\",\"showlegend\":true,\"text\":[2013.0,2019.0],\"x\":[19781.979569986397,32299.9697717021],\"xaxis\":\"x\",\"y\":[47.2,32.4],\"yaxis\":\"y\",\"type\":\"scatter\",\"textposition\":\"middle center\"},{\"hovertemplate\":\"<b>%{hovertext}</b><br><br>Country Name=Serbia<br>GDP per capita=%{marker.size}<br>Percentage of Firms with female participation in Ownership (% of firms)=%{y}<br>Year=%{text}<extra></extra>\",\"hovertext\":[2013.0,2019.0],\"legendgroup\":\"Serbia\",\"marker\":{\"color\":\"#EF553B\",\"size\":40,\"sizemode\":\"area\",\"sizeref\":737.2604552159095,\"symbol\":\"circle\"},\"mode\":\"markers+text\",\"name\":\"Serbia\",\"orientation\":\"v\",\"showlegend\":true,\"text\":[2013.0,2019.0],\"x\":[14629.0318181831,18929.8775996569],\"xaxis\":\"x\",\"y\":[34.9,28.5],\"yaxis\":\"y\",\"type\":\"scatter\",\"textposition\":\"middle center\"},{\"hovertemplate\":\"<b>%{hovertext}</b><br><br>Country Name=Slovak Republic<br>GDP per capita=%{marker.size}<br>Percentage of Firms with female participation in Ownership (% of firms)=%{y}<br>Year=%{text}<extra></extra>\",\"hovertext\":[2013.0,2019.0],\"legendgroup\":\"Slovak Republic\",\"marker\":{\"color\":\"#00cc96\",\"size\":40,\"sizemode\":\"area\",\"sizeref\":737.2604552159095,\"symbol\":\"circle\"},\"mode\":\"markers+text\",\"name\":\"Slovak Republic\",\"orientation\":\"v\",\"showlegend\":true,\"text\":[2013.0,2019.0],\"x\":[28002.4974112566,32557.190775484],\"xaxis\":\"x\",\"y\":[29.7,28.9],\"yaxis\":\"y\",\"type\":\"scatter\",\"textposition\":\"middle center\"},{\"hovertemplate\":\"<b>%{hovertext}</b><br><br>Country Name=Slovenia<br>GDP per capita=%{marker.size}<br>Percentage of Firms with female participation in Ownership (% of firms)=%{y}<br>Year=%{text}<extra></extra>\",\"hovertext\":[2013.0,2019.0],\"legendgroup\":\"Slovenia\",\"marker\":{\"color\":\"#ab63fa\",\"size\":40,\"sizemode\":\"area\",\"sizeref\":737.2604552159095,\"symbol\":\"circle\"},\"mode\":\"markers+text\",\"name\":\"Slovenia\",\"orientation\":\"v\",\"showlegend\":true,\"text\":[2013.0,2019.0],\"x\":[29973.6993541529,41197.3781022006],\"xaxis\":\"x\",\"y\":[38.5,34.1],\"yaxis\":\"y\",\"type\":\"scatter\",\"textposition\":\"middle center\"},{\"hovertemplate\":\"<b>%{hovertext}</b><br><br>Country Name=Tajikistan<br>GDP per capita=%{marker.size}<br>Percentage of Firms with female participation in Ownership (% of firms)=%{y}<br>Year=%{text}<extra></extra>\",\"hovertext\":[2013.0,2019.0],\"legendgroup\":\"Tajikistan\",\"marker\":{\"color\":\"#FFA15A\",\"size\":40,\"sizemode\":\"area\",\"sizeref\":737.2604552159095,\"symbol\":\"circle\"},\"mode\":\"markers+text\",\"name\":\"Tajikistan\",\"orientation\":\"v\",\"showlegend\":true,\"text\":[2013.0,2019.0],\"x\":[3027.8141258245,3732.8690680932],\"xaxis\":\"x\",\"y\":[32.5,22.7],\"yaxis\":\"y\",\"type\":\"scatter\",\"textposition\":\"middle center\"},{\"hovertemplate\":\"<b>%{hovertext}</b><br><br>Country Name=Turkey<br>GDP per capita=%{marker.size}<br>Percentage of Firms with female participation in Ownership (% of firms)=%{y}<br>Year=%{text}<extra></extra>\",\"hovertext\":[2013.0,2019.0],\"legendgroup\":\"Turkey\",\"marker\":{\"color\":\"#19d3f3\",\"size\":40,\"sizemode\":\"area\",\"sizeref\":737.2604552159095,\"symbol\":\"circle\"},\"mode\":\"markers+text\",\"name\":\"Turkey\",\"orientation\":\"v\",\"showlegend\":true,\"text\":[2013.0,2019.0],\"x\":[22438.7142497217,27318.432499613198],\"xaxis\":\"x\",\"y\":[25.1,11.3],\"yaxis\":\"y\",\"type\":\"scatter\",\"textposition\":\"middle center\"},{\"hovertemplate\":\"<b>%{hovertext}</b><br><br>Country Name=Ukraine<br>GDP per capita=%{marker.size}<br>Percentage of Firms with female participation in Ownership (% of firms)=%{y}<br>Year=%{text}<extra></extra>\",\"hovertext\":[2013.0,2019.0],\"legendgroup\":\"Ukraine\",\"marker\":{\"color\":\"#FF6692\",\"size\":40,\"sizemode\":\"area\",\"sizeref\":737.2604552159095,\"symbol\":\"circle\"},\"mode\":\"markers+text\",\"name\":\"Ukraine\",\"orientation\":\"v\",\"showlegend\":true,\"text\":[2013.0,2019.0],\"x\":[10691.7646844701,13350.4823150166],\"xaxis\":\"x\",\"y\":[32.2,38.6],\"yaxis\":\"y\",\"type\":\"scatter\",\"textposition\":\"middle center\"},{\"hovertemplate\":\"<b>%{hovertext}</b><br><br>Country Name=Uzbekistan<br>GDP per capita=%{marker.size}<br>Percentage of Firms with female participation in Ownership (% of firms)=%{y}<br>Year=%{text}<extra></extra>\",\"hovertext\":[2013.0,2019.0],\"legendgroup\":\"Uzbekistan\",\"marker\":{\"color\":\"#B6E880\",\"size\":40,\"sizemode\":\"area\",\"sizeref\":737.2604552159095,\"symbol\":\"circle\"},\"mode\":\"markers+text\",\"name\":\"Uzbekistan\",\"orientation\":\"v\",\"showlegend\":true,\"text\":[2013.0,2019.0],\"x\":[5942.396758671,7310.9600555984],\"xaxis\":\"x\",\"y\":[29.0,25.9],\"yaxis\":\"y\",\"type\":\"scatter\",\"textposition\":\"middle center\"},{\"hovertemplate\":\"<b>%{hovertext}</b><br><br>Country Name=Kosovo<br>GDP per capita=%{marker.size}<br>Percentage of Firms with female participation in Ownership (% of firms)=%{y}<br>Year=%{text}<extra></extra>\",\"hovertext\":[2013.0,2019.0],\"legendgroup\":\"Kosovo\",\"marker\":{\"color\":\"#FF97FF\",\"size\":40,\"sizemode\":\"area\",\"sizeref\":737.2604552159095,\"symbol\":\"circle\"},\"mode\":\"markers+text\",\"name\":\"Kosovo\",\"orientation\":\"v\",\"showlegend\":true,\"text\":[2013.0,2019.0],\"x\":[8805.379753638299,11971.663021581599],\"xaxis\":\"x\",\"y\":[13.2,7.3],\"yaxis\":\"y\",\"type\":\"scatter\",\"textposition\":\"middle center\"},{\"hovertemplate\":\"<b>%{hovertext}</b><br><br>Country Name=Sweden<br>GDP per capita=%{marker.size}<br>Percentage of Firms with female participation in Ownership (% of firms)=%{y}<br>Year=%{text}<extra></extra>\",\"hovertext\":[2014.0],\"legendgroup\":\"Sweden\",\"marker\":{\"color\":\"#FECB52\",\"size\":40,\"sizemode\":\"area\",\"sizeref\":737.2604552159095,\"symbol\":\"circle\"},\"mode\":\"markers+text\",\"name\":\"Sweden\",\"orientation\":\"v\",\"showlegend\":true,\"text\":[2014.0],\"x\":[47184.669133818206],\"xaxis\":\"x\",\"y\":[52.5],\"yaxis\":\"y\",\"type\":\"scatter\",\"textposition\":\"middle center\"},{\"hovertemplate\":\"<b>%{hovertext}</b><br><br>Country Name=Greece<br>GDP per capita=%{marker.size}<br>Percentage of Firms with female participation in Ownership (% of firms)=%{y}<br>Year=%{text}<extra></extra>\",\"hovertext\":[2018.0],\"legendgroup\":\"Greece\",\"marker\":{\"color\":\"#636efa\",\"size\":40,\"sizemode\":\"area\",\"sizeref\":737.2604552159095,\"symbol\":\"circle\"},\"mode\":\"markers+text\",\"name\":\"Greece\",\"orientation\":\"v\",\"showlegend\":true,\"text\":[2018.0],\"x\":[29680.941834383197],\"xaxis\":\"x\",\"y\":[45.9],\"yaxis\":\"y\",\"type\":\"scatter\",\"textposition\":\"middle center\"},{\"hovertemplate\":\"<b>%{hovertext}</b><br><br>Country Name=Cyprus<br>GDP per capita=%{marker.size}<br>Percentage of Firms with female participation in Ownership (% of firms)=%{y}<br>Year=%{text}<extra></extra>\",\"hovertext\":[2019.0],\"legendgroup\":\"Cyprus\",\"marker\":{\"color\":\"#EF553B\",\"size\":40,\"sizemode\":\"area\",\"sizeref\":737.2604552159095,\"symbol\":\"circle\"},\"mode\":\"markers+text\",\"name\":\"Cyprus\",\"orientation\":\"v\",\"showlegend\":true,\"text\":[2019.0],\"x\":[41514.5105084213],\"xaxis\":\"x\",\"y\":[45.1],\"yaxis\":\"y\",\"type\":\"scatter\",\"textposition\":\"middle center\"},{\"hovertemplate\":\"<b>%{hovertext}</b><br><br>Country Name=Italy<br>GDP per capita=%{marker.size}<br>Percentage of Firms with female participation in Ownership (% of firms)=%{y}<br>Year=%{text}<extra></extra>\",\"hovertext\":[2019.0],\"legendgroup\":\"Italy\",\"marker\":{\"color\":\"#00cc96\",\"size\":40,\"sizemode\":\"area\",\"sizeref\":737.2604552159095,\"symbol\":\"circle\"},\"mode\":\"markers+text\",\"name\":\"Italy\",\"orientation\":\"v\",\"showlegend\":true,\"text\":[2019.0],\"x\":[44850.9264658367],\"xaxis\":\"x\",\"y\":[24.0],\"yaxis\":\"y\",\"type\":\"scatter\",\"textposition\":\"middle center\"},{\"hovertemplate\":\"<b>%{hovertext}</b><br><br>Country Name=Portugal<br>GDP per capita=%{marker.size}<br>Percentage of Firms with female participation in Ownership (% of firms)=%{y}<br>Year=%{text}<extra></extra>\",\"hovertext\":[2019.0],\"legendgroup\":\"Portugal\",\"marker\":{\"color\":\"#ab63fa\",\"size\":40,\"sizemode\":\"area\",\"sizeref\":737.2604552159095,\"symbol\":\"circle\"},\"mode\":\"markers+text\",\"name\":\"Portugal\",\"orientation\":\"v\",\"showlegend\":true,\"text\":[2019.0],\"x\":[36871.839600549705],\"xaxis\":\"x\",\"y\":[37.8],\"yaxis\":\"y\",\"type\":\"scatter\",\"textposition\":\"middle center\"}],                        {\"template\":{\"data\":{\"bar\":[{\"error_x\":{\"color\":\"#f2f5fa\"},\"error_y\":{\"color\":\"#f2f5fa\"},\"marker\":{\"line\":{\"color\":\"rgb(17,17,17)\",\"width\":0.5},\"pattern\":{\"fillmode\":\"overlay\",\"size\":10,\"solidity\":0.2}},\"type\":\"bar\"}],\"barpolar\":[{\"marker\":{\"line\":{\"color\":\"rgb(17,17,17)\",\"width\":0.5},\"pattern\":{\"fillmode\":\"overlay\",\"size\":10,\"solidity\":0.2}},\"type\":\"barpolar\"}],\"carpet\":[{\"aaxis\":{\"endlinecolor\":\"#A2B1C6\",\"gridcolor\":\"#506784\",\"linecolor\":\"#506784\",\"minorgridcolor\":\"#506784\",\"startlinecolor\":\"#A2B1C6\"},\"baxis\":{\"endlinecolor\":\"#A2B1C6\",\"gridcolor\":\"#506784\",\"linecolor\":\"#506784\",\"minorgridcolor\":\"#506784\",\"startlinecolor\":\"#A2B1C6\"},\"type\":\"carpet\"}],\"choropleth\":[{\"colorbar\":{\"outlinewidth\":0,\"ticks\":\"\"},\"type\":\"choropleth\"}],\"contour\":[{\"colorbar\":{\"outlinewidth\":0,\"ticks\":\"\"},\"colorscale\":[[0.0,\"#0d0887\"],[0.1111111111111111,\"#46039f\"],[0.2222222222222222,\"#7201a8\"],[0.3333333333333333,\"#9c179e\"],[0.4444444444444444,\"#bd3786\"],[0.5555555555555556,\"#d8576b\"],[0.6666666666666666,\"#ed7953\"],[0.7777777777777778,\"#fb9f3a\"],[0.8888888888888888,\"#fdca26\"],[1.0,\"#f0f921\"]],\"type\":\"contour\"}],\"contourcarpet\":[{\"colorbar\":{\"outlinewidth\":0,\"ticks\":\"\"},\"type\":\"contourcarpet\"}],\"heatmap\":[{\"colorbar\":{\"outlinewidth\":0,\"ticks\":\"\"},\"colorscale\":[[0.0,\"#0d0887\"],[0.1111111111111111,\"#46039f\"],[0.2222222222222222,\"#7201a8\"],[0.3333333333333333,\"#9c179e\"],[0.4444444444444444,\"#bd3786\"],[0.5555555555555556,\"#d8576b\"],[0.6666666666666666,\"#ed7953\"],[0.7777777777777778,\"#fb9f3a\"],[0.8888888888888888,\"#fdca26\"],[1.0,\"#f0f921\"]],\"type\":\"heatmap\"}],\"heatmapgl\":[{\"colorbar\":{\"outlinewidth\":0,\"ticks\":\"\"},\"colorscale\":[[0.0,\"#0d0887\"],[0.1111111111111111,\"#46039f\"],[0.2222222222222222,\"#7201a8\"],[0.3333333333333333,\"#9c179e\"],[0.4444444444444444,\"#bd3786\"],[0.5555555555555556,\"#d8576b\"],[0.6666666666666666,\"#ed7953\"],[0.7777777777777778,\"#fb9f3a\"],[0.8888888888888888,\"#fdca26\"],[1.0,\"#f0f921\"]],\"type\":\"heatmapgl\"}],\"histogram\":[{\"marker\":{\"pattern\":{\"fillmode\":\"overlay\",\"size\":10,\"solidity\":0.2}},\"type\":\"histogram\"}],\"histogram2d\":[{\"colorbar\":{\"outlinewidth\":0,\"ticks\":\"\"},\"colorscale\":[[0.0,\"#0d0887\"],[0.1111111111111111,\"#46039f\"],[0.2222222222222222,\"#7201a8\"],[0.3333333333333333,\"#9c179e\"],[0.4444444444444444,\"#bd3786\"],[0.5555555555555556,\"#d8576b\"],[0.6666666666666666,\"#ed7953\"],[0.7777777777777778,\"#fb9f3a\"],[0.8888888888888888,\"#fdca26\"],[1.0,\"#f0f921\"]],\"type\":\"histogram2d\"}],\"histogram2dcontour\":[{\"colorbar\":{\"outlinewidth\":0,\"ticks\":\"\"},\"colorscale\":[[0.0,\"#0d0887\"],[0.1111111111111111,\"#46039f\"],[0.2222222222222222,\"#7201a8\"],[0.3333333333333333,\"#9c179e\"],[0.4444444444444444,\"#bd3786\"],[0.5555555555555556,\"#d8576b\"],[0.6666666666666666,\"#ed7953\"],[0.7777777777777778,\"#fb9f3a\"],[0.8888888888888888,\"#fdca26\"],[1.0,\"#f0f921\"]],\"type\":\"histogram2dcontour\"}],\"mesh3d\":[{\"colorbar\":{\"outlinewidth\":0,\"ticks\":\"\"},\"type\":\"mesh3d\"}],\"parcoords\":[{\"line\":{\"colorbar\":{\"outlinewidth\":0,\"ticks\":\"\"}},\"type\":\"parcoords\"}],\"pie\":[{\"automargin\":true,\"type\":\"pie\"}],\"scatter\":[{\"marker\":{\"line\":{\"color\":\"#283442\"}},\"type\":\"scatter\"}],\"scatter3d\":[{\"line\":{\"colorbar\":{\"outlinewidth\":0,\"ticks\":\"\"}},\"marker\":{\"colorbar\":{\"outlinewidth\":0,\"ticks\":\"\"}},\"type\":\"scatter3d\"}],\"scattercarpet\":[{\"marker\":{\"colorbar\":{\"outlinewidth\":0,\"ticks\":\"\"}},\"type\":\"scattercarpet\"}],\"scattergeo\":[{\"marker\":{\"colorbar\":{\"outlinewidth\":0,\"ticks\":\"\"}},\"type\":\"scattergeo\"}],\"scattergl\":[{\"marker\":{\"line\":{\"color\":\"#283442\"}},\"type\":\"scattergl\"}],\"scattermapbox\":[{\"marker\":{\"colorbar\":{\"outlinewidth\":0,\"ticks\":\"\"}},\"type\":\"scattermapbox\"}],\"scatterpolar\":[{\"marker\":{\"colorbar\":{\"outlinewidth\":0,\"ticks\":\"\"}},\"type\":\"scatterpolar\"}],\"scatterpolargl\":[{\"marker\":{\"colorbar\":{\"outlinewidth\":0,\"ticks\":\"\"}},\"type\":\"scatterpolargl\"}],\"scatterternary\":[{\"marker\":{\"colorbar\":{\"outlinewidth\":0,\"ticks\":\"\"}},\"type\":\"scatterternary\"}],\"surface\":[{\"colorbar\":{\"outlinewidth\":0,\"ticks\":\"\"},\"colorscale\":[[0.0,\"#0d0887\"],[0.1111111111111111,\"#46039f\"],[0.2222222222222222,\"#7201a8\"],[0.3333333333333333,\"#9c179e\"],[0.4444444444444444,\"#bd3786\"],[0.5555555555555556,\"#d8576b\"],[0.6666666666666666,\"#ed7953\"],[0.7777777777777778,\"#fb9f3a\"],[0.8888888888888888,\"#fdca26\"],[1.0,\"#f0f921\"]],\"type\":\"surface\"}],\"table\":[{\"cells\":{\"fill\":{\"color\":\"#506784\"},\"line\":{\"color\":\"rgb(17,17,17)\"}},\"header\":{\"fill\":{\"color\":\"#2a3f5f\"},\"line\":{\"color\":\"rgb(17,17,17)\"}},\"type\":\"table\"}]},\"layout\":{\"annotationdefaults\":{\"arrowcolor\":\"#f2f5fa\",\"arrowhead\":0,\"arrowwidth\":1},\"autotypenumbers\":\"strict\",\"coloraxis\":{\"colorbar\":{\"outlinewidth\":0,\"ticks\":\"\"}},\"colorscale\":{\"diverging\":[[0,\"#8e0152\"],[0.1,\"#c51b7d\"],[0.2,\"#de77ae\"],[0.3,\"#f1b6da\"],[0.4,\"#fde0ef\"],[0.5,\"#f7f7f7\"],[0.6,\"#e6f5d0\"],[0.7,\"#b8e186\"],[0.8,\"#7fbc41\"],[0.9,\"#4d9221\"],[1,\"#276419\"]],\"sequential\":[[0.0,\"#0d0887\"],[0.1111111111111111,\"#46039f\"],[0.2222222222222222,\"#7201a8\"],[0.3333333333333333,\"#9c179e\"],[0.4444444444444444,\"#bd3786\"],[0.5555555555555556,\"#d8576b\"],[0.6666666666666666,\"#ed7953\"],[0.7777777777777778,\"#fb9f3a\"],[0.8888888888888888,\"#fdca26\"],[1.0,\"#f0f921\"]],\"sequentialminus\":[[0.0,\"#0d0887\"],[0.1111111111111111,\"#46039f\"],[0.2222222222222222,\"#7201a8\"],[0.3333333333333333,\"#9c179e\"],[0.4444444444444444,\"#bd3786\"],[0.5555555555555556,\"#d8576b\"],[0.6666666666666666,\"#ed7953\"],[0.7777777777777778,\"#fb9f3a\"],[0.8888888888888888,\"#fdca26\"],[1.0,\"#f0f921\"]]},\"colorway\":[\"#636efa\",\"#EF553B\",\"#00cc96\",\"#ab63fa\",\"#FFA15A\",\"#19d3f3\",\"#FF6692\",\"#B6E880\",\"#FF97FF\",\"#FECB52\"],\"font\":{\"color\":\"#f2f5fa\"},\"geo\":{\"bgcolor\":\"rgb(17,17,17)\",\"lakecolor\":\"rgb(17,17,17)\",\"landcolor\":\"rgb(17,17,17)\",\"showlakes\":true,\"showland\":true,\"subunitcolor\":\"#506784\"},\"hoverlabel\":{\"align\":\"left\"},\"hovermode\":\"closest\",\"mapbox\":{\"style\":\"dark\"},\"paper_bgcolor\":\"rgb(17,17,17)\",\"plot_bgcolor\":\"rgb(17,17,17)\",\"polar\":{\"angularaxis\":{\"gridcolor\":\"#506784\",\"linecolor\":\"#506784\",\"ticks\":\"\"},\"bgcolor\":\"rgb(17,17,17)\",\"radialaxis\":{\"gridcolor\":\"#506784\",\"linecolor\":\"#506784\",\"ticks\":\"\"}},\"scene\":{\"xaxis\":{\"backgroundcolor\":\"rgb(17,17,17)\",\"gridcolor\":\"#506784\",\"gridwidth\":2,\"linecolor\":\"#506784\",\"showbackground\":true,\"ticks\":\"\",\"zerolinecolor\":\"#C8D4E3\"},\"yaxis\":{\"backgroundcolor\":\"rgb(17,17,17)\",\"gridcolor\":\"#506784\",\"gridwidth\":2,\"linecolor\":\"#506784\",\"showbackground\":true,\"ticks\":\"\",\"zerolinecolor\":\"#C8D4E3\"},\"zaxis\":{\"backgroundcolor\":\"rgb(17,17,17)\",\"gridcolor\":\"#506784\",\"gridwidth\":2,\"linecolor\":\"#506784\",\"showbackground\":true,\"ticks\":\"\",\"zerolinecolor\":\"#C8D4E3\"}},\"shapedefaults\":{\"line\":{\"color\":\"#f2f5fa\"}},\"sliderdefaults\":{\"bgcolor\":\"#C8D4E3\",\"bordercolor\":\"rgb(17,17,17)\",\"borderwidth\":1,\"tickwidth\":0},\"ternary\":{\"aaxis\":{\"gridcolor\":\"#506784\",\"linecolor\":\"#506784\",\"ticks\":\"\"},\"baxis\":{\"gridcolor\":\"#506784\",\"linecolor\":\"#506784\",\"ticks\":\"\"},\"bgcolor\":\"rgb(17,17,17)\",\"caxis\":{\"gridcolor\":\"#506784\",\"linecolor\":\"#506784\",\"ticks\":\"\"}},\"title\":{\"x\":0.05},\"updatemenudefaults\":{\"bgcolor\":\"#506784\",\"borderwidth\":0},\"xaxis\":{\"automargin\":true,\"gridcolor\":\"#283442\",\"linecolor\":\"#506784\",\"ticks\":\"\",\"title\":{\"standoff\":15},\"zerolinecolor\":\"#283442\",\"zerolinewidth\":2},\"yaxis\":{\"automargin\":true,\"gridcolor\":\"#283442\",\"linecolor\":\"#506784\",\"ticks\":\"\",\"title\":{\"standoff\":15},\"zerolinecolor\":\"#283442\",\"zerolinewidth\":2}}},\"xaxis\":{\"anchor\":\"y\",\"domain\":[0.0,1.0],\"title\":{\"text\":\"GDP per capita\"}},\"yaxis\":{\"anchor\":\"x\",\"domain\":[0.0,1.0],\"title\":{\"text\":\"Percentage of Firms with female participation in Ownership (% of firms)\"}},\"legend\":{\"title\":{\"text\":\"Country Name\"},\"tracegroupgap\":0,\"itemsizing\":\"constant\"},\"title\":{\"text\":\"Relation between Firms with female participation in Ownership (% of firms)  and GDP per capita\"},\"height\":700},                        {\"responsive\": true}                    ).then(function(){\n",
              "                            \n",
              "var gd = document.getElementById('8eab58bb-572f-4a0f-ad13-93995e800eef');\n",
              "var x = new MutationObserver(function (mutations, observer) {{\n",
              "        var display = window.getComputedStyle(gd).display;\n",
              "        if (!display || display === 'none') {{\n",
              "            console.log([gd, 'removed!']);\n",
              "            Plotly.purge(gd);\n",
              "            observer.disconnect();\n",
              "        }}\n",
              "}});\n",
              "\n",
              "// Listen for the removal of the full notebook cells\n",
              "var notebookContainer = gd.closest('#notebook-container');\n",
              "if (notebookContainer) {{\n",
              "    x.observe(notebookContainer, {childList: true});\n",
              "}}\n",
              "\n",
              "// Listen for the clearing of the current output cell\n",
              "var outputEl = gd.closest('.output');\n",
              "if (outputEl) {{\n",
              "    x.observe(outputEl, {childList: true});\n",
              "}}\n",
              "\n",
              "                        })                };                            </script>        </div>\n",
              "</body>\n",
              "</html>"
            ]
          },
          "metadata": {}
        }
      ]
    },
    {
      "cell_type": "markdown",
      "source": [
        "The following are the observations:\n",
        "-\tFrom the above scatter plot, we can say that higher the number of women in ownerships higher the Economic growth of the country.\n",
        "-\tThere are still some outliers that can be seen yet it would not be wrong to say that most of data is where there are firms with female ownerships\n"
      ],
      "metadata": {
        "id": "iqVTU1iovhmd"
      }
    },
    {
      "cell_type": "markdown",
      "source": [
        "## **Firms with female participation in Ownership (South Asia, Middle East & North Africa, and Latin America & Caribbean)**\n",
        "\n",
        "The below graph talks about the female participation in ownerships in the northern hemisphere."
      ],
      "metadata": {
        "id": "hPmRcOf9vnai"
      }
    },
    {
      "cell_type": "code",
      "source": [
        "df_6=pd.read_csv('https://raw.githubusercontent.com/Mrshreesharma/DS601_Fall21/main/Data690/fig6.csv')\n",
        "df_6.head(2)"
      ],
      "metadata": {
        "colab": {
          "base_uri": "https://localhost:8080/",
          "height": 112
        },
        "id": "RoXeiic3xCWz",
        "outputId": "872ce5f5-e21a-48e9-e4cb-7be9db0d7a34"
      },
      "execution_count": 55,
      "outputs": [
        {
          "output_type": "execute_result",
          "data": {
            "text/html": [
              "<div>\n",
              "<style scoped>\n",
              "    .dataframe tbody tr th:only-of-type {\n",
              "        vertical-align: middle;\n",
              "    }\n",
              "\n",
              "    .dataframe tbody tr th {\n",
              "        vertical-align: top;\n",
              "    }\n",
              "\n",
              "    .dataframe thead th {\n",
              "        text-align: right;\n",
              "    }\n",
              "</style>\n",
              "<table border=\"1\" class=\"dataframe\">\n",
              "  <thead>\n",
              "    <tr style=\"text-align: right;\">\n",
              "      <th></th>\n",
              "      <th>Unnamed: 0</th>\n",
              "      <th>Year</th>\n",
              "      <th>value</th>\n",
              "      <th>indicator</th>\n",
              "      <th>Country Code</th>\n",
              "      <th>Country Name</th>\n",
              "      <th>Region</th>\n",
              "      <th>Income Group</th>\n",
              "      <th>Lending Type</th>\n",
              "    </tr>\n",
              "  </thead>\n",
              "  <tbody>\n",
              "    <tr>\n",
              "      <th>0</th>\n",
              "      <td>0</td>\n",
              "      <td>2010</td>\n",
              "      <td>1710.575411</td>\n",
              "      <td>NY.GDP.PCAP.PP.CD</td>\n",
              "      <td>AFG</td>\n",
              "      <td>Afghanistan</td>\n",
              "      <td>South Asia</td>\n",
              "      <td>Low income</td>\n",
              "      <td>IDA</td>\n",
              "    </tr>\n",
              "    <tr>\n",
              "      <th>1</th>\n",
              "      <td>1</td>\n",
              "      <td>2011</td>\n",
              "      <td>1699.488110</td>\n",
              "      <td>NY.GDP.PCAP.PP.CD</td>\n",
              "      <td>AFG</td>\n",
              "      <td>Afghanistan</td>\n",
              "      <td>South Asia</td>\n",
              "      <td>Low income</td>\n",
              "      <td>IDA</td>\n",
              "    </tr>\n",
              "  </tbody>\n",
              "</table>\n",
              "</div>"
            ],
            "text/plain": [
              "   Unnamed: 0  Year        value  ...      Region Income Group Lending Type\n",
              "0           0  2010  1710.575411  ...  South Asia   Low income          IDA\n",
              "1           1  2011  1699.488110  ...  South Asia   Low income          IDA\n",
              "\n",
              "[2 rows x 9 columns]"
            ]
          },
          "metadata": {},
          "execution_count": 55
        }
      ]
    },
    {
      "cell_type": "code",
      "source": [
        "#Dropping 'Unnamed: 0 column because it has no relevant data\n",
        "df_6 = df_6.drop(columns=['Unnamed: 0'])"
      ],
      "metadata": {
        "id": "MHoAAHtJxCTp"
      },
      "execution_count": 56,
      "outputs": []
    },
    {
      "cell_type": "code",
      "source": [
        "df_pivot_6 =df_6.pivot(index =['Year','Country Code','Country Name','Region','Income Group'],columns = 'indicator', values ='value').reset_index()\n",
        "df_pivot_6.reset_index().head(1)"
      ],
      "metadata": {
        "colab": {
          "base_uri": "https://localhost:8080/",
          "height": 81
        },
        "id": "wSLkEbVIxCQb",
        "outputId": "8df7c119-9de0-4470-d127-35ca27b2b643"
      },
      "execution_count": 57,
      "outputs": [
        {
          "output_type": "execute_result",
          "data": {
            "text/html": [
              "<div>\n",
              "<style scoped>\n",
              "    .dataframe tbody tr th:only-of-type {\n",
              "        vertical-align: middle;\n",
              "    }\n",
              "\n",
              "    .dataframe tbody tr th {\n",
              "        vertical-align: top;\n",
              "    }\n",
              "\n",
              "    .dataframe thead th {\n",
              "        text-align: right;\n",
              "    }\n",
              "</style>\n",
              "<table border=\"1\" class=\"dataframe\">\n",
              "  <thead>\n",
              "    <tr style=\"text-align: right;\">\n",
              "      <th>indicator</th>\n",
              "      <th>index</th>\n",
              "      <th>Year</th>\n",
              "      <th>Country Code</th>\n",
              "      <th>Country Name</th>\n",
              "      <th>Region</th>\n",
              "      <th>Income Group</th>\n",
              "      <th>IC.FRM.FEMO.ZS</th>\n",
              "      <th>NY.GDP.PCAP.PP.CD</th>\n",
              "    </tr>\n",
              "  </thead>\n",
              "  <tbody>\n",
              "    <tr>\n",
              "      <th>0</th>\n",
              "      <td>0</td>\n",
              "      <td>2010</td>\n",
              "      <td>ABW</td>\n",
              "      <td>Aruba</td>\n",
              "      <td>Latin America &amp; Caribbean</td>\n",
              "      <td>High income</td>\n",
              "      <td>NaN</td>\n",
              "      <td>32625.492691</td>\n",
              "    </tr>\n",
              "  </tbody>\n",
              "</table>\n",
              "</div>"
            ],
            "text/plain": [
              "indicator  index  Year  ... IC.FRM.FEMO.ZS NY.GDP.PCAP.PP.CD\n",
              "0              0  2010  ...            NaN      32625.492691\n",
              "\n",
              "[1 rows x 8 columns]"
            ]
          },
          "metadata": {},
          "execution_count": 57
        }
      ]
    },
    {
      "cell_type": "code",
      "source": [
        "df_6 = df_pivot_6.dropna()\n"
      ],
      "metadata": {
        "id": "61E5ezvSxCM7"
      },
      "execution_count": 58,
      "outputs": []
    },
    {
      "cell_type": "code",
      "source": [
        "fig = px.scatter(df_6, \n",
        "               y=\"IC.FRM.FEMO.ZS\", \n",
        "                x=\"NY.GDP.PCAP.PP.CD\",\n",
        "                title=\"Relation between Firms with female participation in Ownership (% of firms)  and GDP per capita\",\n",
        "                labels={\"IC.FRM.FEMO.ZS\":\"Percentage of Firms with female participation in Ownership (% of firms)\",\"NY.GDP.PCAP.PP.CD\":\"GDP per capita\"},\n",
        "               color=\"Country Name\",\n",
        "                hover_name='Year',\n",
        "                height=700,\n",
        "                text = 'Year',\n",
        "                size=\"NY.GDP.PCAP.PP.CD\",\n",
        "                size_max=8,\n",
        "                )\n",
        "fig.update_traces(marker_size=40,textposition = 'middle center')\n",
        "fig.show()"
      ],
      "metadata": {
        "colab": {
          "base_uri": "https://localhost:8080/",
          "height": 717
        },
        "id": "dqtLuez1xCJc",
        "outputId": "1270bb98-5708-4194-d705-25cf0ca41e6e"
      },
      "execution_count": 46,
      "outputs": [
        {
          "output_type": "display_data",
          "data": {
            "text/html": [
              "<html>\n",
              "<head><meta charset=\"utf-8\" /></head>\n",
              "<body>\n",
              "    <div>            <script src=\"https://cdnjs.cloudflare.com/ajax/libs/mathjax/2.7.5/MathJax.js?config=TeX-AMS-MML_SVG\"></script><script type=\"text/javascript\">if (window.MathJax) {MathJax.Hub.Config({SVG: {font: \"STIX-Web\"}});}</script>                <script type=\"text/javascript\">window.PlotlyConfig = {MathJaxConfig: 'local'};</script>\n",
              "        <script src=\"https://cdn.plot.ly/plotly-2.6.3.min.js\"></script>                <div id=\"05c631c4-765e-44c3-afea-29de19245da1\" class=\"plotly-graph-div\" style=\"height:700px; width:100%;\"></div>            <script type=\"text/javascript\">                                    window.PLOTLYENV=window.PLOTLYENV || {};                                    if (document.getElementById(\"05c631c4-765e-44c3-afea-29de19245da1\")) {                    Plotly.newPlot(                        \"05c631c4-765e-44c3-afea-29de19245da1\",                        [{\"hovertemplate\":\"<b>%{hovertext}</b><br><br>Country Name=Argentina<br>GDP per capita=%{marker.size}<br>Percentage of Firms with female participation in Ownership (% of firms)=%{y}<br>Year=%{text}<extra></extra>\",\"hovertext\":[2010.0,2017.0],\"legendgroup\":\"Argentina\",\"marker\":{\"color\":\"#636efa\",\"size\":40,\"sizemode\":\"area\",\"sizeref\":730.7307293770515,\"symbol\":\"circle\"},\"mode\":\"markers+text\",\"name\":\"Argentina\",\"orientation\":\"v\",\"showlegend\":true,\"text\":[2010.0,2017.0],\"x\":[18061.9343589164,23597.117752839],\"xaxis\":\"x\",\"y\":[38.0,57.8],\"yaxis\":\"y\",\"type\":\"scatter\",\"textposition\":\"middle center\"},{\"hovertemplate\":\"<b>%{hovertext}</b><br><br>Country Name=Antigua and Barbuda<br>GDP per capita=%{marker.size}<br>Percentage of Firms with female participation in Ownership (% of firms)=%{y}<br>Year=%{text}<extra></extra>\",\"hovertext\":[2010.0],\"legendgroup\":\"Antigua and Barbuda\",\"marker\":{\"color\":\"#EF553B\",\"size\":40,\"sizemode\":\"area\",\"sizeref\":730.7307293770515,\"symbol\":\"circle\"},\"mode\":\"markers+text\",\"name\":\"Antigua and Barbuda\",\"orientation\":\"v\",\"showlegend\":true,\"text\":[2010.0],\"x\":[20611.4457775542],\"xaxis\":\"x\",\"y\":[21.3],\"yaxis\":\"y\",\"type\":\"scatter\",\"textposition\":\"middle center\"},{\"hovertemplate\":\"<b>%{hovertext}</b><br><br>Country Name=Bahamas, The<br>GDP per capita=%{marker.size}<br>Percentage of Firms with female participation in Ownership (% of firms)=%{y}<br>Year=%{text}<extra></extra>\",\"hovertext\":[2010.0],\"legendgroup\":\"Bahamas, The\",\"marker\":{\"color\":\"#00cc96\",\"size\":40,\"sizemode\":\"area\",\"sizeref\":730.7307293770515,\"symbol\":\"circle\"},\"mode\":\"markers+text\",\"name\":\"Bahamas, The\",\"orientation\":\"v\",\"showlegend\":true,\"text\":[2010.0],\"x\":[31090.639647889904],\"xaxis\":\"x\",\"y\":[58.3],\"yaxis\":\"y\",\"type\":\"scatter\",\"textposition\":\"middle center\"},{\"hovertemplate\":\"<b>%{hovertext}</b><br><br>Country Name=Belize<br>GDP per capita=%{marker.size}<br>Percentage of Firms with female participation in Ownership (% of firms)=%{y}<br>Year=%{text}<extra></extra>\",\"hovertext\":[2010.0],\"legendgroup\":\"Belize\",\"marker\":{\"color\":\"#ab63fa\",\"size\":40,\"sizemode\":\"area\",\"sizeref\":730.7307293770515,\"symbol\":\"circle\"},\"mode\":\"markers+text\",\"name\":\"Belize\",\"orientation\":\"v\",\"showlegend\":true,\"text\":[2010.0],\"x\":[7563.702662421701],\"xaxis\":\"x\",\"y\":[30.4],\"yaxis\":\"y\",\"type\":\"scatter\",\"textposition\":\"middle center\"},{\"hovertemplate\":\"<b>%{hovertext}</b><br><br>Country Name=Bolivia<br>GDP per capita=%{marker.size}<br>Percentage of Firms with female participation in Ownership (% of firms)=%{y}<br>Year=%{text}<extra></extra>\",\"hovertext\":[2010.0,2017.0],\"legendgroup\":\"Bolivia\",\"marker\":{\"color\":\"#FFA15A\",\"size\":40,\"sizemode\":\"area\",\"sizeref\":730.7307293770515,\"symbol\":\"circle\"},\"mode\":\"markers+text\",\"name\":\"Bolivia\",\"orientation\":\"v\",\"showlegend\":true,\"text\":[2010.0,2017.0],\"x\":[5167.1103118386,8423.6975596562],\"xaxis\":\"x\",\"y\":[41.3,68.6],\"yaxis\":\"y\",\"type\":\"scatter\",\"textposition\":\"middle center\"},{\"hovertemplate\":\"<b>%{hovertext}</b><br><br>Country Name=Barbados<br>GDP per capita=%{marker.size}<br>Percentage of Firms with female participation in Ownership (% of firms)=%{y}<br>Year=%{text}<extra></extra>\",\"hovertext\":[2010.0],\"legendgroup\":\"Barbados\",\"marker\":{\"color\":\"#19d3f3\",\"size\":40,\"sizemode\":\"area\",\"sizeref\":730.7307293770515,\"symbol\":\"circle\"},\"mode\":\"markers+text\",\"name\":\"Barbados\",\"orientation\":\"v\",\"showlegend\":true,\"text\":[2010.0],\"x\":[16127.811383751201],\"xaxis\":\"x\",\"y\":[43.5],\"yaxis\":\"y\",\"type\":\"scatter\",\"textposition\":\"middle center\"},{\"hovertemplate\":\"<b>%{hovertext}</b><br><br>Country Name=Chile<br>GDP per capita=%{marker.size}<br>Percentage of Firms with female participation in Ownership (% of firms)=%{y}<br>Year=%{text}<extra></extra>\",\"hovertext\":[2010.0],\"legendgroup\":\"Chile\",\"marker\":{\"color\":\"#FF6692\",\"size\":40,\"sizemode\":\"area\",\"sizeref\":730.7307293770515,\"symbol\":\"circle\"},\"mode\":\"markers+text\",\"name\":\"Chile\",\"orientation\":\"v\",\"showlegend\":true,\"text\":[2010.0],\"x\":[18161.8092446236],\"xaxis\":\"x\",\"y\":[29.6],\"yaxis\":\"y\",\"type\":\"scatter\",\"textposition\":\"middle center\"},{\"hovertemplate\":\"<b>%{hovertext}</b><br><br>Country Name=Colombia<br>GDP per capita=%{marker.size}<br>Percentage of Firms with female participation in Ownership (% of firms)=%{y}<br>Year=%{text}<extra></extra>\",\"hovertext\":[2010.0,2017.0],\"legendgroup\":\"Colombia\",\"marker\":{\"color\":\"#B6E880\",\"size\":40,\"sizemode\":\"area\",\"sizeref\":730.7307293770515,\"symbol\":\"circle\"},\"mode\":\"markers+text\",\"name\":\"Colombia\",\"orientation\":\"v\",\"showlegend\":true,\"text\":[2010.0,2017.0],\"x\":[10731.645914959001,14171.3205005648],\"xaxis\":\"x\",\"y\":[35.3,66.9],\"yaxis\":\"y\",\"type\":\"scatter\",\"textposition\":\"middle center\"},{\"hovertemplate\":\"<b>%{hovertext}</b><br><br>Country Name=Costa Rica<br>GDP per capita=%{marker.size}<br>Percentage of Firms with female participation in Ownership (% of firms)=%{y}<br>Year=%{text}<extra></extra>\",\"hovertext\":[2010.0],\"legendgroup\":\"Costa Rica\",\"marker\":{\"color\":\"#FF97FF\",\"size\":40,\"sizemode\":\"area\",\"sizeref\":730.7307293770515,\"symbol\":\"circle\"},\"mode\":\"markers+text\",\"name\":\"Costa Rica\",\"orientation\":\"v\",\"showlegend\":true,\"text\":[2010.0],\"x\":[12863.8495104025],\"xaxis\":\"x\",\"y\":[43.5],\"yaxis\":\"y\",\"type\":\"scatter\",\"textposition\":\"middle center\"},{\"hovertemplate\":\"<b>%{hovertext}</b><br><br>Country Name=Dominica<br>GDP per capita=%{marker.size}<br>Percentage of Firms with female participation in Ownership (% of firms)=%{y}<br>Year=%{text}<extra></extra>\",\"hovertext\":[2010.0],\"legendgroup\":\"Dominica\",\"marker\":{\"color\":\"#FECB52\",\"size\":40,\"sizemode\":\"area\",\"sizeref\":730.7307293770515,\"symbol\":\"circle\"},\"mode\":\"markers+text\",\"name\":\"Dominica\",\"orientation\":\"v\",\"showlegend\":true,\"text\":[2010.0],\"x\":[10017.761872474399],\"xaxis\":\"x\",\"y\":[41.0],\"yaxis\":\"y\",\"type\":\"scatter\",\"textposition\":\"middle center\"},{\"hovertemplate\":\"<b>%{hovertext}</b><br><br>Country Name=Dominican Republic<br>GDP per capita=%{marker.size}<br>Percentage of Firms with female participation in Ownership (% of firms)=%{y}<br>Year=%{text}<extra></extra>\",\"hovertext\":[2010.0,2016.0],\"legendgroup\":\"Dominican Republic\",\"marker\":{\"color\":\"#636efa\",\"size\":40,\"sizemode\":\"area\",\"sizeref\":730.7307293770515,\"symbol\":\"circle\"},\"mode\":\"markers+text\",\"name\":\"Dominican Republic\",\"orientation\":\"v\",\"showlegend\":true,\"text\":[2010.0,2016.0],\"x\":[11410.353459966498,16109.863671140902],\"xaxis\":\"x\",\"y\":[30.0,32.2],\"yaxis\":\"y\",\"type\":\"scatter\",\"textposition\":\"middle center\"},{\"hovertemplate\":\"<b>%{hovertext}</b><br><br>Country Name=Ecuador<br>GDP per capita=%{marker.size}<br>Percentage of Firms with female participation in Ownership (% of firms)=%{y}<br>Year=%{text}<extra></extra>\",\"hovertext\":[2010.0,2017.0],\"legendgroup\":\"Ecuador\",\"marker\":{\"color\":\"#EF553B\",\"size\":40,\"sizemode\":\"area\",\"sizeref\":730.7307293770515,\"symbol\":\"circle\"},\"mode\":\"markers+text\",\"name\":\"Ecuador\",\"orientation\":\"v\",\"showlegend\":true,\"text\":[2010.0,2017.0],\"x\":[9090.310050230999,11617.9122190573],\"xaxis\":\"x\",\"y\":[24.1,70.4],\"yaxis\":\"y\",\"type\":\"scatter\",\"textposition\":\"middle center\"},{\"hovertemplate\":\"<b>%{hovertext}</b><br><br>Country Name=Grenada<br>GDP per capita=%{marker.size}<br>Percentage of Firms with female participation in Ownership (% of firms)=%{y}<br>Year=%{text}<extra></extra>\",\"hovertext\":[2010.0],\"legendgroup\":\"Grenada\",\"marker\":{\"color\":\"#00cc96\",\"size\":40,\"sizemode\":\"area\",\"sizeref\":730.7307293770515,\"symbol\":\"circle\"},\"mode\":\"markers+text\",\"name\":\"Grenada\",\"orientation\":\"v\",\"showlegend\":true,\"text\":[2010.0],\"x\":[10863.4810030685],\"xaxis\":\"x\",\"y\":[57.3],\"yaxis\":\"y\",\"type\":\"scatter\",\"textposition\":\"middle center\"},{\"hovertemplate\":\"<b>%{hovertext}</b><br><br>Country Name=Guatemala<br>GDP per capita=%{marker.size}<br>Percentage of Firms with female participation in Ownership (% of firms)=%{y}<br>Year=%{text}<extra></extra>\",\"hovertext\":[2010.0,2017.0],\"legendgroup\":\"Guatemala\",\"marker\":{\"color\":\"#ab63fa\",\"size\":40,\"sizemode\":\"area\",\"sizeref\":730.7307293770515,\"symbol\":\"circle\"},\"mode\":\"markers+text\",\"name\":\"Guatemala\",\"orientation\":\"v\",\"showlegend\":true,\"text\":[2010.0,2017.0],\"x\":[6618.1905322871,8322.216809915],\"xaxis\":\"x\",\"y\":[44.2,31.5],\"yaxis\":\"y\",\"type\":\"scatter\",\"textposition\":\"middle center\"},{\"hovertemplate\":\"<b>%{hovertext}</b><br><br>Country Name=Guyana<br>GDP per capita=%{marker.size}<br>Percentage of Firms with female participation in Ownership (% of firms)=%{y}<br>Year=%{text}<extra></extra>\",\"hovertext\":[2010.0],\"legendgroup\":\"Guyana\",\"marker\":{\"color\":\"#FFA15A\",\"size\":40,\"sizemode\":\"area\",\"sizeref\":730.7307293770515,\"symbol\":\"circle\"},\"mode\":\"markers+text\",\"name\":\"Guyana\",\"orientation\":\"v\",\"showlegend\":true,\"text\":[2010.0],\"x\":[9319.4087022097],\"xaxis\":\"x\",\"y\":[58.3],\"yaxis\":\"y\",\"type\":\"scatter\",\"textposition\":\"middle center\"},{\"hovertemplate\":\"<b>%{hovertext}</b><br><br>Country Name=Honduras<br>GDP per capita=%{marker.size}<br>Percentage of Firms with female participation in Ownership (% of firms)=%{y}<br>Year=%{text}<extra></extra>\",\"hovertext\":[2010.0,2016.0],\"legendgroup\":\"Honduras\",\"marker\":{\"color\":\"#19d3f3\",\"size\":40,\"sizemode\":\"area\",\"sizeref\":730.7307293770515,\"symbol\":\"circle\"},\"mode\":\"markers+text\",\"name\":\"Honduras\",\"orientation\":\"v\",\"showlegend\":true,\"text\":[2010.0,2016.0],\"x\":[3778.4619238786,5147.2451332568],\"xaxis\":\"x\",\"y\":[43.3,54.7],\"yaxis\":\"y\",\"type\":\"scatter\",\"textposition\":\"middle center\"},{\"hovertemplate\":\"<b>%{hovertext}</b><br><br>Country Name=Jamaica<br>GDP per capita=%{marker.size}<br>Percentage of Firms with female participation in Ownership (% of firms)=%{y}<br>Year=%{text}<extra></extra>\",\"hovertext\":[2010.0],\"legendgroup\":\"Jamaica\",\"marker\":{\"color\":\"#FF6692\",\"size\":40,\"sizemode\":\"area\",\"sizeref\":730.7307293770515,\"symbol\":\"circle\"},\"mode\":\"markers+text\",\"name\":\"Jamaica\",\"orientation\":\"v\",\"showlegend\":true,\"text\":[2010.0],\"x\":[7900.1994785027],\"xaxis\":\"x\",\"y\":[38.2],\"yaxis\":\"y\",\"type\":\"scatter\",\"textposition\":\"middle center\"},{\"hovertemplate\":\"<b>%{hovertext}</b><br><br>Country Name=St. Kitts and Nevis<br>GDP per capita=%{marker.size}<br>Percentage of Firms with female participation in Ownership (% of firms)=%{y}<br>Year=%{text}<extra></extra>\",\"hovertext\":[2010.0],\"legendgroup\":\"St. Kitts and Nevis\",\"marker\":{\"color\":\"#B6E880\",\"size\":40,\"sizemode\":\"area\",\"sizeref\":730.7307293770515,\"symbol\":\"circle\"},\"mode\":\"markers+text\",\"name\":\"St. Kitts and Nevis\",\"orientation\":\"v\",\"showlegend\":true,\"text\":[2010.0],\"x\":[22096.705204665297],\"xaxis\":\"x\",\"y\":[57.8],\"yaxis\":\"y\",\"type\":\"scatter\",\"textposition\":\"middle center\"},{\"hovertemplate\":\"<b>%{hovertext}</b><br><br>Country Name=St. Lucia<br>GDP per capita=%{marker.size}<br>Percentage of Firms with female participation in Ownership (% of firms)=%{y}<br>Year=%{text}<extra></extra>\",\"hovertext\":[2010.0],\"legendgroup\":\"St. Lucia\",\"marker\":{\"color\":\"#FF97FF\",\"size\":40,\"sizemode\":\"area\",\"sizeref\":730.7307293770515,\"symbol\":\"circle\"},\"mode\":\"markers+text\",\"name\":\"St. Lucia\",\"orientation\":\"v\",\"showlegend\":true,\"text\":[2010.0],\"x\":[12412.8775135974],\"xaxis\":\"x\",\"y\":[32.1],\"yaxis\":\"y\",\"type\":\"scatter\",\"textposition\":\"middle center\"},{\"hovertemplate\":\"<b>%{hovertext}</b><br><br>Country Name=Mexico<br>GDP per capita=%{marker.size}<br>Percentage of Firms with female participation in Ownership (% of firms)=%{y}<br>Year=%{text}<extra></extra>\",\"hovertext\":[2010.0],\"legendgroup\":\"Mexico\",\"marker\":{\"color\":\"#FECB52\",\"size\":40,\"sizemode\":\"area\",\"sizeref\":730.7307293770515,\"symbol\":\"circle\"},\"mode\":\"markers+text\",\"name\":\"Mexico\",\"orientation\":\"v\",\"showlegend\":true,\"text\":[2010.0],\"x\":[15260.6208214691],\"xaxis\":\"x\",\"y\":[25.7],\"yaxis\":\"y\",\"type\":\"scatter\",\"textposition\":\"middle center\"},{\"hovertemplate\":\"<b>%{hovertext}</b><br><br>Country Name=Nicaragua<br>GDP per capita=%{marker.size}<br>Percentage of Firms with female participation in Ownership (% of firms)=%{y}<br>Year=%{text}<extra></extra>\",\"hovertext\":[2010.0,2016.0],\"legendgroup\":\"Nicaragua\",\"marker\":{\"color\":\"#636efa\",\"size\":40,\"sizemode\":\"area\",\"sizeref\":730.7307293770515,\"symbol\":\"circle\"},\"mode\":\"markers+text\",\"name\":\"Nicaragua\",\"orientation\":\"v\",\"showlegend\":true,\"text\":[2010.0,2016.0],\"x\":[3981.0867206756,5694.0542874079],\"xaxis\":\"x\",\"y\":[61.9,35.8],\"yaxis\":\"y\",\"type\":\"scatter\",\"textposition\":\"middle center\"},{\"hovertemplate\":\"<b>%{hovertext}</b><br><br>Country Name=Panama<br>GDP per capita=%{marker.size}<br>Percentage of Firms with female participation in Ownership (% of firms)=%{y}<br>Year=%{text}<extra></extra>\",\"hovertext\":[2010.0],\"legendgroup\":\"Panama\",\"marker\":{\"color\":\"#EF553B\",\"size\":40,\"sizemode\":\"area\",\"sizeref\":730.7307293770515,\"symbol\":\"circle\"},\"mode\":\"markers+text\",\"name\":\"Panama\",\"orientation\":\"v\",\"showlegend\":true,\"text\":[2010.0],\"x\":[15153.510984506202],\"xaxis\":\"x\",\"y\":[24.7],\"yaxis\":\"y\",\"type\":\"scatter\",\"textposition\":\"middle center\"},{\"hovertemplate\":\"<b>%{hovertext}</b><br><br>Country Name=Peru<br>GDP per capita=%{marker.size}<br>Percentage of Firms with female participation in Ownership (% of firms)=%{y}<br>Year=%{text}<extra></extra>\",\"hovertext\":[2010.0,2017.0],\"legendgroup\":\"Peru\",\"marker\":{\"color\":\"#00cc96\",\"size\":40,\"sizemode\":\"area\",\"sizeref\":730.7307293770515,\"symbol\":\"circle\"},\"mode\":\"markers+text\",\"name\":\"Peru\",\"orientation\":\"v\",\"showlegend\":true,\"text\":[2010.0,2017.0],\"x\":[9730.4211039342,12506.5293750586],\"xaxis\":\"x\",\"y\":[28.7,56.6],\"yaxis\":\"y\",\"type\":\"scatter\",\"textposition\":\"middle center\"},{\"hovertemplate\":\"<b>%{hovertext}</b><br><br>Country Name=Paraguay<br>GDP per capita=%{marker.size}<br>Percentage of Firms with female participation in Ownership (% of firms)=%{y}<br>Year=%{text}<extra></extra>\",\"hovertext\":[2010.0,2017.0],\"legendgroup\":\"Paraguay\",\"marker\":{\"color\":\"#ab63fa\",\"size\":40,\"sizemode\":\"area\",\"sizeref\":730.7307293770515,\"symbol\":\"circle\"},\"mode\":\"markers+text\",\"name\":\"Paraguay\",\"orientation\":\"v\",\"showlegend\":true,\"text\":[2010.0,2017.0],\"x\":[10001.5304279296,12590.548443655],\"xaxis\":\"x\",\"y\":[51.6,66.2],\"yaxis\":\"y\",\"type\":\"scatter\",\"textposition\":\"middle center\"},{\"hovertemplate\":\"<b>%{hovertext}</b><br><br>Country Name=El Salvador<br>GDP per capita=%{marker.size}<br>Percentage of Firms with female participation in Ownership (% of firms)=%{y}<br>Year=%{text}<extra></extra>\",\"hovertext\":[2010.0,2016.0],\"legendgroup\":\"El Salvador\",\"marker\":{\"color\":\"#FFA15A\",\"size\":40,\"sizemode\":\"area\",\"sizeref\":730.7307293770515,\"symbol\":\"circle\"},\"mode\":\"markers+text\",\"name\":\"El Salvador\",\"orientation\":\"v\",\"showlegend\":true,\"text\":[2010.0,2016.0],\"x\":[6127.0767612596,8038.629794288299],\"xaxis\":\"x\",\"y\":[40.2,38.4],\"yaxis\":\"y\",\"type\":\"scatter\",\"textposition\":\"middle center\"},{\"hovertemplate\":\"<b>%{hovertext}</b><br><br>Country Name=Suriname<br>GDP per capita=%{marker.size}<br>Percentage of Firms with female participation in Ownership (% of firms)=%{y}<br>Year=%{text}<extra></extra>\",\"hovertext\":[2010.0,2018.0],\"legendgroup\":\"Suriname\",\"marker\":{\"color\":\"#19d3f3\",\"size\":40,\"sizemode\":\"area\",\"sizeref\":730.7307293770515,\"symbol\":\"circle\"},\"mode\":\"markers+text\",\"name\":\"Suriname\",\"orientation\":\"v\",\"showlegend\":true,\"text\":[2010.0,2018.0],\"x\":[13548.533216675902,19461.9765178867],\"xaxis\":\"x\",\"y\":[18.3,32.7],\"yaxis\":\"y\",\"type\":\"scatter\",\"textposition\":\"middle center\"},{\"hovertemplate\":\"<b>%{hovertext}</b><br><br>Country Name=Trinidad and Tobago<br>GDP per capita=%{marker.size}<br>Percentage of Firms with female participation in Ownership (% of firms)=%{y}<br>Year=%{text}<extra></extra>\",\"hovertext\":[2010.0],\"legendgroup\":\"Trinidad and Tobago\",\"marker\":{\"color\":\"#FF6692\",\"size\":40,\"sizemode\":\"area\",\"sizeref\":730.7307293770515,\"symbol\":\"circle\"},\"mode\":\"markers+text\",\"name\":\"Trinidad and Tobago\",\"orientation\":\"v\",\"showlegend\":true,\"text\":[2010.0],\"x\":[30528.893138099702],\"xaxis\":\"x\",\"y\":[45.1],\"yaxis\":\"y\",\"type\":\"scatter\",\"textposition\":\"middle center\"},{\"hovertemplate\":\"<b>%{hovertext}</b><br><br>Country Name=Uruguay<br>GDP per capita=%{marker.size}<br>Percentage of Firms with female participation in Ownership (% of firms)=%{y}<br>Year=%{text}<extra></extra>\",\"hovertext\":[2010.0,2017.0],\"legendgroup\":\"Uruguay\",\"marker\":{\"color\":\"#B6E880\",\"size\":40,\"sizemode\":\"area\",\"sizeref\":730.7307293770515,\"symbol\":\"circle\"},\"mode\":\"markers+text\",\"name\":\"Uruguay\",\"orientation\":\"v\",\"showlegend\":true,\"text\":[2010.0,2017.0],\"x\":[16817.0790492985,23009.8742286911],\"xaxis\":\"x\",\"y\":[23.1,37.0],\"yaxis\":\"y\",\"type\":\"scatter\",\"textposition\":\"middle center\"},{\"hovertemplate\":\"<b>%{hovertext}</b><br><br>Country Name=St. Vincent and the Grenadines<br>GDP per capita=%{marker.size}<br>Percentage of Firms with female participation in Ownership (% of firms)=%{y}<br>Year=%{text}<extra></extra>\",\"hovertext\":[2010.0],\"legendgroup\":\"St. Vincent and the Grenadines\",\"marker\":{\"color\":\"#FF97FF\",\"size\":40,\"sizemode\":\"area\",\"sizeref\":730.7307293770515,\"symbol\":\"circle\"},\"mode\":\"markers+text\",\"name\":\"St. Vincent and the Grenadines\",\"orientation\":\"v\",\"showlegend\":true,\"text\":[2010.0],\"x\":[10139.3502301021],\"xaxis\":\"x\",\"y\":[76.0],\"yaxis\":\"y\",\"type\":\"scatter\",\"textposition\":\"middle center\"},{\"hovertemplate\":\"<b>%{hovertext}</b><br><br>Country Name=Venezuela, RB<br>GDP per capita=%{marker.size}<br>Percentage of Firms with female participation in Ownership (% of firms)=%{y}<br>Year=%{text}<extra></extra>\",\"hovertext\":[2010.0],\"legendgroup\":\"Venezuela, RB\",\"marker\":{\"color\":\"#FECB52\",\"size\":40,\"sizemode\":\"area\",\"sizeref\":730.7307293770515,\"symbol\":\"circle\"},\"mode\":\"markers+text\",\"name\":\"Venezuela, RB\",\"orientation\":\"v\",\"showlegend\":true,\"text\":[2010.0],\"x\":[16740.3682415571],\"xaxis\":\"x\",\"y\":[30.7],\"yaxis\":\"y\",\"type\":\"scatter\",\"textposition\":\"middle center\"},{\"hovertemplate\":\"<b>%{hovertext}</b><br><br>Country Name=Yemen, Rep.<br>GDP per capita=%{marker.size}<br>Percentage of Firms with female participation in Ownership (% of firms)=%{y}<br>Year=%{text}<extra></extra>\",\"hovertext\":[2010.0,2013.0],\"legendgroup\":\"Yemen, Rep.\",\"marker\":{\"color\":\"#636efa\",\"size\":40,\"sizemode\":\"area\",\"sizeref\":730.7307293770515,\"symbol\":\"circle\"},\"mode\":\"markers+text\",\"name\":\"Yemen, Rep.\",\"orientation\":\"v\",\"showlegend\":true,\"text\":[2010.0,2013.0],\"x\":[4162.0886309111,3688.5194085236],\"xaxis\":\"x\",\"y\":[6.4,6.6],\"yaxis\":\"y\",\"type\":\"scatter\",\"textposition\":\"middle center\"},{\"hovertemplate\":\"<b>%{hovertext}</b><br><br>Country Name=Iraq<br>GDP per capita=%{marker.size}<br>Percentage of Firms with female participation in Ownership (% of firms)=%{y}<br>Year=%{text}<extra></extra>\",\"hovertext\":[2011.0],\"legendgroup\":\"Iraq\",\"marker\":{\"color\":\"#EF553B\",\"size\":40,\"sizemode\":\"area\",\"sizeref\":730.7307293770515,\"symbol\":\"circle\"},\"mode\":\"markers+text\",\"name\":\"Iraq\",\"orientation\":\"v\",\"showlegend\":true,\"text\":[2011.0],\"x\":[13515.5459272349],\"xaxis\":\"x\",\"y\":[6.8],\"yaxis\":\"y\",\"type\":\"scatter\",\"textposition\":\"middle center\"},{\"hovertemplate\":\"<b>%{hovertext}</b><br><br>Country Name=Sri Lanka<br>GDP per capita=%{marker.size}<br>Percentage of Firms with female participation in Ownership (% of firms)=%{y}<br>Year=%{text}<extra></extra>\",\"hovertext\":[2011.0],\"legendgroup\":\"Sri Lanka\",\"marker\":{\"color\":\"#00cc96\",\"size\":40,\"sizemode\":\"area\",\"sizeref\":730.7307293770515,\"symbol\":\"circle\"},\"mode\":\"markers+text\",\"name\":\"Sri Lanka\",\"orientation\":\"v\",\"showlegend\":true,\"text\":[2011.0],\"x\":[9007.7341986963],\"xaxis\":\"x\",\"y\":[26.1],\"yaxis\":\"y\",\"type\":\"scatter\",\"textposition\":\"middle center\"},{\"hovertemplate\":\"<b>%{hovertext}</b><br><br>Country Name=Bangladesh<br>GDP per capita=%{marker.size}<br>Percentage of Firms with female participation in Ownership (% of firms)=%{y}<br>Year=%{text}<extra></extra>\",\"hovertext\":[2013.0],\"legendgroup\":\"Bangladesh\",\"marker\":{\"color\":\"#ab63fa\",\"size\":40,\"sizemode\":\"area\",\"sizeref\":730.7307293770515,\"symbol\":\"circle\"},\"mode\":\"markers+text\",\"name\":\"Bangladesh\",\"orientation\":\"v\",\"showlegend\":true,\"text\":[2013.0],\"x\":[3143.5855027524],\"xaxis\":\"x\",\"y\":[12.7],\"yaxis\":\"y\",\"type\":\"scatter\",\"textposition\":\"middle center\"},{\"hovertemplate\":\"<b>%{hovertext}</b><br><br>Country Name=Djibouti<br>GDP per capita=%{marker.size}<br>Percentage of Firms with female participation in Ownership (% of firms)=%{y}<br>Year=%{text}<extra></extra>\",\"hovertext\":[2013.0],\"legendgroup\":\"Djibouti\",\"marker\":{\"color\":\"#FFA15A\",\"size\":40,\"sizemode\":\"area\",\"sizeref\":730.7307293770515,\"symbol\":\"circle\"},\"mode\":\"markers+text\",\"name\":\"Djibouti\",\"orientation\":\"v\",\"showlegend\":true,\"text\":[2013.0],\"x\":[4103.9412036626],\"xaxis\":\"x\",\"y\":[22.3],\"yaxis\":\"y\",\"type\":\"scatter\",\"textposition\":\"middle center\"},{\"hovertemplate\":\"<b>%{hovertext}</b><br><br>Country Name=Egypt, Arab Rep.<br>GDP per capita=%{marker.size}<br>Percentage of Firms with female participation in Ownership (% of firms)=%{y}<br>Year=%{text}<extra></extra>\",\"hovertext\":[2013.0,2016.0],\"legendgroup\":\"Egypt, Arab Rep.\",\"marker\":{\"color\":\"#19d3f3\",\"size\":40,\"sizemode\":\"area\",\"sizeref\":730.7307293770515,\"symbol\":\"circle\"},\"mode\":\"markers+text\",\"name\":\"Egypt, Arab Rep.\",\"orientation\":\"v\",\"showlegend\":true,\"text\":[2013.0,2016.0],\"x\":[11221.380385922099,11192.3730101321],\"xaxis\":\"x\",\"y\":[16.1,17.8],\"yaxis\":\"y\",\"type\":\"scatter\",\"textposition\":\"middle center\"},{\"hovertemplate\":\"<b>%{hovertext}</b><br><br>Country Name=Israel<br>GDP per capita=%{marker.size}<br>Percentage of Firms with female participation in Ownership (% of firms)=%{y}<br>Year=%{text}<extra></extra>\",\"hovertext\":[2013.0],\"legendgroup\":\"Israel\",\"marker\":{\"color\":\"#FF6692\",\"size\":40,\"sizemode\":\"area\",\"sizeref\":730.7307293770515,\"symbol\":\"circle\"},\"mode\":\"markers+text\",\"name\":\"Israel\",\"orientation\":\"v\",\"showlegend\":true,\"text\":[2013.0],\"x\":[34152.3044335602],\"xaxis\":\"x\",\"y\":[27.3],\"yaxis\":\"y\",\"type\":\"scatter\",\"textposition\":\"middle center\"},{\"hovertemplate\":\"<b>%{hovertext}</b><br><br>Country Name=Jordan<br>GDP per capita=%{marker.size}<br>Percentage of Firms with female participation in Ownership (% of firms)=%{y}<br>Year=%{text}<extra></extra>\",\"hovertext\":[2013.0,2019.0],\"legendgroup\":\"Jordan\",\"marker\":{\"color\":\"#B6E880\",\"size\":40,\"sizemode\":\"area\",\"sizeref\":730.7307293770515,\"symbol\":\"circle\"},\"mode\":\"markers+text\",\"name\":\"Jordan\",\"orientation\":\"v\",\"showlegend\":true,\"text\":[2013.0,2019.0],\"x\":[9322.302453864399,10497.2979196497],\"xaxis\":\"x\",\"y\":[15.7,22.6],\"yaxis\":\"y\",\"type\":\"scatter\",\"textposition\":\"middle center\"},{\"hovertemplate\":\"<b>%{hovertext}</b><br><br>Country Name=Lebanon<br>GDP per capita=%{marker.size}<br>Percentage of Firms with female participation in Ownership (% of firms)=%{y}<br>Year=%{text}<extra></extra>\",\"hovertext\":[2013.0,2019.0],\"legendgroup\":\"Lebanon\",\"marker\":{\"color\":\"#FF97FF\",\"size\":40,\"sizemode\":\"area\",\"sizeref\":730.7307293770515,\"symbol\":\"circle\"},\"mode\":\"markers+text\",\"name\":\"Lebanon\",\"orientation\":\"v\",\"showlegend\":true,\"text\":[2013.0,2019.0],\"x\":[14976.7806043393,15166.9797085934],\"xaxis\":\"x\",\"y\":[43.5,9.9],\"yaxis\":\"y\",\"type\":\"scatter\",\"textposition\":\"middle center\"},{\"hovertemplate\":\"<b>%{hovertext}</b><br><br>Country Name=Morocco<br>GDP per capita=%{marker.size}<br>Percentage of Firms with female participation in Ownership (% of firms)=%{y}<br>Year=%{text}<extra></extra>\",\"hovertext\":[2013.0,2019.0],\"legendgroup\":\"Morocco\",\"marker\":{\"color\":\"#FECB52\",\"size\":40,\"sizemode\":\"area\",\"sizeref\":730.7307293770515,\"symbol\":\"circle\"},\"mode\":\"markers+text\",\"name\":\"Morocco\",\"orientation\":\"v\",\"showlegend\":true,\"text\":[2013.0,2019.0],\"x\":[6916.0130317388,7856.2450573973],\"xaxis\":\"x\",\"y\":[31.3,16.1],\"yaxis\":\"y\",\"type\":\"scatter\",\"textposition\":\"middle center\"},{\"hovertemplate\":\"<b>%{hovertext}</b><br><br>Country Name=Nepal<br>GDP per capita=%{marker.size}<br>Percentage of Firms with female participation in Ownership (% of firms)=%{y}<br>Year=%{text}<extra></extra>\",\"hovertext\":[2013.0],\"legendgroup\":\"Nepal\",\"marker\":{\"color\":\"#636efa\",\"size\":40,\"sizemode\":\"area\",\"sizeref\":730.7307293770515,\"symbol\":\"circle\"},\"mode\":\"markers+text\",\"name\":\"Nepal\",\"orientation\":\"v\",\"showlegend\":true,\"text\":[2013.0],\"x\":[2702.2249626342],\"xaxis\":\"x\",\"y\":[21.8],\"yaxis\":\"y\",\"type\":\"scatter\",\"textposition\":\"middle center\"},{\"hovertemplate\":\"<b>%{hovertext}</b><br><br>Country Name=Pakistan<br>GDP per capita=%{marker.size}<br>Percentage of Firms with female participation in Ownership (% of firms)=%{y}<br>Year=%{text}<extra></extra>\",\"hovertext\":[2013.0],\"legendgroup\":\"Pakistan\",\"marker\":{\"color\":\"#EF553B\",\"size\":40,\"sizemode\":\"area\",\"sizeref\":730.7307293770515,\"symbol\":\"circle\"},\"mode\":\"markers+text\",\"name\":\"Pakistan\",\"orientation\":\"v\",\"showlegend\":true,\"text\":[2013.0],\"x\":[4103.6295635188],\"xaxis\":\"x\",\"y\":[11.8],\"yaxis\":\"y\",\"type\":\"scatter\",\"textposition\":\"middle center\"},{\"hovertemplate\":\"<b>%{hovertext}</b><br><br>Country Name=West Bank and Gaza<br>GDP per capita=%{marker.size}<br>Percentage of Firms with female participation in Ownership (% of firms)=%{y}<br>Year=%{text}<extra></extra>\",\"hovertext\":[2013.0,2019.0],\"legendgroup\":\"West Bank and Gaza\",\"marker\":{\"color\":\"#00cc96\",\"size\":40,\"sizemode\":\"area\",\"sizeref\":730.7307293770515,\"symbol\":\"circle\"},\"mode\":\"markers+text\",\"name\":\"West Bank and Gaza\",\"orientation\":\"v\",\"showlegend\":true,\"text\":[2013.0,2019.0],\"x\":[5371.6871002024,6509.5683354833],\"xaxis\":\"x\",\"y\":[10.7,6.0],\"yaxis\":\"y\",\"type\":\"scatter\",\"textposition\":\"middle center\"},{\"hovertemplate\":\"<b>%{hovertext}</b><br><br>Country Name=Tunisia<br>GDP per capita=%{marker.size}<br>Percentage of Firms with female participation in Ownership (% of firms)=%{y}<br>Year=%{text}<extra></extra>\",\"hovertext\":[2013.0],\"legendgroup\":\"Tunisia\",\"marker\":{\"color\":\"#ab63fa\",\"size\":40,\"sizemode\":\"area\",\"sizeref\":730.7307293770515,\"symbol\":\"circle\"},\"mode\":\"markers+text\",\"name\":\"Tunisia\",\"orientation\":\"v\",\"showlegend\":true,\"text\":[2013.0],\"x\":[10231.7263105005],\"xaxis\":\"x\",\"y\":[49.5],\"yaxis\":\"y\",\"type\":\"scatter\",\"textposition\":\"middle center\"},{\"hovertemplate\":\"<b>%{hovertext}</b><br><br>Country Name=Afghanistan<br>GDP per capita=%{marker.size}<br>Percentage of Firms with female participation in Ownership (% of firms)=%{y}<br>Year=%{text}<extra></extra>\",\"hovertext\":[2014.0],\"legendgroup\":\"Afghanistan\",\"marker\":{\"color\":\"#FFA15A\",\"size\":40,\"sizemode\":\"area\",\"sizeref\":730.7307293770515,\"symbol\":\"circle\"},\"mode\":\"markers+text\",\"name\":\"Afghanistan\",\"orientation\":\"v\",\"showlegend\":true,\"text\":[2014.0],\"x\":[2069.4240216736],\"xaxis\":\"x\",\"y\":[2.2],\"yaxis\":\"y\",\"type\":\"scatter\",\"textposition\":\"middle center\"},{\"hovertemplate\":\"<b>%{hovertext}</b><br><br>Country Name=India<br>GDP per capita=%{marker.size}<br>Percentage of Firms with female participation in Ownership (% of firms)=%{y}<br>Year=%{text}<extra></extra>\",\"hovertext\":[2014.0],\"legendgroup\":\"India\",\"marker\":{\"color\":\"#19d3f3\",\"size\":40,\"sizemode\":\"area\",\"sizeref\":730.7307293770515,\"symbol\":\"circle\"},\"mode\":\"markers+text\",\"name\":\"India\",\"orientation\":\"v\",\"showlegend\":true,\"text\":[2014.0],\"x\":[5233.8823425151],\"xaxis\":\"x\",\"y\":[10.7],\"yaxis\":\"y\",\"type\":\"scatter\",\"textposition\":\"middle center\"},{\"hovertemplate\":\"<b>%{hovertext}</b><br><br>Country Name=Bhutan<br>GDP per capita=%{marker.size}<br>Percentage of Firms with female participation in Ownership (% of firms)=%{y}<br>Year=%{text}<extra></extra>\",\"hovertext\":[2015.0],\"legendgroup\":\"Bhutan\",\"marker\":{\"color\":\"#FF6692\",\"size\":40,\"sizemode\":\"area\",\"sizeref\":730.7307293770515,\"symbol\":\"circle\"},\"mode\":\"markers+text\",\"name\":\"Bhutan\",\"orientation\":\"v\",\"showlegend\":true,\"text\":[2015.0],\"x\":[9500.6507156498],\"xaxis\":\"x\",\"y\":[43.3],\"yaxis\":\"y\",\"type\":\"scatter\",\"textposition\":\"middle center\"},{\"hovertemplate\":\"<b>%{hovertext}</b><br><br>Country Name=Malta<br>GDP per capita=%{marker.size}<br>Percentage of Firms with female participation in Ownership (% of firms)=%{y}<br>Year=%{text}<extra></extra>\",\"hovertext\":[2019.0],\"legendgroup\":\"Malta\",\"marker\":{\"color\":\"#B6E880\",\"size\":40,\"sizemode\":\"area\",\"sizeref\":730.7307293770515,\"symbol\":\"circle\"},\"mode\":\"markers+text\",\"name\":\"Malta\",\"orientation\":\"v\",\"showlegend\":true,\"text\":[2019.0],\"x\":[46766.766680131295],\"xaxis\":\"x\",\"y\":[46.0],\"yaxis\":\"y\",\"type\":\"scatter\",\"textposition\":\"middle center\"}],                        {\"template\":{\"data\":{\"bar\":[{\"error_x\":{\"color\":\"#f2f5fa\"},\"error_y\":{\"color\":\"#f2f5fa\"},\"marker\":{\"line\":{\"color\":\"rgb(17,17,17)\",\"width\":0.5},\"pattern\":{\"fillmode\":\"overlay\",\"size\":10,\"solidity\":0.2}},\"type\":\"bar\"}],\"barpolar\":[{\"marker\":{\"line\":{\"color\":\"rgb(17,17,17)\",\"width\":0.5},\"pattern\":{\"fillmode\":\"overlay\",\"size\":10,\"solidity\":0.2}},\"type\":\"barpolar\"}],\"carpet\":[{\"aaxis\":{\"endlinecolor\":\"#A2B1C6\",\"gridcolor\":\"#506784\",\"linecolor\":\"#506784\",\"minorgridcolor\":\"#506784\",\"startlinecolor\":\"#A2B1C6\"},\"baxis\":{\"endlinecolor\":\"#A2B1C6\",\"gridcolor\":\"#506784\",\"linecolor\":\"#506784\",\"minorgridcolor\":\"#506784\",\"startlinecolor\":\"#A2B1C6\"},\"type\":\"carpet\"}],\"choropleth\":[{\"colorbar\":{\"outlinewidth\":0,\"ticks\":\"\"},\"type\":\"choropleth\"}],\"contour\":[{\"colorbar\":{\"outlinewidth\":0,\"ticks\":\"\"},\"colorscale\":[[0.0,\"#0d0887\"],[0.1111111111111111,\"#46039f\"],[0.2222222222222222,\"#7201a8\"],[0.3333333333333333,\"#9c179e\"],[0.4444444444444444,\"#bd3786\"],[0.5555555555555556,\"#d8576b\"],[0.6666666666666666,\"#ed7953\"],[0.7777777777777778,\"#fb9f3a\"],[0.8888888888888888,\"#fdca26\"],[1.0,\"#f0f921\"]],\"type\":\"contour\"}],\"contourcarpet\":[{\"colorbar\":{\"outlinewidth\":0,\"ticks\":\"\"},\"type\":\"contourcarpet\"}],\"heatmap\":[{\"colorbar\":{\"outlinewidth\":0,\"ticks\":\"\"},\"colorscale\":[[0.0,\"#0d0887\"],[0.1111111111111111,\"#46039f\"],[0.2222222222222222,\"#7201a8\"],[0.3333333333333333,\"#9c179e\"],[0.4444444444444444,\"#bd3786\"],[0.5555555555555556,\"#d8576b\"],[0.6666666666666666,\"#ed7953\"],[0.7777777777777778,\"#fb9f3a\"],[0.8888888888888888,\"#fdca26\"],[1.0,\"#f0f921\"]],\"type\":\"heatmap\"}],\"heatmapgl\":[{\"colorbar\":{\"outlinewidth\":0,\"ticks\":\"\"},\"colorscale\":[[0.0,\"#0d0887\"],[0.1111111111111111,\"#46039f\"],[0.2222222222222222,\"#7201a8\"],[0.3333333333333333,\"#9c179e\"],[0.4444444444444444,\"#bd3786\"],[0.5555555555555556,\"#d8576b\"],[0.6666666666666666,\"#ed7953\"],[0.7777777777777778,\"#fb9f3a\"],[0.8888888888888888,\"#fdca26\"],[1.0,\"#f0f921\"]],\"type\":\"heatmapgl\"}],\"histogram\":[{\"marker\":{\"pattern\":{\"fillmode\":\"overlay\",\"size\":10,\"solidity\":0.2}},\"type\":\"histogram\"}],\"histogram2d\":[{\"colorbar\":{\"outlinewidth\":0,\"ticks\":\"\"},\"colorscale\":[[0.0,\"#0d0887\"],[0.1111111111111111,\"#46039f\"],[0.2222222222222222,\"#7201a8\"],[0.3333333333333333,\"#9c179e\"],[0.4444444444444444,\"#bd3786\"],[0.5555555555555556,\"#d8576b\"],[0.6666666666666666,\"#ed7953\"],[0.7777777777777778,\"#fb9f3a\"],[0.8888888888888888,\"#fdca26\"],[1.0,\"#f0f921\"]],\"type\":\"histogram2d\"}],\"histogram2dcontour\":[{\"colorbar\":{\"outlinewidth\":0,\"ticks\":\"\"},\"colorscale\":[[0.0,\"#0d0887\"],[0.1111111111111111,\"#46039f\"],[0.2222222222222222,\"#7201a8\"],[0.3333333333333333,\"#9c179e\"],[0.4444444444444444,\"#bd3786\"],[0.5555555555555556,\"#d8576b\"],[0.6666666666666666,\"#ed7953\"],[0.7777777777777778,\"#fb9f3a\"],[0.8888888888888888,\"#fdca26\"],[1.0,\"#f0f921\"]],\"type\":\"histogram2dcontour\"}],\"mesh3d\":[{\"colorbar\":{\"outlinewidth\":0,\"ticks\":\"\"},\"type\":\"mesh3d\"}],\"parcoords\":[{\"line\":{\"colorbar\":{\"outlinewidth\":0,\"ticks\":\"\"}},\"type\":\"parcoords\"}],\"pie\":[{\"automargin\":true,\"type\":\"pie\"}],\"scatter\":[{\"marker\":{\"line\":{\"color\":\"#283442\"}},\"type\":\"scatter\"}],\"scatter3d\":[{\"line\":{\"colorbar\":{\"outlinewidth\":0,\"ticks\":\"\"}},\"marker\":{\"colorbar\":{\"outlinewidth\":0,\"ticks\":\"\"}},\"type\":\"scatter3d\"}],\"scattercarpet\":[{\"marker\":{\"colorbar\":{\"outlinewidth\":0,\"ticks\":\"\"}},\"type\":\"scattercarpet\"}],\"scattergeo\":[{\"marker\":{\"colorbar\":{\"outlinewidth\":0,\"ticks\":\"\"}},\"type\":\"scattergeo\"}],\"scattergl\":[{\"marker\":{\"line\":{\"color\":\"#283442\"}},\"type\":\"scattergl\"}],\"scattermapbox\":[{\"marker\":{\"colorbar\":{\"outlinewidth\":0,\"ticks\":\"\"}},\"type\":\"scattermapbox\"}],\"scatterpolar\":[{\"marker\":{\"colorbar\":{\"outlinewidth\":0,\"ticks\":\"\"}},\"type\":\"scatterpolar\"}],\"scatterpolargl\":[{\"marker\":{\"colorbar\":{\"outlinewidth\":0,\"ticks\":\"\"}},\"type\":\"scatterpolargl\"}],\"scatterternary\":[{\"marker\":{\"colorbar\":{\"outlinewidth\":0,\"ticks\":\"\"}},\"type\":\"scatterternary\"}],\"surface\":[{\"colorbar\":{\"outlinewidth\":0,\"ticks\":\"\"},\"colorscale\":[[0.0,\"#0d0887\"],[0.1111111111111111,\"#46039f\"],[0.2222222222222222,\"#7201a8\"],[0.3333333333333333,\"#9c179e\"],[0.4444444444444444,\"#bd3786\"],[0.5555555555555556,\"#d8576b\"],[0.6666666666666666,\"#ed7953\"],[0.7777777777777778,\"#fb9f3a\"],[0.8888888888888888,\"#fdca26\"],[1.0,\"#f0f921\"]],\"type\":\"surface\"}],\"table\":[{\"cells\":{\"fill\":{\"color\":\"#506784\"},\"line\":{\"color\":\"rgb(17,17,17)\"}},\"header\":{\"fill\":{\"color\":\"#2a3f5f\"},\"line\":{\"color\":\"rgb(17,17,17)\"}},\"type\":\"table\"}]},\"layout\":{\"annotationdefaults\":{\"arrowcolor\":\"#f2f5fa\",\"arrowhead\":0,\"arrowwidth\":1},\"autotypenumbers\":\"strict\",\"coloraxis\":{\"colorbar\":{\"outlinewidth\":0,\"ticks\":\"\"}},\"colorscale\":{\"diverging\":[[0,\"#8e0152\"],[0.1,\"#c51b7d\"],[0.2,\"#de77ae\"],[0.3,\"#f1b6da\"],[0.4,\"#fde0ef\"],[0.5,\"#f7f7f7\"],[0.6,\"#e6f5d0\"],[0.7,\"#b8e186\"],[0.8,\"#7fbc41\"],[0.9,\"#4d9221\"],[1,\"#276419\"]],\"sequential\":[[0.0,\"#0d0887\"],[0.1111111111111111,\"#46039f\"],[0.2222222222222222,\"#7201a8\"],[0.3333333333333333,\"#9c179e\"],[0.4444444444444444,\"#bd3786\"],[0.5555555555555556,\"#d8576b\"],[0.6666666666666666,\"#ed7953\"],[0.7777777777777778,\"#fb9f3a\"],[0.8888888888888888,\"#fdca26\"],[1.0,\"#f0f921\"]],\"sequentialminus\":[[0.0,\"#0d0887\"],[0.1111111111111111,\"#46039f\"],[0.2222222222222222,\"#7201a8\"],[0.3333333333333333,\"#9c179e\"],[0.4444444444444444,\"#bd3786\"],[0.5555555555555556,\"#d8576b\"],[0.6666666666666666,\"#ed7953\"],[0.7777777777777778,\"#fb9f3a\"],[0.8888888888888888,\"#fdca26\"],[1.0,\"#f0f921\"]]},\"colorway\":[\"#636efa\",\"#EF553B\",\"#00cc96\",\"#ab63fa\",\"#FFA15A\",\"#19d3f3\",\"#FF6692\",\"#B6E880\",\"#FF97FF\",\"#FECB52\"],\"font\":{\"color\":\"#f2f5fa\"},\"geo\":{\"bgcolor\":\"rgb(17,17,17)\",\"lakecolor\":\"rgb(17,17,17)\",\"landcolor\":\"rgb(17,17,17)\",\"showlakes\":true,\"showland\":true,\"subunitcolor\":\"#506784\"},\"hoverlabel\":{\"align\":\"left\"},\"hovermode\":\"closest\",\"mapbox\":{\"style\":\"dark\"},\"paper_bgcolor\":\"rgb(17,17,17)\",\"plot_bgcolor\":\"rgb(17,17,17)\",\"polar\":{\"angularaxis\":{\"gridcolor\":\"#506784\",\"linecolor\":\"#506784\",\"ticks\":\"\"},\"bgcolor\":\"rgb(17,17,17)\",\"radialaxis\":{\"gridcolor\":\"#506784\",\"linecolor\":\"#506784\",\"ticks\":\"\"}},\"scene\":{\"xaxis\":{\"backgroundcolor\":\"rgb(17,17,17)\",\"gridcolor\":\"#506784\",\"gridwidth\":2,\"linecolor\":\"#506784\",\"showbackground\":true,\"ticks\":\"\",\"zerolinecolor\":\"#C8D4E3\"},\"yaxis\":{\"backgroundcolor\":\"rgb(17,17,17)\",\"gridcolor\":\"#506784\",\"gridwidth\":2,\"linecolor\":\"#506784\",\"showbackground\":true,\"ticks\":\"\",\"zerolinecolor\":\"#C8D4E3\"},\"zaxis\":{\"backgroundcolor\":\"rgb(17,17,17)\",\"gridcolor\":\"#506784\",\"gridwidth\":2,\"linecolor\":\"#506784\",\"showbackground\":true,\"ticks\":\"\",\"zerolinecolor\":\"#C8D4E3\"}},\"shapedefaults\":{\"line\":{\"color\":\"#f2f5fa\"}},\"sliderdefaults\":{\"bgcolor\":\"#C8D4E3\",\"bordercolor\":\"rgb(17,17,17)\",\"borderwidth\":1,\"tickwidth\":0},\"ternary\":{\"aaxis\":{\"gridcolor\":\"#506784\",\"linecolor\":\"#506784\",\"ticks\":\"\"},\"baxis\":{\"gridcolor\":\"#506784\",\"linecolor\":\"#506784\",\"ticks\":\"\"},\"bgcolor\":\"rgb(17,17,17)\",\"caxis\":{\"gridcolor\":\"#506784\",\"linecolor\":\"#506784\",\"ticks\":\"\"}},\"title\":{\"x\":0.05},\"updatemenudefaults\":{\"bgcolor\":\"#506784\",\"borderwidth\":0},\"xaxis\":{\"automargin\":true,\"gridcolor\":\"#283442\",\"linecolor\":\"#506784\",\"ticks\":\"\",\"title\":{\"standoff\":15},\"zerolinecolor\":\"#283442\",\"zerolinewidth\":2},\"yaxis\":{\"automargin\":true,\"gridcolor\":\"#283442\",\"linecolor\":\"#506784\",\"ticks\":\"\",\"title\":{\"standoff\":15},\"zerolinecolor\":\"#283442\",\"zerolinewidth\":2}}},\"xaxis\":{\"anchor\":\"y\",\"domain\":[0.0,1.0],\"title\":{\"text\":\"GDP per capita\"}},\"yaxis\":{\"anchor\":\"x\",\"domain\":[0.0,1.0],\"title\":{\"text\":\"Percentage of Firms with female participation in Ownership (% of firms)\"}},\"legend\":{\"title\":{\"text\":\"Country Name\"},\"tracegroupgap\":0,\"itemsizing\":\"constant\"},\"title\":{\"text\":\"Relation between Firms with female participation in Ownership (% of firms)  and GDP per capita\"},\"height\":700},                        {\"responsive\": true}                    ).then(function(){\n",
              "                            \n",
              "var gd = document.getElementById('05c631c4-765e-44c3-afea-29de19245da1');\n",
              "var x = new MutationObserver(function (mutations, observer) {{\n",
              "        var display = window.getComputedStyle(gd).display;\n",
              "        if (!display || display === 'none') {{\n",
              "            console.log([gd, 'removed!']);\n",
              "            Plotly.purge(gd);\n",
              "            observer.disconnect();\n",
              "        }}\n",
              "}});\n",
              "\n",
              "// Listen for the removal of the full notebook cells\n",
              "var notebookContainer = gd.closest('#notebook-container');\n",
              "if (notebookContainer) {{\n",
              "    x.observe(notebookContainer, {childList: true});\n",
              "}}\n",
              "\n",
              "// Listen for the clearing of the current output cell\n",
              "var outputEl = gd.closest('.output');\n",
              "if (outputEl) {{\n",
              "    x.observe(outputEl, {childList: true});\n",
              "}}\n",
              "\n",
              "                        })                };                            </script>        </div>\n",
              "</body>\n",
              "</html>"
            ]
          },
          "metadata": {}
        }
      ]
    },
    {
      "cell_type": "markdown",
      "source": [
        "The following are the observations:\n",
        "-\tThe participation of females in ownership is relatively high in comparison to the graph of northern hemisphere.\n",
        "-\tThere are many countries with less GDP per capita and a lower number of female contributions in ownerships of firms.\n",
        "-\tEven with less Economic Growth the countries in southern hemisphere are giving more and more opportunities to women leaders.\n"
      ],
      "metadata": {
        "id": "lnNhoXshwE1T"
      }
    },
    {
      "cell_type": "markdown",
      "source": [
        "## **Conclusion and Limitation**\n",
        "-\tFrom the above observations we can conclude that Women’s leadership and their participation in the workforce across the globe has been significant over the last decade.\n",
        "-\tIt can be said that Women’s leadership is the sole factor for the economic growth of a country but there are several countries which are growing due to these factors prominently.\n",
        "-\tSome might argue that these results are due to special circumstances in diverse countries that made it possible for women to emerge or that women leaders are simply benefiting from economies that were bound to rebound. However, there is reason to believe that these female heads do play an important role in the growth of the economy. Both explanations could be at play. The important takeaway here is that female leaders are associated with economic outcomes that suggest that they may be better able to unlock the benefits of diversity at the country level. \n",
        "-\tThis analysis shows that women in countries with low economies are getting more opportunities to rise and contribute on the economic front whereas the countries which are developed has given less opportunities.\n",
        "-\tIn the upcoming future, it can be said that impact of women leadership will be grow significantly. Furthermore, Empowering women in the economy and closing gender gaps in the world of work are key to achieving the 2030 Agenda for Sustainable Development.\n"
      ],
      "metadata": {
        "id": "bM62l1j5wLUK"
      }
    }
  ]
}